{
 "cells": [
  {
   "cell_type": "code",
   "execution_count": 1,
   "metadata": {},
   "outputs": [],
   "source": [
    "# TODO:\n",
    "# gspread\n",
    "# unittest\n",
    "# PSQL; JSON datatype\n",
    "# Move ratings_history to separate storage (for PSQL)\n",
    "# rating_better & rating_worse over time (are the restaurants better/worse after I went?)"
   ]
  },
  {
   "cell_type": "code",
   "execution_count": 2,
   "metadata": {},
   "outputs": [],
   "source": [
    "# date_visited_rating = ratings_history[date_visited.year][date_visited.month-1][1]\n",
    "# most_recent_rating = ratings_history[max(ratings_history.keys())][-1][1]"
   ]
  },
  {
   "cell_type": "code",
   "execution_count": 3,
   "metadata": {},
   "outputs": [],
   "source": [
    "# Imports\n",
    "import ast\n",
    "import bs4\n",
    "import collections\n",
    "import copy\n",
    "import datetime\n",
    "import json\n",
    "import pandas\n",
    "import random\n",
    "import re\n",
    "import requests\n",
    "import sqlalchemy\n",
    "import sqlite3\n",
    "import time\n",
    "import urllib\n",
    "import IPython"
   ]
  },
  {
   "cell_type": "markdown",
   "metadata": {},
   "source": [
    "### Define"
   ]
  },
  {
   "cell_type": "code",
   "execution_count": 4,
   "metadata": {},
   "outputs": [],
   "source": [
    "def get_yelp_biz_id(soup):\n",
    "    yelp_biz_id = soup.find('meta', {'name': 'yelp-biz-id'})\n",
    "    yelp_biz_id = yelp_biz_id['content']\n",
    "    return yelp_biz_id    # ybid does not need to serialized because it is not a metric_name"
   ]
  },
  {
   "cell_type": "code",
   "execution_count": 5,
   "metadata": {},
   "outputs": [],
   "source": [
    "def get_yelp_alias(soup):\n",
    "    # TODO: test that input_yelp_alias == scraped_yelp_alias; url may get re-routed\n",
    "    yelp_alias = soup.find('meta', {'property': 'og:url'})\n",
    "    yelp_alias = yelp_alias['content'].split('/')[-1]\n",
    "    return yelp_alias"
   ]
  },
  {
   "cell_type": "code",
   "execution_count": 6,
   "metadata": {},
   "outputs": [],
   "source": [
    "def get_is_closed(soup):\n",
    "    is_closed = 'CLOSED' in soup.title.text\n",
    "    return is_closed"
   ]
  },
  {
   "cell_type": "code",
   "execution_count": 7,
   "metadata": {},
   "outputs": [],
   "source": [
    "def get_business_name(soup):\n",
    "    business_name = soup.find('h1', {'class': 'biz-page-title'})\n",
    "    business_name = business_name.text.strip()\n",
    "    return business_name"
   ]
  },
  {
   "cell_type": "code",
   "execution_count": 8,
   "metadata": {},
   "outputs": [],
   "source": [
    "def get_rating(soup):\n",
    "    rating = soup.find('div', {'class': 'i-stars'})\n",
    "    rating = rating['title'].split()[0]\n",
    "    rating = float(rating)\n",
    "    return rating"
   ]
  },
  {
   "cell_type": "code",
   "execution_count": 9,
   "metadata": {},
   "outputs": [],
   "source": [
    "def get_review_count(soup):\n",
    "    review_count = soup.find('span', {'class': 'review-count rating-qualifier'})\n",
    "    review_count = review_count.text.strip().split()[0]\n",
    "    review_count = int(review_count)\n",
    "    return review_count"
   ]
  },
  {
   "cell_type": "code",
   "execution_count": 10,
   "metadata": {},
   "outputs": [],
   "source": [
    "def get_ratings_history(soup):\n",
    "    ratings_history = soup.find('div', {'id': 'rating-details-modal-content'})\n",
    "    ratings_history = ratings_history['data-monthly-ratings']\n",
    "    ratings_history = json.loads(ratings_history)\n",
    "    ratings_history = {int(k):v for k,v in ratings_history.items()}\n",
    "    return ratings_history"
   ]
  },
  {
   "cell_type": "code",
   "execution_count": 11,
   "metadata": {},
   "outputs": [],
   "source": [
    "def get_ratings_distribution(soup):\n",
    "    # Convert HTML table to len-10 string list\n",
    "    text = soup.find('table', {'class': 'histogram'})\n",
    "    text = text.text.replace('\\n', ' ')\n",
    "    text = re.sub(' {2,}', ',', text)    # Replace 2+ whitespace with 1 comma\n",
    "    text = text.strip(',').split(',')\n",
    "    \n",
    "    # Convert string list to dictionary\n",
    "    ratings = [text[i] for i in range(len(text)) if i%2 == 0]\n",
    "    ratings = [i.split()[0] for i in ratings]\n",
    "    ratings = [int(i) for i in ratings]\n",
    "    counts  = [text[i] for i in range(len(text)) if i%2 != 0]\n",
    "    counts  = [int(i) for i in counts]\n",
    "    ratings_distribution = {'rating' : ratings, 'count' : counts}\n",
    "    return ratings_distribution"
   ]
  },
  {
   "cell_type": "code",
   "execution_count": 12,
   "metadata": {},
   "outputs": [],
   "source": [
    "def get_price_range(soup):\n",
    "    price_range = soup.find('span', {'class': 'business-attribute price-range'})\n",
    "    price_range = price_range.text.count('$')\n",
    "    return price_range"
   ]
  },
  {
   "cell_type": "code",
   "execution_count": 13,
   "metadata": {},
   "outputs": [],
   "source": [
    "def get_category_list(soup):\n",
    "    category_list = soup.find('span', {'class': 'category-str-list'})\n",
    "    category_list = category_list.contents\n",
    "    category_list = [i.string for i in category_list]\n",
    "    category_list = [i for i in category_list if '\\n' not in i]\n",
    "    return category_list"
   ]
  },
  {
   "cell_type": "code",
   "execution_count": 14,
   "metadata": {},
   "outputs": [],
   "source": [
    "def get_address(soup):\n",
    "    address = soup.find('address')\n",
    "    address = copy.copy(address)    # Make a copy to prevent modifying the original document\n",
    "    for tag in address.find_all('br'):\n",
    "        tag.replace_with('\\n')\n",
    "    address = address.text.strip().split('\\n')\n",
    "    address = ', '.join(address)\n",
    "    return address"
   ]
  },
  {
   "cell_type": "code",
   "execution_count": 15,
   "metadata": {
    "scrolled": true
   },
   "outputs": [],
   "source": [
    "def get_neighborhood_list(soup):\n",
    "    neighborhood_list = soup.find('span', {'class': 'neighborhood-str-list'})\n",
    "    if neighborhood_list is not None:\n",
    "        neighborhood_list = neighborhood_list.text\n",
    "        neighborhood_list = neighborhood_list.strip().split(', ')\n",
    "    return neighborhood_list"
   ]
  },
  {
   "cell_type": "markdown",
   "metadata": {},
   "source": [
    "### Testing"
   ]
  },
  {
   "cell_type": "code",
   "execution_count": 16,
   "metadata": {},
   "outputs": [],
   "source": [
    "yelp_alias = 'ample-hills-creamery-jersey-city'"
   ]
  },
  {
   "cell_type": "code",
   "execution_count": 17,
   "metadata": {},
   "outputs": [
    {
     "data": {
      "text/plain": [
       "'ample-hills-creamery-jersey-city'"
      ]
     },
     "execution_count": 17,
     "metadata": {},
     "output_type": "execute_result"
    }
   ],
   "source": [
    "urllib.parse.quote_plus(yelp_alias)"
   ]
  },
  {
   "cell_type": "code",
   "execution_count": 18,
   "metadata": {},
   "outputs": [],
   "source": [
    "url = 'https://www.yelp.com/biz/{}'.format(yelp_alias)\n",
    "r = requests.get(url, timeout=5)\n",
    "soup = bs4.BeautifulSoup(r.text, 'lxml')"
   ]
  },
  {
   "cell_type": "code",
   "execution_count": 19,
   "metadata": {},
   "outputs": [
    {
     "data": {
      "text/plain": [
       "'ample-hills-creamery-jersey-city'"
      ]
     },
     "execution_count": 19,
     "metadata": {},
     "output_type": "execute_result"
    }
   ],
   "source": [
    "yelp_alias = soup.find('meta', {'property': 'og:url'})\n",
    "yelp_alias = yelp_alias['content'].split('/')[-1]\n",
    "yelp_alias"
   ]
  },
  {
   "cell_type": "code",
   "execution_count": 20,
   "metadata": {},
   "outputs": [
    {
     "data": {
      "text/plain": [
       "False"
      ]
     },
     "execution_count": 20,
     "metadata": {},
     "output_type": "execute_result"
    }
   ],
   "source": [
    "is_closed = 'CLOSED' in soup.title.text\n",
    "is_closed"
   ]
  },
  {
   "cell_type": "code",
   "execution_count": 21,
   "metadata": {},
   "outputs": [
    {
     "data": {
      "text/plain": [
       "2"
      ]
     },
     "execution_count": 21,
     "metadata": {},
     "output_type": "execute_result"
    }
   ],
   "source": [
    "price_range = soup.find('span', {'class': 'business-attribute price-range'})\n",
    "price_range = price_range.text.count('$')\n",
    "price_range"
   ]
  },
  {
   "cell_type": "code",
   "execution_count": 22,
   "metadata": {},
   "outputs": [
    {
     "data": {
      "text/plain": [
       "4.5"
      ]
     },
     "execution_count": 22,
     "metadata": {},
     "output_type": "execute_result"
    }
   ],
   "source": [
    "rating = soup.find('div', {'class': 'i-stars'})\n",
    "rating = rating['title'].split()[0]\n",
    "rating = float(rating)\n",
    "rating"
   ]
  },
  {
   "cell_type": "code",
   "execution_count": 23,
   "metadata": {},
   "outputs": [
    {
     "data": {
      "text/plain": [
       "'200 Greene St, Jersey City, NJ 07302'"
      ]
     },
     "execution_count": 23,
     "metadata": {},
     "output_type": "execute_result"
    }
   ],
   "source": [
    "address = soup.find('address')\n",
    "address = copy.copy(address)    # Make a copy to prevent modifying the original document\n",
    "for tag in address.find_all('br'):\n",
    "    tag.replace_with('\\n')\n",
    "address = address.text.strip().split('\\n')\n",
    "address = ', '.join(address)\n",
    "address"
   ]
  },
  {
   "cell_type": "code",
   "execution_count": null,
   "metadata": {},
   "outputs": [],
   "source": []
  },
  {
   "cell_type": "markdown",
   "metadata": {},
   "source": [
    "### Check"
   ]
  },
  {
   "cell_type": "code",
   "execution_count": 39,
   "metadata": {},
   "outputs": [],
   "source": [
    "# engine = sqlalchemy.create_engine('postgresql://localhost/postgres')\n",
    "# tables = pandas.read_sql_query(\"\"\"\n",
    "# select * from pg_catalog.pg_tables\n",
    "# where schemaname = 'public'\n",
    "# and tablename = 'yelp_raw'\n",
    "# \"\"\", engine)\n",
    "# tables"
   ]
  },
  {
   "cell_type": "code",
   "execution_count": 40,
   "metadata": {},
   "outputs": [
    {
     "data": {
      "text/html": [
       "<div>\n",
       "<style scoped>\n",
       "    .dataframe tbody tr th:only-of-type {\n",
       "        vertical-align: middle;\n",
       "    }\n",
       "\n",
       "    .dataframe tbody tr th {\n",
       "        vertical-align: top;\n",
       "    }\n",
       "\n",
       "    .dataframe thead th {\n",
       "        text-align: right;\n",
       "    }\n",
       "</style>\n",
       "<table border=\"1\" class=\"dataframe\">\n",
       "  <thead>\n",
       "    <tr style=\"text-align: right;\">\n",
       "      <th></th>\n",
       "      <th>type</th>\n",
       "      <th>name</th>\n",
       "      <th>tbl_name</th>\n",
       "      <th>rootpage</th>\n",
       "      <th>sql</th>\n",
       "    </tr>\n",
       "  </thead>\n",
       "  <tbody>\n",
       "  </tbody>\n",
       "</table>\n",
       "</div>"
      ],
      "text/plain": [
       "Empty DataFrame\n",
       "Columns: [type, name, tbl_name, rootpage, sql]\n",
       "Index: []"
      ]
     },
     "execution_count": 40,
     "metadata": {},
     "output_type": "execute_result"
    }
   ],
   "source": [
    "connection = sqlite3.connect('restaurants.db')\n",
    "tables = pandas.read_sql_query(\"\"\"\n",
    "select * from sqlite_master\n",
    "where type = 'table'\n",
    "\"\"\", connection)\n",
    "tables"
   ]
  },
  {
   "cell_type": "code",
   "execution_count": 41,
   "metadata": {},
   "outputs": [],
   "source": [
    "if 'yelp_raw' in tables['tbl_name'].values:\n",
    "    yelp_raw = pandas.read_sql_query('select * from yelp_raw', connection)\n",
    "    yelp_raw['insert_datetime'] = pandas.to_datetime(yelp_raw['insert_datetime'])\n",
    "    yelp_raw['insert_date'] = yelp_raw['insert_datetime'].dt.date\n",
    "    count_by_insert_date = yelp_raw.groupby('insert_date').count()['yelp_biz_id']\n",
    "    count_by_insert_date = count_by_insert_date.rename('count').reset_index()\n",
    "    IPython.core.display.display(count_by_insert_date)"
   ]
  },
  {
   "cell_type": "markdown",
   "metadata": {},
   "source": [
    "### Run"
   ]
  },
  {
   "cell_type": "code",
   "execution_count": 27,
   "metadata": {},
   "outputs": [],
   "source": [
    "input_data = pandas.read_csv('input_data.csv')"
   ]
  },
  {
   "cell_type": "code",
   "execution_count": 28,
   "metadata": {},
   "outputs": [
    {
     "data": {
      "text/html": [
       "<div>\n",
       "<style scoped>\n",
       "    .dataframe tbody tr th:only-of-type {\n",
       "        vertical-align: middle;\n",
       "    }\n",
       "\n",
       "    .dataframe tbody tr th {\n",
       "        vertical-align: top;\n",
       "    }\n",
       "\n",
       "    .dataframe thead th {\n",
       "        text-align: right;\n",
       "    }\n",
       "</style>\n",
       "<table border=\"1\" class=\"dataframe\">\n",
       "  <thead>\n",
       "    <tr style=\"text-align: right;\">\n",
       "      <th></th>\n",
       "      <th>date_added</th>\n",
       "      <th>date_visited</th>\n",
       "      <th>business_name</th>\n",
       "      <th>yelp_alias</th>\n",
       "      <th>neighborhood</th>\n",
       "    </tr>\n",
       "  </thead>\n",
       "  <tbody>\n",
       "    <tr>\n",
       "      <th>0</th>\n",
       "      <td>-</td>\n",
       "      <td>6/21/2014</td>\n",
       "      <td>Muk Eun Ji</td>\n",
       "      <td>muk-eun-ji-new-york</td>\n",
       "      <td>Koreatown</td>\n",
       "    </tr>\n",
       "    <tr>\n",
       "      <th>1</th>\n",
       "      <td>-</td>\n",
       "      <td>7/20/2015</td>\n",
       "      <td>RamenCo</td>\n",
       "      <td>ramenco-new-york-2</td>\n",
       "      <td>Financial District</td>\n",
       "    </tr>\n",
       "    <tr>\n",
       "      <th>2</th>\n",
       "      <td>-</td>\n",
       "      <td>7/24/2015</td>\n",
       "      <td>BLT Bar &amp; Grill</td>\n",
       "      <td>blt-bar-and-grill-new-york</td>\n",
       "      <td>Financial District</td>\n",
       "    </tr>\n",
       "    <tr>\n",
       "      <th>3</th>\n",
       "      <td>-</td>\n",
       "      <td>7/24/2015</td>\n",
       "      <td>Bill’s Bar &amp; Burger Downtown</td>\n",
       "      <td>bills-bar-and-burger-downtown-new-york</td>\n",
       "      <td>Financial District</td>\n",
       "    </tr>\n",
       "    <tr>\n",
       "      <th>4</th>\n",
       "      <td>-</td>\n",
       "      <td>8/21/2015</td>\n",
       "      <td>Ruchi</td>\n",
       "      <td>ruchi-new-york-2</td>\n",
       "      <td>Financial District</td>\n",
       "    </tr>\n",
       "  </tbody>\n",
       "</table>\n",
       "</div>"
      ],
      "text/plain": [
       "  date_added date_visited                 business_name  \\\n",
       "0          -    6/21/2014                    Muk Eun Ji   \n",
       "1          -    7/20/2015                       RamenCo   \n",
       "2          -    7/24/2015               BLT Bar & Grill   \n",
       "3          -    7/24/2015  Bill’s Bar & Burger Downtown   \n",
       "4          -    8/21/2015                         Ruchi   \n",
       "\n",
       "                               yelp_alias        neighborhood  \n",
       "0                     muk-eun-ji-new-york           Koreatown  \n",
       "1                      ramenco-new-york-2  Financial District  \n",
       "2              blt-bar-and-grill-new-york  Financial District  \n",
       "3  bills-bar-and-burger-downtown-new-york  Financial District  \n",
       "4                        ruchi-new-york-2  Financial District  "
      ]
     },
     "execution_count": 28,
     "metadata": {},
     "output_type": "execute_result"
    }
   ],
   "source": [
    "input_data.head()"
   ]
  },
  {
   "cell_type": "code",
   "execution_count": 29,
   "metadata": {},
   "outputs": [],
   "source": [
    "# I did not add aliases for some food carts & bakeries; drop them for now\n",
    "input_data = input_data[input_data['yelp_alias'].notna()]\n",
    "input_data = input_data.reset_index(drop=True)\n",
    "\n",
    "# I use '-' to represent N/A; convert to None\n",
    "input_data['date_added'] = input_data['date_added'].apply(lambda x: None if x == '-' else x)\n",
    "input_data['date_added'] = pandas.to_datetime(input_data['date_added'])\n",
    "input_data['date_visited'] = pandas.to_datetime(input_data['date_visited'])"
   ]
  },
  {
   "cell_type": "code",
   "execution_count": 30,
   "metadata": {},
   "outputs": [],
   "source": [
    "# TODO: proxies & IP pool?\n",
    "class Connector:\n",
    "    \"\"\" This class handles how to make a connection to a URL. \"\"\"\n",
    "    def __init__(self):\n",
    "        self.attempt_limit = 3    # Attempt to connect N times\n",
    "        self.sleep = 5            # Sleep N seconds after failing to connect\n",
    "    \n",
    "    def make_soup(self, url):\n",
    "        \"\"\" Given a URL, attempt N times to connect.\n",
    "            If successful, return soup object. \"\"\"\n",
    "        # Attempt to connect\n",
    "        attempt = 1\n",
    "        while attempt <= self.attempt_limit:\n",
    "            # If connection is successful, sleep for a random interval & break\n",
    "            try:\n",
    "                r = requests.get(url, timeout=5)\n",
    "                rand_sleep = random.uniform(1, 3)\n",
    "                time.sleep(rand_sleep)\n",
    "                break\n",
    "            # Otherwise, sleep for a long time & try again\n",
    "            except requests.exceptions.ReadTimeout:\n",
    "                print('\\nCould not connect, sleeping {} seconds...'.format(self.sleep))\n",
    "                attempt += 1\n",
    "                time.sleep(self.sleep)\n",
    "                self.sleep *= 2\n",
    "        \n",
    "        # If connected, make soup\n",
    "        if attempt > self.attempt_limit:\n",
    "            raise Exception('Failed to connect after {} attempts'.format(self.attempt_limit))\n",
    "        soup = bs4.BeautifulSoup(r.text, 'lxml')\n",
    "        return soup"
   ]
  },
  {
   "cell_type": "code",
   "execution_count": 31,
   "metadata": {},
   "outputs": [],
   "source": [
    "def dict_to_df(data_i):\n",
    "    \"\"\" Convert dictionary to melted DataFrame format.\n",
    "        data_i represents a single row in pivoted data. \"\"\"\n",
    "    # Serialize metric_values (TODO: remove when migrating to PSQL?)\n",
    "    for key, value in data_i.items():\n",
    "        data_i[key] = json.dumps(value)\n",
    "    \n",
    "    # Melt\n",
    "    data_i = pandas.Series(data_i).to_frame().T\n",
    "    data_i = data_i.melt()\n",
    "    data_i.columns = ['metric_name', 'metric_value']\n",
    "    data_i.insert(0, 'yelp_biz_id', get_yelp_biz_id(soup))\n",
    "    data_i.insert(0, 'insert_datetime', datetime.datetime.now())\n",
    "    return data_i"
   ]
  },
  {
   "cell_type": "code",
   "execution_count": 32,
   "metadata": {
    "scrolled": true
   },
   "outputs": [
    {
     "name": "stdout",
     "output_type": "stream",
     "text": [
      "0 1 2 3 4 5 6 7 8 9 10 11 12 13 14 15 16 17 18 19 20 21 22 23 24 25 26 27 28 29 30 31 32 33 34 35 36 37 38 39 40 41 42 43 44 45 46 47 48 49 50 51 52 53 54 55 56 57 58 59 60 61 62 63 64 65 66 67 68 69 70 71 72 73 74 75 76 77 78 79 80 81 82 83 84 85 86 87 88 89 90 91 92 93 94 95 96 97 98 99 100 101 102 103 104 105 106 107 108 109 110 111 112 113 114 115 116 117 118 119 120 121 122 123 124 125 CPU times: user 38 s, sys: 1.03 s, total: 39 s\n",
      "Wall time: 11min 24s\n"
     ]
    }
   ],
   "source": [
    "%%time\n",
    "# Iterate\n",
    "ybid_list = []    # Build list of yelp_biz_id, for input data\n",
    "new_data = pandas.DataFrame()\n",
    "connector = Connector()\n",
    "for index, row in input_data.iterrows():\n",
    "    # Set up\n",
    "    print(index, end=\" \")\n",
    "    business_name = row['business_name']\n",
    "    yelp_alias = row['yelp_alias']\n",
    "    \n",
    "    # Attempt to make soup\n",
    "    url = 'https://www.yelp.com/biz/{}'.format(yelp_alias)\n",
    "    soup = connector.make_soup(url)\n",
    "    \n",
    "    # Get data\n",
    "    ybid_list.append(get_yelp_biz_id(soup))\n",
    "    new_data_i = collections.OrderedDict()\n",
    "    new_data_i['yelp_alias'] = get_yelp_alias(soup)\n",
    "    new_data_i['is_closed'] = get_is_closed(soup)\n",
    "    new_data_i['business_name'] = get_business_name(soup)\n",
    "    new_data_i['rating'] = get_rating(soup)\n",
    "    new_data_i['review_count'] = get_review_count(soup)\n",
    "    new_data_i['ratings_history'] = get_ratings_history(soup)\n",
    "    new_data_i['price_range'] = get_price_range(soup)\n",
    "    new_data_i['category_list'] = get_category_list(soup)\n",
    "    new_data_i['address'] = get_address(soup)\n",
    "    new_data_i['neighborhood_list'] = get_neighborhood_list(soup)\n",
    "    \n",
    "    # Format & append\n",
    "    new_data_i = dict_to_df(new_data_i)\n",
    "    new_data = new_data.append(new_data_i, ignore_index=True)\n",
    "print()"
   ]
  },
  {
   "cell_type": "code",
   "execution_count": null,
   "metadata": {},
   "outputs": [],
   "source": []
  },
  {
   "cell_type": "markdown",
   "metadata": {},
   "source": [
    "### input_data"
   ]
  },
  {
   "cell_type": "code",
   "execution_count": 33,
   "metadata": {},
   "outputs": [],
   "source": [
    "# TODO: new_data vs. latest_data process should occur for both yelp_raw and input_data\n",
    "# TODO: move this process to dvs"
   ]
  },
  {
   "cell_type": "code",
   "execution_count": 34,
   "metadata": {},
   "outputs": [],
   "source": [
    "input_data['yelp_biz_id'] = pandas.Series(ybid_list)\n",
    "input_data = input_data[['date_added', 'date_visited',\n",
    "                         'business_name', 'yelp_alias', 'yelp_biz_id',\n",
    "                         'neighborhood']]"
   ]
  },
  {
   "cell_type": "code",
   "execution_count": 35,
   "metadata": {},
   "outputs": [
    {
     "name": "stdout",
     "output_type": "stream",
     "text": [
      "(input_data does not exist, creating the table...)\n"
     ]
    }
   ],
   "source": [
    "if 'input_data' in tables['tbl_name'].values:\n",
    "    # Check if any the newest input data differs from what is in the database\n",
    "    latest_data = pandas.read_sql_query(\"\"\"\n",
    "    select * from input_data\n",
    "    \"\"\", connection)\n",
    "    latest_data = pandas.concat([latest_data, input_data, input_data])\n",
    "    latest_data = latest_data.drop_duplicates(keep=False)\n",
    "    if latest_data.shape[0] != 0:\n",
    "        raise Exception('There appears to be a problem.')\n",
    "else:\n",
    "    print('(input_data does not exist, creating the table...)')\n",
    "    input_data.to_sql('input_data', connection, if_exists='replace', index=False)"
   ]
  },
  {
   "cell_type": "code",
   "execution_count": null,
   "metadata": {},
   "outputs": [],
   "source": []
  },
  {
   "cell_type": "markdown",
   "metadata": {},
   "source": [
    "### yelp_raw"
   ]
  },
  {
   "cell_type": "code",
   "execution_count": 42,
   "metadata": {},
   "outputs": [],
   "source": [
    "# def incremental(new_data, latest_data)? "
   ]
  },
  {
   "cell_type": "code",
   "execution_count": 43,
   "metadata": {},
   "outputs": [
    {
     "name": "stdout",
     "output_type": "stream",
     "text": [
      "(yelp_raw does not exist, writing full data...)\n"
     ]
    }
   ],
   "source": [
    "if 'yelp_raw' in tables['tbl_name'].values:\n",
    "    # If the table exists, reduce new data to only the incremental data\n",
    "    print('(yelp_raw exists, creating incremental data)')\n",
    "    latest_data = pandas.read_sql_query(\"\"\"\n",
    "    with last_updated as (\n",
    "        select\n",
    "        yelp_biz_id, metric_name,\n",
    "        max(insert_datetime) as last_update_datetime\n",
    "        from yelp_raw\n",
    "        group by 1,2 order by 1,2\n",
    "    )\n",
    "    select a.*\n",
    "    from yelp_raw a\n",
    "    join last_updated b\n",
    "    on a.yelp_biz_id = b.yelp_biz_id\n",
    "    and a.metric_name = b.metric_name\n",
    "    and a.insert_datetime = b.last_update_datetime\n",
    "    order by 1,2,3\n",
    "    \"\"\", connection)\n",
    "    \n",
    "    # Find which metric values changed from the latest data to the newest data\n",
    "    # (Only metric values that changed get written to the database)\n",
    "    incr_data = new_data.merge(latest_data, how='outer',\n",
    "                             on=['yelp_biz_id', 'metric_name'], suffixes=['_new', '_latest'])\n",
    "    incr_data = incr_data[incr_data['metric_value_new'] != incr_data['metric_value_latest']]\n",
    "    incr_data = incr_data[['insert_datetime_new', 'yelp_biz_id',\n",
    "                           'metric_name', 'metric_value_new']]\n",
    "    incr_data.columns = new_data.columns\n",
    "else:\n",
    "    print('(yelp_raw does not exist, writing full data...)')\n",
    "    new_data.to_sql('yelp_raw', connection, if_exists='append', index=False)"
   ]
  },
  {
   "cell_type": "code",
   "execution_count": null,
   "metadata": {},
   "outputs": [],
   "source": []
  },
  {
   "cell_type": "markdown",
   "metadata": {},
   "source": [
    "### Read from DB"
   ]
  },
  {
   "cell_type": "code",
   "execution_count": 45,
   "metadata": {},
   "outputs": [],
   "source": [
    "data = pandas.read_sql_query(\"\"\"\n",
    "with last_updated as (\n",
    "    select\n",
    "    yelp_biz_id, metric_name,\n",
    "    max(insert_datetime) as last_update_datetime\n",
    "    from yelp_raw\n",
    "    group by 1,2 order by 1,2\n",
    ")\n",
    "select a.*\n",
    "from yelp_raw a\n",
    "join last_updated b\n",
    "on a.yelp_biz_id = b.yelp_biz_id\n",
    "and a.metric_name = b.metric_name\n",
    "and a.insert_datetime = b.last_update_datetime\n",
    "order by 1,2,3\n",
    "\"\"\", connection)"
   ]
  },
  {
   "cell_type": "code",
   "execution_count": 46,
   "metadata": {},
   "outputs": [
    {
     "data": {
      "text/html": [
       "<div>\n",
       "<style scoped>\n",
       "    .dataframe tbody tr th:only-of-type {\n",
       "        vertical-align: middle;\n",
       "    }\n",
       "\n",
       "    .dataframe tbody tr th {\n",
       "        vertical-align: top;\n",
       "    }\n",
       "\n",
       "    .dataframe thead th {\n",
       "        text-align: right;\n",
       "    }\n",
       "</style>\n",
       "<table border=\"1\" class=\"dataframe\">\n",
       "  <thead>\n",
       "    <tr style=\"text-align: right;\">\n",
       "      <th></th>\n",
       "      <th>insert_datetime</th>\n",
       "      <th>yelp_biz_id</th>\n",
       "      <th>metric_name</th>\n",
       "      <th>metric_value</th>\n",
       "    </tr>\n",
       "  </thead>\n",
       "  <tbody>\n",
       "    <tr>\n",
       "      <th>0</th>\n",
       "      <td>2018-09-04 21:11:45.402122</td>\n",
       "      <td>g_F9WJJpRFB40oPJdoD2uA</td>\n",
       "      <td>address</td>\n",
       "      <td>\"34 W 32nd St, Fl 1, New York, NY 10001\"</td>\n",
       "    </tr>\n",
       "    <tr>\n",
       "      <th>1</th>\n",
       "      <td>2018-09-04 21:11:45.402122</td>\n",
       "      <td>g_F9WJJpRFB40oPJdoD2uA</td>\n",
       "      <td>business_name</td>\n",
       "      <td>\"Muk Eun Ji\"</td>\n",
       "    </tr>\n",
       "    <tr>\n",
       "      <th>2</th>\n",
       "      <td>2018-09-04 21:11:45.402122</td>\n",
       "      <td>g_F9WJJpRFB40oPJdoD2uA</td>\n",
       "      <td>category_list</td>\n",
       "      <td>[\"Korean\", \"Barbeque\"]</td>\n",
       "    </tr>\n",
       "    <tr>\n",
       "      <th>3</th>\n",
       "      <td>2018-09-04 21:11:45.402122</td>\n",
       "      <td>g_F9WJJpRFB40oPJdoD2uA</td>\n",
       "      <td>is_closed</td>\n",
       "      <td>true</td>\n",
       "    </tr>\n",
       "    <tr>\n",
       "      <th>4</th>\n",
       "      <td>2018-09-04 21:11:45.402122</td>\n",
       "      <td>g_F9WJJpRFB40oPJdoD2uA</td>\n",
       "      <td>neighborhood_list</td>\n",
       "      <td>[\"Koreatown\", \"Midtown West\"]</td>\n",
       "    </tr>\n",
       "    <tr>\n",
       "      <th>5</th>\n",
       "      <td>2018-09-04 21:11:45.402122</td>\n",
       "      <td>g_F9WJJpRFB40oPJdoD2uA</td>\n",
       "      <td>price_range</td>\n",
       "      <td>2</td>\n",
       "    </tr>\n",
       "    <tr>\n",
       "      <th>6</th>\n",
       "      <td>2018-09-04 21:11:45.402122</td>\n",
       "      <td>g_F9WJJpRFB40oPJdoD2uA</td>\n",
       "      <td>rating</td>\n",
       "      <td>3.5</td>\n",
       "    </tr>\n",
       "    <tr>\n",
       "      <th>7</th>\n",
       "      <td>2018-09-04 21:11:45.402122</td>\n",
       "      <td>g_F9WJJpRFB40oPJdoD2uA</td>\n",
       "      <td>ratings_history</td>\n",
       "      <td>{\"2016\": [[0, 4.0], [1, 3.5], [2, 3.0], [3, 3....</td>\n",
       "    </tr>\n",
       "    <tr>\n",
       "      <th>8</th>\n",
       "      <td>2018-09-04 21:11:45.402122</td>\n",
       "      <td>g_F9WJJpRFB40oPJdoD2uA</td>\n",
       "      <td>review_count</td>\n",
       "      <td>365</td>\n",
       "    </tr>\n",
       "    <tr>\n",
       "      <th>9</th>\n",
       "      <td>2018-09-04 21:11:45.402122</td>\n",
       "      <td>g_F9WJJpRFB40oPJdoD2uA</td>\n",
       "      <td>yelp_alias</td>\n",
       "      <td>\"muk-eun-ji-new-york\"</td>\n",
       "    </tr>\n",
       "  </tbody>\n",
       "</table>\n",
       "</div>"
      ],
      "text/plain": [
       "              insert_datetime             yelp_biz_id        metric_name  \\\n",
       "0  2018-09-04 21:11:45.402122  g_F9WJJpRFB40oPJdoD2uA            address   \n",
       "1  2018-09-04 21:11:45.402122  g_F9WJJpRFB40oPJdoD2uA      business_name   \n",
       "2  2018-09-04 21:11:45.402122  g_F9WJJpRFB40oPJdoD2uA      category_list   \n",
       "3  2018-09-04 21:11:45.402122  g_F9WJJpRFB40oPJdoD2uA          is_closed   \n",
       "4  2018-09-04 21:11:45.402122  g_F9WJJpRFB40oPJdoD2uA  neighborhood_list   \n",
       "5  2018-09-04 21:11:45.402122  g_F9WJJpRFB40oPJdoD2uA        price_range   \n",
       "6  2018-09-04 21:11:45.402122  g_F9WJJpRFB40oPJdoD2uA             rating   \n",
       "7  2018-09-04 21:11:45.402122  g_F9WJJpRFB40oPJdoD2uA    ratings_history   \n",
       "8  2018-09-04 21:11:45.402122  g_F9WJJpRFB40oPJdoD2uA       review_count   \n",
       "9  2018-09-04 21:11:45.402122  g_F9WJJpRFB40oPJdoD2uA         yelp_alias   \n",
       "\n",
       "                                        metric_value  \n",
       "0           \"34 W 32nd St, Fl 1, New York, NY 10001\"  \n",
       "1                                       \"Muk Eun Ji\"  \n",
       "2                             [\"Korean\", \"Barbeque\"]  \n",
       "3                                               true  \n",
       "4                      [\"Koreatown\", \"Midtown West\"]  \n",
       "5                                                  2  \n",
       "6                                                3.5  \n",
       "7  {\"2016\": [[0, 4.0], [1, 3.5], [2, 3.0], [3, 3....  \n",
       "8                                                365  \n",
       "9                              \"muk-eun-ji-new-york\"  "
      ]
     },
     "execution_count": 46,
     "metadata": {},
     "output_type": "execute_result"
    }
   ],
   "source": [
    "data.head(10)"
   ]
  },
  {
   "cell_type": "code",
   "execution_count": 47,
   "metadata": {},
   "outputs": [],
   "source": [
    "data['metric_value'] = data['metric_value'].apply(json.loads)"
   ]
  },
  {
   "cell_type": "code",
   "execution_count": 48,
   "metadata": {},
   "outputs": [
    {
     "data": {
      "text/html": [
       "<div>\n",
       "<style scoped>\n",
       "    .dataframe tbody tr th:only-of-type {\n",
       "        vertical-align: middle;\n",
       "    }\n",
       "\n",
       "    .dataframe tbody tr th {\n",
       "        vertical-align: top;\n",
       "    }\n",
       "\n",
       "    .dataframe thead th {\n",
       "        text-align: right;\n",
       "    }\n",
       "</style>\n",
       "<table border=\"1\" class=\"dataframe\">\n",
       "  <thead>\n",
       "    <tr style=\"text-align: right;\">\n",
       "      <th></th>\n",
       "      <th>insert_datetime</th>\n",
       "      <th>yelp_biz_id</th>\n",
       "      <th>metric_name</th>\n",
       "      <th>metric_value</th>\n",
       "    </tr>\n",
       "  </thead>\n",
       "  <tbody>\n",
       "    <tr>\n",
       "      <th>0</th>\n",
       "      <td>2018-09-04 21:11:45.402122</td>\n",
       "      <td>g_F9WJJpRFB40oPJdoD2uA</td>\n",
       "      <td>address</td>\n",
       "      <td>34 W 32nd St, Fl 1, New York, NY 10001</td>\n",
       "    </tr>\n",
       "    <tr>\n",
       "      <th>1</th>\n",
       "      <td>2018-09-04 21:11:45.402122</td>\n",
       "      <td>g_F9WJJpRFB40oPJdoD2uA</td>\n",
       "      <td>business_name</td>\n",
       "      <td>Muk Eun Ji</td>\n",
       "    </tr>\n",
       "    <tr>\n",
       "      <th>2</th>\n",
       "      <td>2018-09-04 21:11:45.402122</td>\n",
       "      <td>g_F9WJJpRFB40oPJdoD2uA</td>\n",
       "      <td>category_list</td>\n",
       "      <td>[Korean, Barbeque]</td>\n",
       "    </tr>\n",
       "    <tr>\n",
       "      <th>3</th>\n",
       "      <td>2018-09-04 21:11:45.402122</td>\n",
       "      <td>g_F9WJJpRFB40oPJdoD2uA</td>\n",
       "      <td>is_closed</td>\n",
       "      <td>True</td>\n",
       "    </tr>\n",
       "    <tr>\n",
       "      <th>4</th>\n",
       "      <td>2018-09-04 21:11:45.402122</td>\n",
       "      <td>g_F9WJJpRFB40oPJdoD2uA</td>\n",
       "      <td>neighborhood_list</td>\n",
       "      <td>[Koreatown, Midtown West]</td>\n",
       "    </tr>\n",
       "    <tr>\n",
       "      <th>5</th>\n",
       "      <td>2018-09-04 21:11:45.402122</td>\n",
       "      <td>g_F9WJJpRFB40oPJdoD2uA</td>\n",
       "      <td>price_range</td>\n",
       "      <td>2</td>\n",
       "    </tr>\n",
       "    <tr>\n",
       "      <th>6</th>\n",
       "      <td>2018-09-04 21:11:45.402122</td>\n",
       "      <td>g_F9WJJpRFB40oPJdoD2uA</td>\n",
       "      <td>rating</td>\n",
       "      <td>3.5</td>\n",
       "    </tr>\n",
       "    <tr>\n",
       "      <th>7</th>\n",
       "      <td>2018-09-04 21:11:45.402122</td>\n",
       "      <td>g_F9WJJpRFB40oPJdoD2uA</td>\n",
       "      <td>ratings_history</td>\n",
       "      <td>{'2016': [[0, 4.0], [1, 3.5], [2, 3.0], [3, 3....</td>\n",
       "    </tr>\n",
       "    <tr>\n",
       "      <th>8</th>\n",
       "      <td>2018-09-04 21:11:45.402122</td>\n",
       "      <td>g_F9WJJpRFB40oPJdoD2uA</td>\n",
       "      <td>review_count</td>\n",
       "      <td>365</td>\n",
       "    </tr>\n",
       "    <tr>\n",
       "      <th>9</th>\n",
       "      <td>2018-09-04 21:11:45.402122</td>\n",
       "      <td>g_F9WJJpRFB40oPJdoD2uA</td>\n",
       "      <td>yelp_alias</td>\n",
       "      <td>muk-eun-ji-new-york</td>\n",
       "    </tr>\n",
       "  </tbody>\n",
       "</table>\n",
       "</div>"
      ],
      "text/plain": [
       "              insert_datetime             yelp_biz_id        metric_name  \\\n",
       "0  2018-09-04 21:11:45.402122  g_F9WJJpRFB40oPJdoD2uA            address   \n",
       "1  2018-09-04 21:11:45.402122  g_F9WJJpRFB40oPJdoD2uA      business_name   \n",
       "2  2018-09-04 21:11:45.402122  g_F9WJJpRFB40oPJdoD2uA      category_list   \n",
       "3  2018-09-04 21:11:45.402122  g_F9WJJpRFB40oPJdoD2uA          is_closed   \n",
       "4  2018-09-04 21:11:45.402122  g_F9WJJpRFB40oPJdoD2uA  neighborhood_list   \n",
       "5  2018-09-04 21:11:45.402122  g_F9WJJpRFB40oPJdoD2uA        price_range   \n",
       "6  2018-09-04 21:11:45.402122  g_F9WJJpRFB40oPJdoD2uA             rating   \n",
       "7  2018-09-04 21:11:45.402122  g_F9WJJpRFB40oPJdoD2uA    ratings_history   \n",
       "8  2018-09-04 21:11:45.402122  g_F9WJJpRFB40oPJdoD2uA       review_count   \n",
       "9  2018-09-04 21:11:45.402122  g_F9WJJpRFB40oPJdoD2uA         yelp_alias   \n",
       "\n",
       "                                        metric_value  \n",
       "0             34 W 32nd St, Fl 1, New York, NY 10001  \n",
       "1                                         Muk Eun Ji  \n",
       "2                                 [Korean, Barbeque]  \n",
       "3                                               True  \n",
       "4                          [Koreatown, Midtown West]  \n",
       "5                                                  2  \n",
       "6                                                3.5  \n",
       "7  {'2016': [[0, 4.0], [1, 3.5], [2, 3.0], [3, 3....  \n",
       "8                                                365  \n",
       "9                                muk-eun-ji-new-york  "
      ]
     },
     "execution_count": 48,
     "metadata": {},
     "output_type": "execute_result"
    }
   ],
   "source": [
    "data.head(10)"
   ]
  },
  {
   "cell_type": "code",
   "execution_count": 49,
   "metadata": {},
   "outputs": [],
   "source": [
    "data = data.pivot(index='yelp_biz_id', columns='metric_name', values='metric_value')"
   ]
  },
  {
   "cell_type": "code",
   "execution_count": 50,
   "metadata": {},
   "outputs": [
    {
     "data": {
      "text/html": [
       "<div>\n",
       "<style scoped>\n",
       "    .dataframe tbody tr th:only-of-type {\n",
       "        vertical-align: middle;\n",
       "    }\n",
       "\n",
       "    .dataframe tbody tr th {\n",
       "        vertical-align: top;\n",
       "    }\n",
       "\n",
       "    .dataframe thead th {\n",
       "        text-align: right;\n",
       "    }\n",
       "</style>\n",
       "<table border=\"1\" class=\"dataframe\">\n",
       "  <thead>\n",
       "    <tr style=\"text-align: right;\">\n",
       "      <th>metric_name</th>\n",
       "      <th>address</th>\n",
       "      <th>business_name</th>\n",
       "      <th>category_list</th>\n",
       "      <th>is_closed</th>\n",
       "      <th>neighborhood_list</th>\n",
       "      <th>price_range</th>\n",
       "      <th>rating</th>\n",
       "      <th>ratings_history</th>\n",
       "      <th>review_count</th>\n",
       "      <th>yelp_alias</th>\n",
       "    </tr>\n",
       "    <tr>\n",
       "      <th>yelp_biz_id</th>\n",
       "      <th></th>\n",
       "      <th></th>\n",
       "      <th></th>\n",
       "      <th></th>\n",
       "      <th></th>\n",
       "      <th></th>\n",
       "      <th></th>\n",
       "      <th></th>\n",
       "      <th></th>\n",
       "      <th></th>\n",
       "    </tr>\n",
       "  </thead>\n",
       "  <tbody>\n",
       "    <tr>\n",
       "      <th>-7b17IgC8MNVWDM-JV0-Tw</th>\n",
       "      <td>9 E 53rd St, New York, NY 10022</td>\n",
       "      <td>Burger Heaven</td>\n",
       "      <td>[Burgers, Salad, Sandwiches]</td>\n",
       "      <td>False</td>\n",
       "      <td>[Midtown East]</td>\n",
       "      <td>2</td>\n",
       "      <td>3</td>\n",
       "      <td>{'2016': [[0, 2.0], [1, 2.0], [2, 2.0], [3, 2....</td>\n",
       "      <td>206</td>\n",
       "      <td>burger-heaven-new-york</td>\n",
       "    </tr>\n",
       "    <tr>\n",
       "      <th>-lgNzAEyFr8LCTuBTWnAMg</th>\n",
       "      <td>47 W 55th St, New York, NY 10019</td>\n",
       "      <td>Dim Sum Palace</td>\n",
       "      <td>[Dim Sum, Seafood, Noodles]</td>\n",
       "      <td>False</td>\n",
       "      <td>[Midtown West]</td>\n",
       "      <td>2</td>\n",
       "      <td>4</td>\n",
       "      <td>{'2017': [[6, 4.5], [7, 3.5], [8, 4.0], [9, 3....</td>\n",
       "      <td>157</td>\n",
       "      <td>dim-sum-palace-new-york-7</td>\n",
       "    </tr>\n",
       "    <tr>\n",
       "      <th>0087AC_NnFRtC0c9FsB9pw</th>\n",
       "      <td>17 Waverly Pl, New York, NY 10003</td>\n",
       "      <td>The Boil</td>\n",
       "      <td>[Cajun/Creole, Seafood]</td>\n",
       "      <td>False</td>\n",
       "      <td>[Greenwich Village]</td>\n",
       "      <td>2</td>\n",
       "      <td>4</td>\n",
       "      <td>{'2016': [[4, 4.5], [5, 4.5], [6, 4.5], [7, 4....</td>\n",
       "      <td>561</td>\n",
       "      <td>the-boil-new-york-5</td>\n",
       "    </tr>\n",
       "    <tr>\n",
       "      <th>0CjK3esfpFcxIopebzjFxA</th>\n",
       "      <td>9 Pell St, New York, NY 10013</td>\n",
       "      <td>Joe’s Shanghai</td>\n",
       "      <td>[Shanghainese, Seafood, Venues &amp; Event Spaces]</td>\n",
       "      <td>False</td>\n",
       "      <td>[Chinatown, Civic Center]</td>\n",
       "      <td>2</td>\n",
       "      <td>4</td>\n",
       "      <td>{'2016': [[0, 4.0], [1, 3.5], [2, 4.0], [3, 3....</td>\n",
       "      <td>5333</td>\n",
       "      <td>joes-shanghai-new-york-2</td>\n",
       "    </tr>\n",
       "    <tr>\n",
       "      <th>0LpWRWQx8Agm-mZtsOQ5gg</th>\n",
       "      <td>40 Wall St, New York, NY 10005</td>\n",
       "      <td>Neapolitan Express</td>\n",
       "      <td>[Pizza, Italian]</td>\n",
       "      <td>False</td>\n",
       "      <td>[Financial District]</td>\n",
       "      <td>2</td>\n",
       "      <td>3.5</td>\n",
       "      <td>{'2016': [[0, 3.0], [1, 3.0], [2, 3.0], [3, 4....</td>\n",
       "      <td>159</td>\n",
       "      <td>neapolitan-express-new-york-4</td>\n",
       "    </tr>\n",
       "  </tbody>\n",
       "</table>\n",
       "</div>"
      ],
      "text/plain": [
       "metric_name                                       address       business_name  \\\n",
       "yelp_biz_id                                                                     \n",
       "-7b17IgC8MNVWDM-JV0-Tw    9 E 53rd St, New York, NY 10022       Burger Heaven   \n",
       "-lgNzAEyFr8LCTuBTWnAMg   47 W 55th St, New York, NY 10019      Dim Sum Palace   \n",
       "0087AC_NnFRtC0c9FsB9pw  17 Waverly Pl, New York, NY 10003            The Boil   \n",
       "0CjK3esfpFcxIopebzjFxA      9 Pell St, New York, NY 10013      Joe’s Shanghai   \n",
       "0LpWRWQx8Agm-mZtsOQ5gg     40 Wall St, New York, NY 10005  Neapolitan Express   \n",
       "\n",
       "metric_name                                              category_list  \\\n",
       "yelp_biz_id                                                              \n",
       "-7b17IgC8MNVWDM-JV0-Tw                    [Burgers, Salad, Sandwiches]   \n",
       "-lgNzAEyFr8LCTuBTWnAMg                     [Dim Sum, Seafood, Noodles]   \n",
       "0087AC_NnFRtC0c9FsB9pw                         [Cajun/Creole, Seafood]   \n",
       "0CjK3esfpFcxIopebzjFxA  [Shanghainese, Seafood, Venues & Event Spaces]   \n",
       "0LpWRWQx8Agm-mZtsOQ5gg                                [Pizza, Italian]   \n",
       "\n",
       "metric_name            is_closed          neighborhood_list price_range  \\\n",
       "yelp_biz_id                                                               \n",
       "-7b17IgC8MNVWDM-JV0-Tw     False             [Midtown East]           2   \n",
       "-lgNzAEyFr8LCTuBTWnAMg     False             [Midtown West]           2   \n",
       "0087AC_NnFRtC0c9FsB9pw     False        [Greenwich Village]           2   \n",
       "0CjK3esfpFcxIopebzjFxA     False  [Chinatown, Civic Center]           2   \n",
       "0LpWRWQx8Agm-mZtsOQ5gg     False       [Financial District]           2   \n",
       "\n",
       "metric_name            rating  \\\n",
       "yelp_biz_id                     \n",
       "-7b17IgC8MNVWDM-JV0-Tw      3   \n",
       "-lgNzAEyFr8LCTuBTWnAMg      4   \n",
       "0087AC_NnFRtC0c9FsB9pw      4   \n",
       "0CjK3esfpFcxIopebzjFxA      4   \n",
       "0LpWRWQx8Agm-mZtsOQ5gg    3.5   \n",
       "\n",
       "metric_name                                               ratings_history  \\\n",
       "yelp_biz_id                                                                 \n",
       "-7b17IgC8MNVWDM-JV0-Tw  {'2016': [[0, 2.0], [1, 2.0], [2, 2.0], [3, 2....   \n",
       "-lgNzAEyFr8LCTuBTWnAMg  {'2017': [[6, 4.5], [7, 3.5], [8, 4.0], [9, 3....   \n",
       "0087AC_NnFRtC0c9FsB9pw  {'2016': [[4, 4.5], [5, 4.5], [6, 4.5], [7, 4....   \n",
       "0CjK3esfpFcxIopebzjFxA  {'2016': [[0, 4.0], [1, 3.5], [2, 4.0], [3, 3....   \n",
       "0LpWRWQx8Agm-mZtsOQ5gg  {'2016': [[0, 3.0], [1, 3.0], [2, 3.0], [3, 4....   \n",
       "\n",
       "metric_name            review_count                     yelp_alias  \n",
       "yelp_biz_id                                                         \n",
       "-7b17IgC8MNVWDM-JV0-Tw          206         burger-heaven-new-york  \n",
       "-lgNzAEyFr8LCTuBTWnAMg          157      dim-sum-palace-new-york-7  \n",
       "0087AC_NnFRtC0c9FsB9pw          561            the-boil-new-york-5  \n",
       "0CjK3esfpFcxIopebzjFxA         5333       joes-shanghai-new-york-2  \n",
       "0LpWRWQx8Agm-mZtsOQ5gg          159  neapolitan-express-new-york-4  "
      ]
     },
     "execution_count": 50,
     "metadata": {},
     "output_type": "execute_result"
    }
   ],
   "source": [
    "data.head()"
   ]
  },
  {
   "cell_type": "code",
   "execution_count": 51,
   "metadata": {},
   "outputs": [
    {
     "data": {
      "text/plain": [
       "dict_keys(['2016', '2017', '2018', '2014', '2015'])"
      ]
     },
     "execution_count": 51,
     "metadata": {},
     "output_type": "execute_result"
    }
   ],
   "source": [
    "data['ratings_history'][0].keys()"
   ]
  },
  {
   "cell_type": "code",
   "execution_count": 52,
   "metadata": {},
   "outputs": [
    {
     "data": {
      "text/plain": [
       "array([False, True], dtype=object)"
      ]
     },
     "execution_count": 52,
     "metadata": {},
     "output_type": "execute_result"
    }
   ],
   "source": [
    "data['is_closed'].unique()"
   ]
  },
  {
   "cell_type": "code",
   "execution_count": 53,
   "metadata": {},
   "outputs": [
    {
     "data": {
      "text/plain": [
       "bool"
      ]
     },
     "execution_count": 53,
     "metadata": {},
     "output_type": "execute_result"
    }
   ],
   "source": [
    "type(data['is_closed'][0])"
   ]
  },
  {
   "cell_type": "code",
   "execution_count": null,
   "metadata": {},
   "outputs": [],
   "source": []
  },
  {
   "cell_type": "markdown",
   "metadata": {},
   "source": [
    "### Data Tests"
   ]
  },
  {
   "cell_type": "code",
   "execution_count": 54,
   "metadata": {},
   "outputs": [],
   "source": [
    "# TESTS:\n",
    "# test that ratings_distribution_text is a list of length 10\n",
    "# test that ratings_distribution data averages to rating\n",
    "# check data before writing, if different throw error\n",
    "#   - if yelp_biz_id changes in input_data, there is a problem\n",
    "#   - (new categories, historical ratings_history changes, address changes)"
   ]
  },
  {
   "cell_type": "code",
   "execution_count": 55,
   "metadata": {},
   "outputs": [],
   "source": [
    "# ratings_distribution = pandas.DataFrame(ratings_distribution)\n",
    "# ratings_distribution['contrib'] = ratings_distribution['rating'] * ratings_distribution['count']\n",
    "# ratings_distribution['contrib'].sum()/ratings_distribution['count'].sum()"
   ]
  },
  {
   "cell_type": "code",
   "execution_count": 56,
   "metadata": {},
   "outputs": [],
   "source": [
    "# # TODO: unique_values handling for collections-based columns (i.e. ratings_history)\n",
    "# unique_values = pandas.read_sql_query(\"\"\"\n",
    "#     select * from yelp_raw\n",
    "#     where metric_name in ('yelp_alias', 'business_name')\n",
    "#     \"\"\", connection) \\\n",
    "#       .groupby(['yelp_biz_id', 'metric_name']) \\\n",
    "#       .agg({'metric_value': ['unique']})\n",
    "# unique_values.columns = ['metric_value']"
   ]
  },
  {
   "cell_type": "code",
   "execution_count": null,
   "metadata": {},
   "outputs": [],
   "source": []
  }
 ],
 "metadata": {
  "kernelspec": {
   "display_name": "Python 3",
   "language": "python",
   "name": "python3"
  },
  "language_info": {
   "codemirror_mode": {
    "name": "ipython",
    "version": 3
   },
   "file_extension": ".py",
   "mimetype": "text/x-python",
   "name": "python",
   "nbconvert_exporter": "python",
   "pygments_lexer": "ipython3",
   "version": "3.6.5"
  },
  "toc": {
   "nav_menu": {},
   "number_sections": false,
   "sideBar": true,
   "skip_h1_title": false,
   "title_cell": "Table of Contents",
   "title_sidebar": "Contents",
   "toc_cell": false,
   "toc_position": {},
   "toc_section_display": true,
   "toc_window_display": false
  }
 },
 "nbformat": 4,
 "nbformat_minor": 2
}
