{
 "cells": [
  {
   "cell_type": "code",
   "execution_count": 1,
   "metadata": {},
   "outputs": [],
   "source": [
    "# PROBLEMS:\n",
    "# chefs club alias changed\n",
    "#  - store yelp_alias_list; have a way to find original"
   ]
  },
  {
   "cell_type": "code",
   "execution_count": 2,
   "metadata": {},
   "outputs": [],
   "source": [
    "#  - input data; load soup; get latest ratings history; get latest rating... (store history)\n",
    "#  - need to store point-in-time history for: rating, review count, price_range\n",
    "#  - only store changes (i.e. no new entry if business_name/rating/price_range does not change)\n",
    "#  - to access data: max(insert_date) as last_updated, [data]\n",
    "#  - for yelp_alias: [insert_date, yelp_biz_id (hopefully this is unique & doesn't change),\n",
    "#                     metric_name (yelp_alias), metric_value (new_alias)]\n",
    "#  - to retrieve all aliases: groupby(yelp_biz_id).make_list(yelp_alias)?\n",
    "#  - first: build latest version of data, in order to determine if a data point has changed"
   ]
  },
  {
   "cell_type": "code",
   "execution_count": 3,
   "metadata": {},
   "outputs": [],
   "source": [
    "# TODO:\n",
    "# date_added, date_visited\n",
    "# rating_better & rating_worse over time (are the restaurants better/worse after I went?)\n",
    "# test PSQL locally; store as JSON\n",
    "# check data before writing, if different throw error\n",
    "#   - (i.e. new categories, historical ratings_history changes, address changes)\n",
    "# gspread\n",
    "# unittest"
   ]
  },
  {
   "cell_type": "code",
   "execution_count": 4,
   "metadata": {},
   "outputs": [],
   "source": [
    "# TESTS:\n",
    "# test that ratings_distribution_text is a list of length 10\n",
    "# test that ratings_distribution data averages to rating"
   ]
  },
  {
   "cell_type": "code",
   "execution_count": 5,
   "metadata": {},
   "outputs": [],
   "source": [
    "# date_visited_rating = ratings_history[date_visited.year][date_visited.month-1][1]\n",
    "# most_recent_rating = ratings_history[max(ratings_history.keys())][-1][1]"
   ]
  },
  {
   "cell_type": "code",
   "execution_count": 6,
   "metadata": {},
   "outputs": [],
   "source": [
    "# Imports\n",
    "import ast\n",
    "import bs4\n",
    "import collections\n",
    "import copy\n",
    "import datetime\n",
    "import json\n",
    "import pandas\n",
    "import re\n",
    "import requests\n",
    "import sqlite3\n",
    "import urllib"
   ]
  },
  {
   "cell_type": "markdown",
   "metadata": {},
   "source": [
    "### Define"
   ]
  },
  {
   "cell_type": "code",
   "execution_count": 7,
   "metadata": {},
   "outputs": [],
   "source": [
    "def get_yelp_alias(soup):\n",
    "    # TODO: test that input_yelp_alias == scraped_yelp_alias; url may get re-routed\n",
    "    yelp_alias = soup.find('meta', {'property': 'og:url'})\n",
    "    yelp_alias = yelp_alias['content'].split('/')[-1]\n",
    "    return yelp_alias"
   ]
  },
  {
   "cell_type": "code",
   "execution_count": 8,
   "metadata": {},
   "outputs": [],
   "source": [
    "def get_yelp_biz_id(soup):\n",
    "    yelp_biz_id = soup.find('meta', {'name': 'yelp-biz-id'})\n",
    "    yelp_biz_id = yelp_biz_id['content']\n",
    "    return yelp_biz_id"
   ]
  },
  {
   "cell_type": "code",
   "execution_count": 9,
   "metadata": {},
   "outputs": [],
   "source": [
    "def get_is_closed(soup):\n",
    "    is_closed = 'CLOSED' in soup.title.text\n",
    "    return is_closed"
   ]
  },
  {
   "cell_type": "code",
   "execution_count": 10,
   "metadata": {},
   "outputs": [],
   "source": [
    "def get_business_name(soup):\n",
    "    business_name = soup.find('h1', {'class': 'biz-page-title'})\n",
    "    business_name = business_name.text.strip()\n",
    "    return business_name"
   ]
  },
  {
   "cell_type": "code",
   "execution_count": 11,
   "metadata": {},
   "outputs": [],
   "source": [
    "def get_rating(soup):\n",
    "    rating = soup.find('div', {'class': 'i-stars'})\n",
    "    rating = rating['title'].split()[0]\n",
    "    rating = float(rating)\n",
    "    return rating"
   ]
  },
  {
   "cell_type": "code",
   "execution_count": 12,
   "metadata": {},
   "outputs": [],
   "source": [
    "def get_review_count(soup):\n",
    "    review_count = soup.find('span', {'class': 'review-count rating-qualifier'})\n",
    "    review_count = review_count.text.strip().split()[0]\n",
    "    review_count = int(review_count)\n",
    "    return review_count"
   ]
  },
  {
   "cell_type": "code",
   "execution_count": 13,
   "metadata": {},
   "outputs": [],
   "source": [
    "def get_ratings_history(soup):\n",
    "    ratings_history = soup.find('div', {'id': 'rating-details-modal-content'})\n",
    "    ratings_history = ratings_history['data-monthly-ratings']\n",
    "    ratings_history = ast.literal_eval(ratings_history)\n",
    "    ratings_history = {int(k):v for k,v in ratings_history.items()}\n",
    "    ratings_history = json.dumps(ratings_history)    # stringify for sqlite; note that keys become strings \n",
    "    return ratings_history"
   ]
  },
  {
   "cell_type": "code",
   "execution_count": 14,
   "metadata": {},
   "outputs": [],
   "source": [
    "def get_ratings_distribution(soup):\n",
    "    # Convert HTML table to len-10 string list\n",
    "    text = soup.find('table', {'class': 'histogram'})\n",
    "    text = text.text.replace('\\n', ' ')\n",
    "    text = re.sub(' {2,}', ',', text)    # Replace 2+ whitespace with 1 comma\n",
    "    text = text.strip(',').split(',')\n",
    "    \n",
    "    # Convert string list to dictionary\n",
    "    ratings = [text[i] for i in range(len(text)) if i%2 == 0]\n",
    "    ratings = [i.split()[0] for i in ratings]\n",
    "    ratings = [int(i) for i in ratings]\n",
    "    counts  = [text[i] for i in range(len(text)) if i%2 != 0]\n",
    "    counts  = [int(i) for i in counts]\n",
    "    ratings_distribution = {'rating' : ratings, 'count' : counts}\n",
    "    ratings_distribution = json.dumps(ratings_distribution)    # stringify for sqlite\n",
    "    return ratings_distribution"
   ]
  },
  {
   "cell_type": "code",
   "execution_count": 15,
   "metadata": {},
   "outputs": [],
   "source": [
    "# ratings_distribution = pandas.DataFrame(ratings_distribution)\n",
    "# ratings_distribution['contrib'] = ratings_distribution['rating'] * ratings_distribution['count']\n",
    "# ratings_distribution['contrib'].sum()/ratings_distribution['count'].sum()"
   ]
  },
  {
   "cell_type": "code",
   "execution_count": 16,
   "metadata": {},
   "outputs": [],
   "source": [
    "def get_price_range(soup):\n",
    "    price_range = soup.find('span', {'class': 'business-attribute price-range'})\n",
    "    price_range = price_range.text.count('$')\n",
    "    return price_range"
   ]
  },
  {
   "cell_type": "code",
   "execution_count": 17,
   "metadata": {},
   "outputs": [],
   "source": [
    "def get_category_list(soup):\n",
    "    category_list = soup.find('span', {'class': 'category-str-list'})\n",
    "    category_list = category_list.contents\n",
    "    category_list = [i.string for i in category_list]\n",
    "    category_list = [i for i in category_list if '\\n' not in i]\n",
    "    category_list = json.dumps(category_list)    # stringify for sqlite\n",
    "    return category_list"
   ]
  },
  {
   "cell_type": "code",
   "execution_count": 18,
   "metadata": {},
   "outputs": [],
   "source": [
    "def get_address(soup):\n",
    "    address = soup.find('address')\n",
    "    address = copy.copy(address)    # Make a copy to prevent modifying the original document\n",
    "    for tag in address.find_all('br'):\n",
    "        tag.replace_with('\\n')\n",
    "    address = address.text.strip().split('\\n')\n",
    "    address = ', '.join(address)\n",
    "    return address"
   ]
  },
  {
   "cell_type": "code",
   "execution_count": 19,
   "metadata": {
    "scrolled": true
   },
   "outputs": [],
   "source": [
    "def get_neighborhood_list(soup):\n",
    "    neighborhood_list = soup.find('span', {'class': 'neighborhood-str-list'})\n",
    "    if neighborhood_list is not None:\n",
    "        neighborhood_list = neighborhood_list.text\n",
    "        neighborhood_list = neighborhood_list.strip().split(', ')\n",
    "    neighborhood_list = json.dumps(neighborhood_list)    # stringify for sqlite\n",
    "    return neighborhood_list"
   ]
  },
  {
   "cell_type": "markdown",
   "metadata": {},
   "source": [
    "### Testing"
   ]
  },
  {
   "cell_type": "code",
   "execution_count": 20,
   "metadata": {},
   "outputs": [],
   "source": [
    "yelp_alias = 'momofuku-má-pêche-new-york-2'"
   ]
  },
  {
   "cell_type": "code",
   "execution_count": 21,
   "metadata": {},
   "outputs": [
    {
     "data": {
      "text/plain": [
       "'momofuku-m%C3%A1-p%C3%AAche-new-york-2'"
      ]
     },
     "execution_count": 21,
     "metadata": {},
     "output_type": "execute_result"
    }
   ],
   "source": [
    "urllib.parse.quote_plus(yelp_alias)"
   ]
  },
  {
   "cell_type": "code",
   "execution_count": 22,
   "metadata": {},
   "outputs": [],
   "source": [
    "url = 'https://www.yelp.com/biz/{}'.format(yelp_alias)\n",
    "r = requests.get(url, timeout=5)\n",
    "soup = bs4.BeautifulSoup(r.text, 'lxml')"
   ]
  },
  {
   "cell_type": "code",
   "execution_count": 23,
   "metadata": {},
   "outputs": [
    {
     "data": {
      "text/plain": [
       "'momofuku-m%C3%A1-p%C3%AAche-new-york-2'"
      ]
     },
     "execution_count": 23,
     "metadata": {},
     "output_type": "execute_result"
    }
   ],
   "source": [
    "yelp_alias = soup.find('meta', {'property': 'og:url'})\n",
    "yelp_alias = yelp_alias['content'].split('/')[-1]\n",
    "yelp_alias"
   ]
  },
  {
   "cell_type": "code",
   "execution_count": 24,
   "metadata": {},
   "outputs": [
    {
     "data": {
      "text/plain": [
       "3"
      ]
     },
     "execution_count": 24,
     "metadata": {},
     "output_type": "execute_result"
    }
   ],
   "source": [
    "price_range = soup.find('span', {'class': 'business-attribute price-range'})\n",
    "price_range = price_range.text.count('$')\n",
    "price_range"
   ]
  },
  {
   "cell_type": "code",
   "execution_count": 25,
   "metadata": {},
   "outputs": [
    {
     "data": {
      "text/plain": [
       "3.5"
      ]
     },
     "execution_count": 25,
     "metadata": {},
     "output_type": "execute_result"
    }
   ],
   "source": [
    "rating = soup.find('div', {'class': 'i-stars'})\n",
    "rating = rating['title'].split()[0]\n",
    "rating = float(rating)\n",
    "rating"
   ]
  },
  {
   "cell_type": "code",
   "execution_count": 26,
   "metadata": {},
   "outputs": [
    {
     "data": {
      "text/plain": [
       "'Chambers Hotel, 15 W 56th St, New York, NY 10019'"
      ]
     },
     "execution_count": 26,
     "metadata": {},
     "output_type": "execute_result"
    }
   ],
   "source": [
    "address = soup.find('address')\n",
    "address = copy.copy(address)    # Make a copy to prevent modifying the original document\n",
    "for tag in address.find_all('br'):\n",
    "    tag.replace_with('\\n')\n",
    "address = address.text.strip().split('\\n')\n",
    "address = ', '.join(address)\n",
    "address"
   ]
  },
  {
   "cell_type": "code",
   "execution_count": null,
   "metadata": {},
   "outputs": [],
   "source": []
  },
  {
   "cell_type": "markdown",
   "metadata": {},
   "source": [
    "### Run"
   ]
  },
  {
   "cell_type": "code",
   "execution_count": 27,
   "metadata": {},
   "outputs": [],
   "source": [
    "yelp_aliases = pandas.read_csv('yelp_aliases.csv')"
   ]
  },
  {
   "cell_type": "code",
   "execution_count": 28,
   "metadata": {},
   "outputs": [],
   "source": [
    "yelp_aliases['date_added'] = yelp_aliases['date_added'].apply(lambda x: None if x == '-' else x)\n",
    "yelp_aliases['date_added'] = pandas.to_datetime(yelp_aliases['date_added'])\n",
    "yelp_aliases['date_visited'] = pandas.to_datetime(yelp_aliases['date_visited'])"
   ]
  },
  {
   "cell_type": "code",
   "execution_count": 29,
   "metadata": {},
   "outputs": [],
   "source": [
    "# I did not add aliases for some food carts & bakeries; drop them for now\n",
    "yelp_aliases = yelp_aliases[yelp_aliases['yelp_alias'].notna()]"
   ]
  },
  {
   "cell_type": "code",
   "execution_count": 30,
   "metadata": {},
   "outputs": [],
   "source": [
    "# # PROBLEM: chefs club alias changed\n",
    "# connection = sqlite3.connect('restaurants.db')\n",
    "# already_done = pandas.read_sql_query('select * from restaurants', connection)\n",
    "# already_done = already_done['yelp_alias'].tolist()\n",
    "# not_done = yelp_aliases['yelp_alias'].apply(\n",
    "#     lambda x: urllib.parse.quote_plus(x) not in already_done)\n",
    "# yelp_aliases = yelp_aliases[not_done]"
   ]
  },
  {
   "cell_type": "code",
   "execution_count": 31,
   "metadata": {},
   "outputs": [],
   "source": [
    "connection = sqlite3.connect('restaurants.db')\n",
    "tables = pandas.read_sql_query(\"\"\"\n",
    "select * from sqlite_master\n",
    "where type = 'table'\"\"\", connection)"
   ]
  },
  {
   "cell_type": "code",
   "execution_count": 32,
   "metadata": {},
   "outputs": [
    {
     "data": {
      "text/html": [
       "<div>\n",
       "<style scoped>\n",
       "    .dataframe tbody tr th:only-of-type {\n",
       "        vertical-align: middle;\n",
       "    }\n",
       "\n",
       "    .dataframe tbody tr th {\n",
       "        vertical-align: top;\n",
       "    }\n",
       "\n",
       "    .dataframe thead th {\n",
       "        text-align: right;\n",
       "    }\n",
       "</style>\n",
       "<table border=\"1\" class=\"dataframe\">\n",
       "  <thead>\n",
       "    <tr style=\"text-align: right;\">\n",
       "      <th></th>\n",
       "      <th>type</th>\n",
       "      <th>name</th>\n",
       "      <th>tbl_name</th>\n",
       "      <th>rootpage</th>\n",
       "      <th>sql</th>\n",
       "    </tr>\n",
       "  </thead>\n",
       "  <tbody>\n",
       "  </tbody>\n",
       "</table>\n",
       "</div>"
      ],
      "text/plain": [
       "Empty DataFrame\n",
       "Columns: [type, name, tbl_name, rootpage, sql]\n",
       "Index: []"
      ]
     },
     "execution_count": 32,
     "metadata": {},
     "output_type": "execute_result"
    }
   ],
   "source": [
    "tables"
   ]
  },
  {
   "cell_type": "code",
   "execution_count": 33,
   "metadata": {},
   "outputs": [
    {
     "name": "stdout",
     "output_type": "stream",
     "text": [
      "(yelp_raw does not exist, create table)\n"
     ]
    }
   ],
   "source": [
    "if 'yelp_raw' in tables['tbl_name'].values:\n",
    "    print('(yelp_raw exists, incremental update)')\n",
    "else:\n",
    "    print('(yelp_raw does not exist, create table)')"
   ]
  },
  {
   "cell_type": "code",
   "execution_count": 34,
   "metadata": {
    "scrolled": true
   },
   "outputs": [
    {
     "name": "stdout",
     "output_type": "stream",
     "text": [
      "['muk-eun-ji-new-york', 'Muk Eun Ji']\n",
      "['ramenco-new-york-2', 'RamenCo']\n",
      "['blt-bar-and-grill-new-york', 'BLT Bar & Grill']\n",
      "['bills-bar-and-burger-downtown-new-york', 'Bill’s Bar & Burger Downtown']\n",
      "['ruchi-new-york-2', 'Ruchi']\n",
      "['komegashi-too-jersey-city', 'Komegashi Too']\n",
      "['smashburger-new-york-6', 'Smashburger']\n",
      "['harrys-italian-new-york-2', 'Harry’s Italian']\n",
      "['goa-taco-new-york', 'goa taco']\n",
      "['morgensterns-finest-ice-cream-new-york-2', 'Morgenstern’s Finest Ice Cream']\n",
      "['vanessas-dumpling-house-new-york-2', 'Vanessa’s Dumpling House']\n",
      "['philip-marie-new-york', 'Philip Marie']\n",
      "['joes-shanghai-new-york-2', 'Joe’s Shanghai']\n",
      "['oka-sushi-new-york', 'Oka Sushi']\n",
      "['pisillo-italian-panini-new-york', 'Pisillo Italian Panini']\n",
      "['friedmans-new-york-59', 'Friedman’s']\n",
      "['prince-street-pizza-new-york-2', 'Prince Street Pizza']\n",
      "['the-crooked-knife-new-york-3', 'The Crooked Knife']\n",
      "['ramen-ya-new-york-5', 'Ramen-Ya']\n",
      "['hamilton-pork-jersey-city', 'Hamilton Pork']\n",
      "['the-malt-house-new-york-3', 'The Malt House']\n",
      "['house-of-que-hoboken-2', 'House of Que']\n",
      "['mighty-quinns-barbeque-new-york-4', 'Mighty Quinn’s Barbeque']\n",
      "['flex-mussels-new-york-2', 'Flex Mussels']\n",
      "['99-favor-taste-new-york-12', '99 Favor Taste']\n",
      "['cafe-habana-new-york-4', 'Cafe Habana']\n",
      "['ahris-kitchen-jersey-city', 'Ahri’s Kitchen']\n",
      "['burger-heaven-new-york', 'Burger Heaven']\n",
      "['papillon-bistro-and-bar-new-york', 'Papillon Bistro & Bar']\n",
      "['fuku-new-york-11', 'Fuku+']\n",
      "['tipsy-shanghai-new-york', 'Tipsy Shanghai']\n",
      "['da-claudio-new-york', 'Da Claudio']\n",
      "['bcd-tofu-house-new-york-3', 'BCD Tofu House']\n",
      "['burger-and-lobster-new-york', 'Burger & Lobster']\n",
      "['momofuku-m%C3%A1-p%C3%AAche-new-york-2', 'Momofuku Má Pêche']\n",
      "['la-esquina-new-york-4', 'La Esquina']\n",
      "['zio-ristorante-new-york', 'Zio Ristorante']\n",
      "['zen-ramen-and-sushi-new-york', 'Zen Ramen & Sushi']\n",
      "['jing-fong-restaurant-new-york', 'Jing Fong Restaurant']\n",
      "['hou-yi-hot-pot-new-york', 'Hou Yi Hot Pot']\n",
      "['hunan-house-new-york-6', 'Hunan House']\n",
      "['chefs-club-by-food-and-wine-new-york-4', 'Chefs Club by Food & Wine']\n",
      "['amada-new-york-4', 'Amada']\n",
      "['hometown-hotpot-and-bbq-new-york-2', 'Hometown Hotpot & BBQ']\n",
      "['my-pie-pizzeria-romana-new-york-2', 'My pie pizzeria romana']\n",
      "['le-relais-de-venise-l-entrec%C3%B4te-new-york-4', 'Le Relais De Venise L’Entrecôte']\n",
      "['la-bonne-soupe-new-york', 'La Bonne Soupe']\n",
      "['corner-bistro-new-york', 'Corner Bistro']\n",
      "['red-egg-new-york-3', 'Red Egg']\n",
      "['ollies-sichuan-new-york', 'Ollie’s Sichuan']\n",
      "['shimizu-new-york', 'Shimizu']\n",
      "['gyu-kaku-japanese-bbq-new-york', 'Gyu-Kaku Japanese BBQ']\n",
      "['funny-bbq-98-new-york', 'Funny BBQ 98']\n",
      "['dim-sum-palace-new-york-7', 'Dim Sum Palace']\n",
      "['zest-szechuan-new-york', 'Zest Szechuan']\n",
      "['soba-azuma-new-york', 'SOBA AZUMA']\n",
      "['ootoya-chelsea-new-york', 'Ootoya Chelsea']\n",
      "['nerai-new-york', 'Nerai']\n",
      "['parm-new-york', 'Parm']\n",
      "['sugar-factory-new-york-7', 'Sugar Factory']\n",
      "['ichiumi-new-york-4', 'IchiUmi']\n",
      "['wolfgangs-steakhouse-new-york-4', 'Wolfgang’s Steakhouse']\n",
      "['lady-m-cake-boutique-new-york-3', 'Lady M Cake Boutique']\n",
      "['five-senses-new-york', 'Five Senses']\n",
      "['gammeeok-new-york', 'Gammeeok']\n",
      "['hama-japanese-cuisine-new-york', 'Hama Japanese Cuisine']\n",
      "['valbella-midtown-manhattan', 'Valbella Midtown']\n",
      "['johns-of-bleecker-street-new-york-2', 'John’s of Bleecker Street']\n",
      "['dong-chun-hong-new-york', 'Dong Chun Hong']\n",
      "['shanghai-mong-new-york', 'Shanghai Mong']\n",
      "['spunto-new-york-5', 'Spunto']\n",
      "['blue-ribbon-sushi-bar-rock-center-new-york-3', 'Blue Ribbon Sushi Bar - Rock Center']\n",
      "['abiko-curry-new-york-2', 'Abiko Curry']\n",
      "['yupdduk-new-york-3', 'Yupdduk']\n",
      "['her-name-is-han-new-york-3', 'Her Name Is Han']\n",
      "['katzs-delicatessen-new-york', 'Katz’s Delicatessen']\n",
      "['auntie-guans-kitchen-108-new-york', 'Auntie Guan’s Kitchen 108']\n",
      "['contra-new-york', 'Contra']\n",
      "['haru-sushi-new-york-7', 'Haru Sushi']\n",
      "['westville-wall-st-new-york-5', 'Westville - Wall St']\n",
      "['benares-new-york-3', 'Benares']\n",
      "['neapolitan-express-new-york-4', 'Neapolitan Express']\n",
      "['roti-modern-mediterranean-new-york', 'Roti Modern Mediterranean']\n",
      "['boucherie-west-village-new-york-3', 'Boucherie West Village']\n",
      "['take31-new-york', 'Take31']\n",
      "['all-american-deli-new-york', 'All American Deli']\n",
      "['dim-sum-palace-new-york-8', 'Dim Sum Palace']\n",
      "['harrys-new-york-3', 'Harry’s']\n",
      "['east-dumpling-new-york-2', 'East Dumpling']\n",
      "['la-vie-en-szechuan-new-york-2', 'La Vie en Szechuan']\n",
      "['tomorrow-new-york', 'Tomorrow']\n",
      "['peter-luger-brooklyn-2', 'Peter Luger']\n",
      "['congee-village-new-york', 'Congee Village']\n",
      "['takahachi-bakery-new-york', 'Takahachi Bakery']\n",
      "['little-italy-pizza-new-york-25', 'Little Italy Pizza']\n",
      "['the-boil-new-york-5', 'The Boil']\n",
      "['beaubourg-new-york', 'Beaubourg']\n",
      "['razza-pizza-artigianale-jersey-city-2', 'Razza Pizza Artigianale']\n",
      "['clinton-hall-new-york-11', 'Clinton Hall']\n",
      "['mad-dog-and-beans-mexican-cantina-new-york-2', 'Mad Dog & Beans Mexican Cantina']\n",
      "['aahar-indian-cuisine-new-york', 'Aahar Indian Cuisine']\n",
      "['bo-ky-restaurant-new-york', 'Bo Ky Restaurant']\n",
      "['porta-jersey-city-2', 'Porta']\n",
      "['szechuan-mountain-house-new-york-2', 'Szechuan Mountain House']\n",
      "['fig-and-olive-fifth-ave-new-york-4', 'Fig & Olive Fifth Ave']\n",
      "['south-house-bar-and-restaurant-jersey-city', 'South House Bar & Restaurant']\n",
      "['shu-jiao-fu-zhou-cuisine-restaurant-new-york', 'Shu Jiao Fu Zhou Cuisine Restaurant']\n",
      "['honshu-jersey-city-4', 'Honshu']\n",
      "['bucket-and-bay-craft-gelato-jersey-city-5', 'Bucket & Bay Craft Gelato']\n",
      "['skinners-loft-jersey-city', 'Skinner’s Loft']\n",
      "['farmer-and-the-fish-gramercy-new-york', 'Farmer & The Fish- Gramercy']\n",
      "['brgr-new-york-2', 'BRGR']\n",
      "['kang-ho-dong-baekjeong-new-york', 'Kang Ho Dong Baekjeong']\n",
      "['spot-dessert-bar-new-york-2', 'Spot Dessert Bar']\n",
      "['latham-house-jersey-city', 'Latham House']\n",
      "['delicatessen-new-york', 'Delicatessen']\n",
      "['the-musket-room-new-york', 'The Musket Room']\n",
      "['empell%C3%B3n-new-york-3', 'Empellón']\n",
      "['rowlands-bar-and-grill-new-york-3', 'Rowland’s Bar & Grill']\n",
      "['xiao-chuan-dian-palisades-park-2', 'Xiao Chuan Dian']\n",
      "['sawadee-jersey-city', 'Sawadee']\n",
      "['churrascaria-plataforma-new-york-3', 'Churrascaria Plataforma']\n",
      "['noodle-village-new-york', 'Noodle Village']\n",
      "['the-wheeltapper-pub-new-york', 'The Wheeltapper Pub']\n",
      "['dons-bogam-bbq-and-wine-bar-new-york-3', 'Dons Bogam BBQ & Wine Bar']\n",
      "['bar-bacon-new-york-2', 'Bar Bacon']\n",
      "CPU times: user 38.5 s, sys: 1.09 s, total: 39.6 s\n",
      "Wall time: 7min\n"
     ]
    }
   ],
   "source": [
    "%%time\n",
    "# Iterate\n",
    "all_data = pandas.DataFrame()\n",
    "for index, row in yelp_aliases.iterrows():\n",
    "    # Set up soup\n",
    "    yelp_alias = row['yelp_alias']\n",
    "    url = 'https://www.yelp.com/biz/{}'.format(yelp_alias)\n",
    "    r = requests.get(url, timeout=5)\n",
    "    soup = bs4.BeautifulSoup(r.text, 'lxml')\n",
    "    \n",
    "    # Get data\n",
    "    data = collections.OrderedDict()\n",
    "    data['yelp_alias'] = get_yelp_alias(soup)\n",
    "    data['is_closed'] = get_is_closed(soup)\n",
    "    data['business_name'] = get_business_name(soup)\n",
    "    data['rating'] = get_rating(soup)\n",
    "    data['review_count'] = get_review_count(soup)\n",
    "    data['ratings_history'] = get_ratings_history(soup)\n",
    "    data['price_range'] = get_price_range(soup)\n",
    "    data['category_list'] = get_category_list(soup)\n",
    "    data['address'] = get_address(soup)\n",
    "    data['neighborhood_list'] = get_neighborhood_list(soup)\n",
    "    print([data['yelp_alias'], data['business_name']])\n",
    "\n",
    "    # Melt\n",
    "    data = pandas.Series(data).to_frame().T\n",
    "    data = data.melt()\n",
    "    data.columns = ['metric_name', 'metric_value']\n",
    "    data.insert(0, 'yelp_biz_id', get_yelp_biz_id(soup))\n",
    "    data.insert(0, 'insert_datetime', datetime.datetime.now())\n",
    "    \n",
    "    # Append\n",
    "    all_data = all_data.append(data, ignore_index=True)"
   ]
  },
  {
   "cell_type": "code",
   "execution_count": null,
   "metadata": {},
   "outputs": [],
   "source": []
  },
  {
   "cell_type": "markdown",
   "metadata": {},
   "source": [
    "### Write to DB"
   ]
  },
  {
   "cell_type": "code",
   "execution_count": 35,
   "metadata": {},
   "outputs": [],
   "source": [
    "connection = sqlite3.connect('restaurants.db')\n",
    "all_data.to_sql('yelp_raw', connection, if_exists='append', index=False)"
   ]
  },
  {
   "cell_type": "code",
   "execution_count": null,
   "metadata": {},
   "outputs": [],
   "source": []
  },
  {
   "cell_type": "markdown",
   "metadata": {},
   "source": [
    "### Read from DB"
   ]
  },
  {
   "cell_type": "code",
   "execution_count": 70,
   "metadata": {},
   "outputs": [],
   "source": [
    "data = pandas.read_sql_query('select * from yelp_raw', connection)"
   ]
  },
  {
   "cell_type": "code",
   "execution_count": 71,
   "metadata": {},
   "outputs": [
    {
     "data": {
      "text/html": [
       "<div>\n",
       "<style scoped>\n",
       "    .dataframe tbody tr th:only-of-type {\n",
       "        vertical-align: middle;\n",
       "    }\n",
       "\n",
       "    .dataframe tbody tr th {\n",
       "        vertical-align: top;\n",
       "    }\n",
       "\n",
       "    .dataframe thead th {\n",
       "        text-align: right;\n",
       "    }\n",
       "</style>\n",
       "<table border=\"1\" class=\"dataframe\">\n",
       "  <thead>\n",
       "    <tr style=\"text-align: right;\">\n",
       "      <th></th>\n",
       "      <th>insert_datetime</th>\n",
       "      <th>yelp_biz_id</th>\n",
       "      <th>metric_name</th>\n",
       "      <th>metric_value</th>\n",
       "    </tr>\n",
       "  </thead>\n",
       "  <tbody>\n",
       "    <tr>\n",
       "      <th>0</th>\n",
       "      <td>2018-08-29 23:35:20.399598</td>\n",
       "      <td>g_F9WJJpRFB40oPJdoD2uA</td>\n",
       "      <td>yelp_alias</td>\n",
       "      <td>muk-eun-ji-new-york</td>\n",
       "    </tr>\n",
       "    <tr>\n",
       "      <th>1</th>\n",
       "      <td>2018-08-29 23:35:20.399598</td>\n",
       "      <td>g_F9WJJpRFB40oPJdoD2uA</td>\n",
       "      <td>is_closed</td>\n",
       "      <td>1</td>\n",
       "    </tr>\n",
       "    <tr>\n",
       "      <th>2</th>\n",
       "      <td>2018-08-29 23:35:20.399598</td>\n",
       "      <td>g_F9WJJpRFB40oPJdoD2uA</td>\n",
       "      <td>business_name</td>\n",
       "      <td>Muk Eun Ji</td>\n",
       "    </tr>\n",
       "    <tr>\n",
       "      <th>3</th>\n",
       "      <td>2018-08-29 23:35:20.399598</td>\n",
       "      <td>g_F9WJJpRFB40oPJdoD2uA</td>\n",
       "      <td>rating</td>\n",
       "      <td>3.5</td>\n",
       "    </tr>\n",
       "    <tr>\n",
       "      <th>4</th>\n",
       "      <td>2018-08-29 23:35:20.399598</td>\n",
       "      <td>g_F9WJJpRFB40oPJdoD2uA</td>\n",
       "      <td>review_count</td>\n",
       "      <td>365</td>\n",
       "    </tr>\n",
       "  </tbody>\n",
       "</table>\n",
       "</div>"
      ],
      "text/plain": [
       "              insert_datetime             yelp_biz_id    metric_name  \\\n",
       "0  2018-08-29 23:35:20.399598  g_F9WJJpRFB40oPJdoD2uA     yelp_alias   \n",
       "1  2018-08-29 23:35:20.399598  g_F9WJJpRFB40oPJdoD2uA      is_closed   \n",
       "2  2018-08-29 23:35:20.399598  g_F9WJJpRFB40oPJdoD2uA  business_name   \n",
       "3  2018-08-29 23:35:20.399598  g_F9WJJpRFB40oPJdoD2uA         rating   \n",
       "4  2018-08-29 23:35:20.399598  g_F9WJJpRFB40oPJdoD2uA   review_count   \n",
       "\n",
       "          metric_value  \n",
       "0  muk-eun-ji-new-york  \n",
       "1                    1  \n",
       "2           Muk Eun Ji  \n",
       "3                  3.5  \n",
       "4                  365  "
      ]
     },
     "execution_count": 71,
     "metadata": {},
     "output_type": "execute_result"
    }
   ],
   "source": [
    "data.head()"
   ]
  },
  {
   "cell_type": "code",
   "execution_count": 72,
   "metadata": {},
   "outputs": [],
   "source": [
    "data = data.pivot(index='yelp_biz_id', columns='metric_name', values='metric_value')"
   ]
  },
  {
   "cell_type": "code",
   "execution_count": 73,
   "metadata": {},
   "outputs": [
    {
     "data": {
      "text/html": [
       "<div>\n",
       "<style scoped>\n",
       "    .dataframe tbody tr th:only-of-type {\n",
       "        vertical-align: middle;\n",
       "    }\n",
       "\n",
       "    .dataframe tbody tr th {\n",
       "        vertical-align: top;\n",
       "    }\n",
       "\n",
       "    .dataframe thead th {\n",
       "        text-align: right;\n",
       "    }\n",
       "</style>\n",
       "<table border=\"1\" class=\"dataframe\">\n",
       "  <thead>\n",
       "    <tr style=\"text-align: right;\">\n",
       "      <th>metric_name</th>\n",
       "      <th>address</th>\n",
       "      <th>business_name</th>\n",
       "      <th>category_list</th>\n",
       "      <th>is_closed</th>\n",
       "      <th>neighborhood_list</th>\n",
       "      <th>price_range</th>\n",
       "      <th>rating</th>\n",
       "      <th>ratings_history</th>\n",
       "      <th>review_count</th>\n",
       "      <th>yelp_alias</th>\n",
       "    </tr>\n",
       "    <tr>\n",
       "      <th>yelp_biz_id</th>\n",
       "      <th></th>\n",
       "      <th></th>\n",
       "      <th></th>\n",
       "      <th></th>\n",
       "      <th></th>\n",
       "      <th></th>\n",
       "      <th></th>\n",
       "      <th></th>\n",
       "      <th></th>\n",
       "      <th></th>\n",
       "    </tr>\n",
       "  </thead>\n",
       "  <tbody>\n",
       "    <tr>\n",
       "      <th>-7b17IgC8MNVWDM-JV0-Tw</th>\n",
       "      <td>9 E 53rd St, New York, NY 10022</td>\n",
       "      <td>Burger Heaven</td>\n",
       "      <td>[\"Burgers\", \"Salad\", \"Sandwiches\"]</td>\n",
       "      <td>0</td>\n",
       "      <td>[\"Midtown East\"]</td>\n",
       "      <td>2</td>\n",
       "      <td>3.0</td>\n",
       "      <td>{\"2016\": [[0, 2.0], [1, 2.0], [2, 2.0], [3, 2....</td>\n",
       "      <td>204</td>\n",
       "      <td>burger-heaven-new-york</td>\n",
       "    </tr>\n",
       "    <tr>\n",
       "      <th>-lgNzAEyFr8LCTuBTWnAMg</th>\n",
       "      <td>47 W 55th St, New York, NY 10019</td>\n",
       "      <td>Dim Sum Palace</td>\n",
       "      <td>[\"Dim Sum\", \"Seafood\", \"Noodles\"]</td>\n",
       "      <td>0</td>\n",
       "      <td>[\"Midtown West\"]</td>\n",
       "      <td>2</td>\n",
       "      <td>4.0</td>\n",
       "      <td>{\"2017\": [[6, 4.5], [7, 3.5], [8, 4.0], [9, 3....</td>\n",
       "      <td>156</td>\n",
       "      <td>dim-sum-palace-new-york-7</td>\n",
       "    </tr>\n",
       "    <tr>\n",
       "      <th>0087AC_NnFRtC0c9FsB9pw</th>\n",
       "      <td>17 Waverly Pl, New York, NY 10003</td>\n",
       "      <td>The Boil</td>\n",
       "      <td>[\"Cajun/Creole\", \"Seafood\"]</td>\n",
       "      <td>0</td>\n",
       "      <td>[\"Greenwich Village\"]</td>\n",
       "      <td>2</td>\n",
       "      <td>4.0</td>\n",
       "      <td>{\"2016\": [[4, 4.5], [5, 4.5], [6, 4.5], [7, 4....</td>\n",
       "      <td>561</td>\n",
       "      <td>the-boil-new-york-5</td>\n",
       "    </tr>\n",
       "    <tr>\n",
       "      <th>0CjK3esfpFcxIopebzjFxA</th>\n",
       "      <td>9 Pell St, New York, NY 10013</td>\n",
       "      <td>Joe’s Shanghai</td>\n",
       "      <td>[\"Shanghainese\", \"Seafood\", \"Venues &amp; Event Sp...</td>\n",
       "      <td>0</td>\n",
       "      <td>[\"Chinatown\", \"Civic Center\"]</td>\n",
       "      <td>2</td>\n",
       "      <td>4.0</td>\n",
       "      <td>{\"2016\": [[0, 4.0], [1, 3.5], [2, 4.0], [3, 3....</td>\n",
       "      <td>5322</td>\n",
       "      <td>joes-shanghai-new-york-2</td>\n",
       "    </tr>\n",
       "    <tr>\n",
       "      <th>0LpWRWQx8Agm-mZtsOQ5gg</th>\n",
       "      <td>40 Wall St, New York, NY 10005</td>\n",
       "      <td>Neapolitan Express</td>\n",
       "      <td>[\"Pizza\", \"Italian\"]</td>\n",
       "      <td>0</td>\n",
       "      <td>[\"Financial District\"]</td>\n",
       "      <td>2</td>\n",
       "      <td>3.5</td>\n",
       "      <td>{\"2016\": [[0, 3.0], [1, 3.0], [2, 3.0], [3, 4....</td>\n",
       "      <td>159</td>\n",
       "      <td>neapolitan-express-new-york-4</td>\n",
       "    </tr>\n",
       "  </tbody>\n",
       "</table>\n",
       "</div>"
      ],
      "text/plain": [
       "metric_name                                       address       business_name  \\\n",
       "yelp_biz_id                                                                     \n",
       "-7b17IgC8MNVWDM-JV0-Tw    9 E 53rd St, New York, NY 10022       Burger Heaven   \n",
       "-lgNzAEyFr8LCTuBTWnAMg   47 W 55th St, New York, NY 10019      Dim Sum Palace   \n",
       "0087AC_NnFRtC0c9FsB9pw  17 Waverly Pl, New York, NY 10003            The Boil   \n",
       "0CjK3esfpFcxIopebzjFxA      9 Pell St, New York, NY 10013      Joe’s Shanghai   \n",
       "0LpWRWQx8Agm-mZtsOQ5gg     40 Wall St, New York, NY 10005  Neapolitan Express   \n",
       "\n",
       "metric_name                                                 category_list  \\\n",
       "yelp_biz_id                                                                 \n",
       "-7b17IgC8MNVWDM-JV0-Tw                 [\"Burgers\", \"Salad\", \"Sandwiches\"]   \n",
       "-lgNzAEyFr8LCTuBTWnAMg                  [\"Dim Sum\", \"Seafood\", \"Noodles\"]   \n",
       "0087AC_NnFRtC0c9FsB9pw                        [\"Cajun/Creole\", \"Seafood\"]   \n",
       "0CjK3esfpFcxIopebzjFxA  [\"Shanghainese\", \"Seafood\", \"Venues & Event Sp...   \n",
       "0LpWRWQx8Agm-mZtsOQ5gg                               [\"Pizza\", \"Italian\"]   \n",
       "\n",
       "metric_name            is_closed              neighborhood_list price_range  \\\n",
       "yelp_biz_id                                                                   \n",
       "-7b17IgC8MNVWDM-JV0-Tw         0               [\"Midtown East\"]           2   \n",
       "-lgNzAEyFr8LCTuBTWnAMg         0               [\"Midtown West\"]           2   \n",
       "0087AC_NnFRtC0c9FsB9pw         0          [\"Greenwich Village\"]           2   \n",
       "0CjK3esfpFcxIopebzjFxA         0  [\"Chinatown\", \"Civic Center\"]           2   \n",
       "0LpWRWQx8Agm-mZtsOQ5gg         0         [\"Financial District\"]           2   \n",
       "\n",
       "metric_name            rating  \\\n",
       "yelp_biz_id                     \n",
       "-7b17IgC8MNVWDM-JV0-Tw    3.0   \n",
       "-lgNzAEyFr8LCTuBTWnAMg    4.0   \n",
       "0087AC_NnFRtC0c9FsB9pw    4.0   \n",
       "0CjK3esfpFcxIopebzjFxA    4.0   \n",
       "0LpWRWQx8Agm-mZtsOQ5gg    3.5   \n",
       "\n",
       "metric_name                                               ratings_history  \\\n",
       "yelp_biz_id                                                                 \n",
       "-7b17IgC8MNVWDM-JV0-Tw  {\"2016\": [[0, 2.0], [1, 2.0], [2, 2.0], [3, 2....   \n",
       "-lgNzAEyFr8LCTuBTWnAMg  {\"2017\": [[6, 4.5], [7, 3.5], [8, 4.0], [9, 3....   \n",
       "0087AC_NnFRtC0c9FsB9pw  {\"2016\": [[4, 4.5], [5, 4.5], [6, 4.5], [7, 4....   \n",
       "0CjK3esfpFcxIopebzjFxA  {\"2016\": [[0, 4.0], [1, 3.5], [2, 4.0], [3, 3....   \n",
       "0LpWRWQx8Agm-mZtsOQ5gg  {\"2016\": [[0, 3.0], [1, 3.0], [2, 3.0], [3, 4....   \n",
       "\n",
       "metric_name            review_count                     yelp_alias  \n",
       "yelp_biz_id                                                         \n",
       "-7b17IgC8MNVWDM-JV0-Tw          204         burger-heaven-new-york  \n",
       "-lgNzAEyFr8LCTuBTWnAMg          156      dim-sum-palace-new-york-7  \n",
       "0087AC_NnFRtC0c9FsB9pw          561            the-boil-new-york-5  \n",
       "0CjK3esfpFcxIopebzjFxA         5322       joes-shanghai-new-york-2  \n",
       "0LpWRWQx8Agm-mZtsOQ5gg          159  neapolitan-express-new-york-4  "
      ]
     },
     "execution_count": 73,
     "metadata": {},
     "output_type": "execute_result"
    }
   ],
   "source": [
    "data.head()"
   ]
  },
  {
   "cell_type": "code",
   "execution_count": 74,
   "metadata": {},
   "outputs": [],
   "source": [
    "data['ratings_history'] = data['ratings_history'].apply(json.loads)"
   ]
  },
  {
   "cell_type": "code",
   "execution_count": 75,
   "metadata": {},
   "outputs": [
    {
     "data": {
      "text/plain": [
       "dict_keys(['2016', '2017', '2018', '2014', '2015'])"
      ]
     },
     "execution_count": 75,
     "metadata": {},
     "output_type": "execute_result"
    }
   ],
   "source": [
    "data['ratings_history'][0].keys()"
   ]
  },
  {
   "cell_type": "code",
   "execution_count": null,
   "metadata": {},
   "outputs": [],
   "source": []
  }
 ],
 "metadata": {
  "kernelspec": {
   "display_name": "Python 3",
   "language": "python",
   "name": "python3"
  },
  "language_info": {
   "codemirror_mode": {
    "name": "ipython",
    "version": 3
   },
   "file_extension": ".py",
   "mimetype": "text/x-python",
   "name": "python",
   "nbconvert_exporter": "python",
   "pygments_lexer": "ipython3",
   "version": "3.6.5"
  },
  "toc": {
   "nav_menu": {},
   "number_sections": false,
   "sideBar": true,
   "skip_h1_title": false,
   "title_cell": "Table of Contents",
   "title_sidebar": "Contents",
   "toc_cell": false,
   "toc_position": {},
   "toc_section_display": true,
   "toc_window_display": false
  }
 },
 "nbformat": 4,
 "nbformat_minor": 2
}
