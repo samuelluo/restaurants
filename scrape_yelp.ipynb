{
 "cells": [
  {
   "cell_type": "code",
   "execution_count": 1,
   "metadata": {},
   "outputs": [],
   "source": [
    "# TODO:\n",
    "# problem: chefs club alias changed; ma peche has irregular characters\n",
    "# unittest\n",
    "# rating_better & rating_worse over time\n",
    "# date_added, date_visited\n",
    "# test PSQL locally; store as JSON"
   ]
  },
  {
   "cell_type": "code",
   "execution_count": 2,
   "metadata": {},
   "outputs": [],
   "source": [
    "# TESTS:\n",
    "# test that ratings_distribution_text is a list of length 10\n",
    "# test that ratings_distribution data averages to rating"
   ]
  },
  {
   "cell_type": "code",
   "execution_count": 3,
   "metadata": {},
   "outputs": [],
   "source": [
    "# date_visited_rating = ratings_history[date_visited.year][date_visited.month-1][1]\n",
    "# most_recent_rating = ratings_history[max(ratings_history.keys())][-1][1]"
   ]
  },
  {
   "cell_type": "code",
   "execution_count": 4,
   "metadata": {},
   "outputs": [],
   "source": [
    "# Imports\n",
    "import ast\n",
    "import bs4\n",
    "import collections\n",
    "import copy\n",
    "import json\n",
    "import pandas\n",
    "import re\n",
    "import requests\n",
    "import sqlite3"
   ]
  },
  {
   "cell_type": "markdown",
   "metadata": {},
   "source": [
    "### Define"
   ]
  },
  {
   "cell_type": "code",
   "execution_count": 5,
   "metadata": {},
   "outputs": [],
   "source": [
    "def get_yelp_alias(soup):\n",
    "    # TODO: test that input yelp_alias == yelp_alias; url may get re-routed\n",
    "    yelp_alias = soup.find('meta', {'property': 'og:url'})\n",
    "    yelp_alias = yelp_alias['content'].split('/')[-1]\n",
    "    return yelp_alias"
   ]
  },
  {
   "cell_type": "code",
   "execution_count": 6,
   "metadata": {},
   "outputs": [],
   "source": [
    "def get_yelp_biz_id(soup):\n",
    "    yelp_biz_id = soup.find('meta', {'name': 'yelp-biz-id'})\n",
    "    yelp_biz_id = yelp_biz_id['content']\n",
    "    return yelp_biz_id"
   ]
  },
  {
   "cell_type": "code",
   "execution_count": 7,
   "metadata": {},
   "outputs": [],
   "source": [
    "def get_is_closed(soup):\n",
    "    is_closed = 'CLOSED' in soup.title.text\n",
    "    return is_closed"
   ]
  },
  {
   "cell_type": "code",
   "execution_count": 8,
   "metadata": {},
   "outputs": [],
   "source": [
    "def get_business_name(soup):\n",
    "    business_name = soup.find('h1', {'class': 'biz-page-title'})\n",
    "    business_name = business_name.text.strip()\n",
    "    return business_name"
   ]
  },
  {
   "cell_type": "code",
   "execution_count": 9,
   "metadata": {},
   "outputs": [],
   "source": [
    "def get_rating(soup):\n",
    "    rating = soup.find('div', {'class': 'i-stars'})\n",
    "    rating = rating['title'].split()[0]\n",
    "    rating = float(rating)\n",
    "    return rating"
   ]
  },
  {
   "cell_type": "code",
   "execution_count": 10,
   "metadata": {},
   "outputs": [],
   "source": [
    "def get_review_count(soup):\n",
    "    review_count = soup.find('span', {'class': 'review-count rating-qualifier'})\n",
    "    review_count = review_count.text.strip().split()[0]\n",
    "    review_count = int(review_count)\n",
    "    return review_count"
   ]
  },
  {
   "cell_type": "code",
   "execution_count": 11,
   "metadata": {},
   "outputs": [],
   "source": [
    "def get_ratings_history(soup):\n",
    "    ratings_history = soup.find('div', {'id': 'rating-details-modal-content'})\n",
    "    ratings_history = ratings_history['data-monthly-ratings']\n",
    "    ratings_history = ast.literal_eval(ratings_history)\n",
    "    ratings_history = {int(k):v for k,v in ratings_history.items()}\n",
    "    ratings_history = json.dumps(ratings_history)    # stringify for sqlite; note that JSON keys are strings \n",
    "    return ratings_history"
   ]
  },
  {
   "cell_type": "code",
   "execution_count": 12,
   "metadata": {},
   "outputs": [],
   "source": [
    "def get_ratings_distribution(soup):\n",
    "    # Convert HTML table to len-10 string list\n",
    "    text = soup.find('table', {'class': 'histogram'})\n",
    "    text = text.text.replace('\\n', ' ')\n",
    "    text = re.sub(' {2,}', ',', text)    # Replace 2+ whitespace with 1 comma\n",
    "    text = text.strip(',').split(',')\n",
    "    \n",
    "    # Convert string list to dictionary\n",
    "    ratings = [text[i] for i in range(len(text)) if i%2 == 0]\n",
    "    ratings = [i.split()[0] for i in ratings]\n",
    "    ratings = [int(i) for i in ratings]\n",
    "    counts  = [text[i] for i in range(len(text)) if i%2 != 0]\n",
    "    counts  = [int(i) for i in counts]\n",
    "    ratings_distribution = {'rating' : ratings, 'count' : counts}\n",
    "    ratings_distribution = json.dumps(ratings_distribution)    # stringify for sqlite\n",
    "    return ratings_distribution"
   ]
  },
  {
   "cell_type": "code",
   "execution_count": 13,
   "metadata": {},
   "outputs": [],
   "source": [
    "# ratings_distribution = pandas.DataFrame(ratings_distribution)\n",
    "# ratings_distribution['contrib'] = ratings_distribution['rating'] * ratings_distribution['count']\n",
    "# ratings_distribution['contrib'].sum()/ratings_distribution['count'].sum()"
   ]
  },
  {
   "cell_type": "code",
   "execution_count": 14,
   "metadata": {},
   "outputs": [],
   "source": [
    "def get_price_range(soup):\n",
    "    price_range = soup.find('span', {'class': 'business-attribute price-range'})\n",
    "    price_range = price_range.text.count('$')\n",
    "    return price_range"
   ]
  },
  {
   "cell_type": "code",
   "execution_count": 15,
   "metadata": {},
   "outputs": [],
   "source": [
    "def get_category_list(soup):\n",
    "    category_list = soup.find('span', {'class': 'category-str-list'})\n",
    "    category_list = category_list.contents\n",
    "    category_list = [i.string for i in category_list]\n",
    "    category_list = [i for i in category_list if '\\n' not in i]\n",
    "    category_list = json.dumps(category_list)    # stringify for sqlite\n",
    "    return category_list"
   ]
  },
  {
   "cell_type": "code",
   "execution_count": 16,
   "metadata": {},
   "outputs": [],
   "source": [
    "def get_address(soup):\n",
    "    address = soup.find('address')\n",
    "    address = copy.copy(address)    # Make a copy to prevent modifying the original document\n",
    "    address.find('br').replace_with('\\n')\n",
    "    address = address.text.strip().split('\\n')\n",
    "    address = ', '.join(address)\n",
    "    return address"
   ]
  },
  {
   "cell_type": "code",
   "execution_count": 17,
   "metadata": {
    "scrolled": true
   },
   "outputs": [],
   "source": [
    "def get_neighborhood_list(soup):\n",
    "    neighborhood_list = soup.find('span', {'class': 'neighborhood-str-list'})\n",
    "    if neighborhood_list is not None:\n",
    "        neighborhood_list = neighborhood_list.text\n",
    "        neighborhood_list = neighborhood_list.strip().split(', ')\n",
    "        neighborhood_list = json.dumps(neighborhood_list)    # stringify for sqlite\n",
    "    return neighborhood_list"
   ]
  },
  {
   "cell_type": "markdown",
   "metadata": {},
   "source": [
    "### Testing"
   ]
  },
  {
   "cell_type": "code",
   "execution_count": 18,
   "metadata": {},
   "outputs": [],
   "source": [
    "yelp_alias = 'momofuku-má-pêche-new-york-2'"
   ]
  },
  {
   "cell_type": "code",
   "execution_count": 19,
   "metadata": {},
   "outputs": [],
   "source": [
    "url = 'https://www.yelp.com/biz/{}'.format(yelp_alias)\n",
    "r = requests.get(url, timeout=5)\n",
    "soup = bs4.BeautifulSoup(r.text, 'lxml')"
   ]
  },
  {
   "cell_type": "code",
   "execution_count": 20,
   "metadata": {},
   "outputs": [
    {
     "data": {
      "text/plain": [
       "'momofuku-m%C3%A1-p%C3%AAche-new-york-2'"
      ]
     },
     "execution_count": 20,
     "metadata": {},
     "output_type": "execute_result"
    }
   ],
   "source": [
    "yelp_alias = soup.find('meta', {'property': 'og:url'})\n",
    "yelp_alias = yelp_alias['content'].split('/')[-1]\n",
    "yelp_alias"
   ]
  },
  {
   "cell_type": "code",
   "execution_count": 21,
   "metadata": {},
   "outputs": [
    {
     "data": {
      "text/plain": [
       "3"
      ]
     },
     "execution_count": 21,
     "metadata": {},
     "output_type": "execute_result"
    }
   ],
   "source": [
    "price_range = soup.find('span', {'class': 'business-attribute price-range'})\n",
    "price_range = price_range.text.count('$')\n",
    "price_range"
   ]
  },
  {
   "cell_type": "code",
   "execution_count": 22,
   "metadata": {},
   "outputs": [
    {
     "data": {
      "text/plain": [
       "3.5"
      ]
     },
     "execution_count": 22,
     "metadata": {},
     "output_type": "execute_result"
    }
   ],
   "source": [
    "rating = soup.find('div', {'class': 'i-stars'})\n",
    "rating = rating['title'].split()[0]\n",
    "rating = float(rating)\n",
    "rating"
   ]
  },
  {
   "cell_type": "code",
   "execution_count": 23,
   "metadata": {},
   "outputs": [
    {
     "data": {
      "text/plain": [
       "'Chambers Hotel, 15 W 56th StNew York, NY 10019'"
      ]
     },
     "execution_count": 23,
     "metadata": {},
     "output_type": "execute_result"
    }
   ],
   "source": [
    "address = soup.find('address')\n",
    "address = copy.copy(address)    # Make a copy to prevent modifying the original document\n",
    "address.find('br').replace_with('\\n')\n",
    "address = address.text.strip().split('\\n')\n",
    "address = ', '.join(address)\n",
    "address"
   ]
  },
  {
   "cell_type": "markdown",
   "metadata": {},
   "source": [
    "### Run"
   ]
  },
  {
   "cell_type": "code",
   "execution_count": 24,
   "metadata": {},
   "outputs": [],
   "source": [
    "yelp_aliases = pandas.read_csv('yelp_aliases.csv')"
   ]
  },
  {
   "cell_type": "code",
   "execution_count": 25,
   "metadata": {},
   "outputs": [],
   "source": [
    "yelp_aliases['date_added'] = yelp_aliases['date_added'].apply(lambda x: None if x == '-' else x)\n",
    "yelp_aliases['date_added'] = pandas.to_datetime(yelp_aliases['date_added'])\n",
    "yelp_aliases['date_visited'] = pandas.to_datetime(yelp_aliases['date_visited'])"
   ]
  },
  {
   "cell_type": "code",
   "execution_count": 26,
   "metadata": {},
   "outputs": [],
   "source": [
    "# I did not add aliases for some food carts & bakeries; drop them for now\n",
    "yelp_aliases = yelp_aliases[yelp_aliases['yelp_alias'].notna()]"
   ]
  },
  {
   "cell_type": "code",
   "execution_count": 27,
   "metadata": {},
   "outputs": [],
   "source": [
    "# PROBLEM: chefs club alias changed; ma peche has irregular characters\n",
    "# connection = sqlite3.connect('restaurants.db')\n",
    "# already_done = pandas.read_sql_query('select * from restaurants', connection)\n",
    "# already_done = already_done['yelp_alias'].tolist()\n",
    "# yelp_aliases = yelp_aliases[yelp_aliases['yelp_alias'].apply(lambda x: x not in already_done)]"
   ]
  },
  {
   "cell_type": "code",
   "execution_count": 28,
   "metadata": {},
   "outputs": [
    {
     "name": "stdout",
     "output_type": "stream",
     "text": [
      "['muk-eun-ji-new-york', 'Muk Eun Ji']\n",
      "['ramenco-new-york-2', 'RamenCo']\n",
      "['blt-bar-and-grill-new-york', 'BLT Bar & Grill']\n",
      "['bills-bar-and-burger-downtown-new-york', 'Bill’s Bar & Burger Downtown']\n",
      "['ruchi-new-york-2', 'Ruchi']\n",
      "['komegashi-too-jersey-city', 'Komegashi Too']\n",
      "['smashburger-new-york-6', 'Smashburger']\n",
      "['harrys-italian-new-york-2', 'Harry’s Italian']\n",
      "['goa-taco-new-york', 'goa taco']\n",
      "['morgensterns-finest-ice-cream-new-york-2', 'Morgenstern’s Finest Ice Cream']\n",
      "['vanessas-dumpling-house-new-york-2', 'Vanessa’s Dumpling House']\n",
      "['philip-marie-new-york', 'Philip Marie']\n",
      "['joes-shanghai-new-york-2', 'Joe’s Shanghai']\n",
      "['oka-sushi-new-york', 'Oka Sushi']\n",
      "['pisillo-italian-panini-new-york', 'Pisillo Italian Panini']\n",
      "['friedmans-new-york-59', 'Friedman’s']\n",
      "['prince-street-pizza-new-york-2', 'Prince Street Pizza']\n",
      "['the-crooked-knife-new-york-3', 'The Crooked Knife']\n",
      "['ramen-ya-new-york-5', 'Ramen-Ya']\n",
      "['hamilton-pork-jersey-city', 'Hamilton Pork']\n",
      "['the-malt-house-new-york-3', 'The Malt House']\n",
      "['house-of-que-hoboken-2', 'House of Que']\n",
      "['mighty-quinns-barbeque-new-york-4', 'Mighty Quinn’s Barbeque']\n",
      "['flex-mussels-new-york-2', 'Flex Mussels']\n",
      "['99-favor-taste-new-york-12', '99 Favor Taste']\n",
      "['cafe-habana-new-york-4', 'Cafe Habana']\n",
      "['ahris-kitchen-jersey-city', 'Ahri’s Kitchen']\n",
      "['burger-heaven-new-york', 'Burger Heaven']\n",
      "['papillon-bistro-and-bar-new-york', 'Papillon Bistro & Bar']\n",
      "['fuku-new-york-11', 'Fuku+']\n",
      "['tipsy-shanghai-new-york', 'Tipsy Shanghai']\n",
      "['da-claudio-new-york', 'Da Claudio']\n",
      "['bcd-tofu-house-new-york-3', 'BCD Tofu House']\n",
      "['burger-and-lobster-new-york', 'Burger & Lobster']\n",
      "['momofuku-m%C3%A1-p%C3%AAche-new-york-2', 'Momofuku Má Pêche']\n",
      "['la-esquina-new-york-4', 'La Esquina']\n",
      "['zio-ristorante-new-york', 'Zio Ristorante']\n",
      "['zen-ramen-and-sushi-new-york', 'Zen Ramen & Sushi']\n",
      "['jing-fong-restaurant-new-york', 'Jing Fong Restaurant']\n",
      "['hou-yi-hot-pot-new-york', 'Hou Yi Hot Pot']\n",
      "['hunan-house-new-york-6', 'Hunan House']\n",
      "['chefs-club-by-food-and-wine-new-york-4', 'Chefs Club by Food & Wine']\n",
      "['amada-new-york-4', 'Amada']\n",
      "['hometown-hotpot-and-bbq-new-york-2', 'Hometown Hotpot & BBQ']\n",
      "['my-pie-pizzeria-romana-new-york-2', 'My pie pizzeria romana']\n",
      "['le-relais-de-venise-l-entrec%C3%B4te-new-york-4', 'Le Relais De Venise L’Entrecôte']\n",
      "['la-bonne-soupe-new-york', 'La Bonne Soupe']\n",
      "['corner-bistro-new-york', 'Corner Bistro']\n",
      "['red-egg-new-york-3', 'Red Egg']\n",
      "['ollies-sichuan-new-york', 'Ollie’s Sichuan']\n",
      "['shimizu-new-york', 'Shimizu']\n",
      "['gyu-kaku-japanese-bbq-new-york', 'Gyu-Kaku Japanese BBQ']\n",
      "['funny-bbq-98-new-york', 'Funny BBQ 98']\n",
      "['dim-sum-palace-new-york-7', 'Dim Sum Palace']\n",
      "['zest-szechuan-new-york', 'Zest Szechuan']\n",
      "['soba-azuma-new-york', 'SOBA AZUMA']\n",
      "['ootoya-chelsea-new-york', 'Ootoya Chelsea']\n",
      "['nerai-new-york', 'Nerai']\n",
      "['parm-new-york', 'Parm']\n",
      "['sugar-factory-new-york-7', 'Sugar Factory']\n",
      "['ichiumi-new-york-4', 'IchiUmi']\n",
      "['wolfgangs-steakhouse-new-york-4', 'Wolfgang’s Steakhouse']\n",
      "['lady-m-cake-boutique-new-york-3', 'Lady M Cake Boutique']\n",
      "['five-senses-new-york', 'Five Senses']\n",
      "['gammeeok-new-york', 'Gammeeok']\n",
      "['hama-japanese-cuisine-new-york', 'Hama Japanese Cuisine']\n",
      "['valbella-midtown-manhattan', 'Valbella Midtown']\n",
      "['johns-of-bleecker-street-new-york-2', 'John’s of Bleecker Street']\n",
      "['dong-chun-hong-new-york', 'Dong Chun Hong']\n",
      "['shanghai-mong-new-york', 'Shanghai Mong']\n",
      "['spunto-new-york-5', 'Spunto']\n",
      "['blue-ribbon-sushi-bar-rock-center-new-york-3', 'Blue Ribbon Sushi Bar - Rock Center']\n",
      "['abiko-curry-new-york-2', 'Abiko Curry']\n",
      "['yupdduk-new-york-3', 'Yupdduk']\n",
      "['her-name-is-han-new-york-3', 'Her Name Is Han']\n",
      "['katzs-delicatessen-new-york', 'Katz’s Delicatessen']\n",
      "['auntie-guans-kitchen-108-new-york', 'Auntie Guan’s Kitchen 108']\n",
      "['contra-new-york', 'Contra']\n",
      "['haru-sushi-new-york-7', 'Haru Sushi']\n",
      "['westville-wall-st-new-york-5', 'Westville - Wall St']\n",
      "['benares-new-york-3', 'Benares']\n",
      "['neapolitan-express-new-york-4', 'Neapolitan Express']\n",
      "['roti-modern-mediterranean-new-york', 'Roti Modern Mediterranean']\n",
      "['boucherie-west-village-new-york-3', 'Boucherie West Village']\n",
      "['take31-new-york', 'Take31']\n",
      "['all-american-deli-new-york', 'All American Deli']\n",
      "['dim-sum-palace-new-york-8', 'Dim Sum Palace']\n",
      "['harrys-new-york-3', 'Harry’s']\n",
      "['east-dumpling-new-york-2', 'East Dumpling']\n",
      "['la-vie-en-szechuan-new-york-2', 'La Vie en Szechuan']\n",
      "['tomorrow-new-york', 'Tomorrow']\n",
      "['peter-luger-brooklyn-2', 'Peter Luger']\n",
      "['congee-village-new-york', 'Congee Village']\n",
      "['takahachi-bakery-new-york', 'Takahachi Bakery']\n",
      "['little-italy-pizza-new-york-25', 'Little Italy Pizza']\n",
      "['the-boil-new-york-5', 'The Boil']\n",
      "['beaubourg-new-york', 'Beaubourg']\n",
      "['razza-pizza-artigianale-jersey-city-2', 'Razza Pizza Artigianale']\n",
      "['clinton-hall-new-york-11', 'Clinton Hall']\n",
      "['mad-dog-and-beans-mexican-cantina-new-york-2', 'Mad Dog & Beans Mexican Cantina']\n",
      "['aahar-indian-cuisine-new-york', 'Aahar Indian Cuisine']\n",
      "['bo-ky-restaurant-new-york', 'Bo Ky Restaurant']\n",
      "['porta-jersey-city-2', 'Porta']\n",
      "['szechuan-mountain-house-new-york-2', 'Szechuan Mountain House']\n",
      "['fig-and-olive-fifth-ave-new-york-4', 'Fig & Olive Fifth Ave']\n",
      "['south-house-bar-and-restaurant-jersey-city', 'South House Bar & Restaurant']\n",
      "['shu-jiao-fu-zhou-cuisine-restaurant-new-york', 'Shu Jiao Fu Zhou Cuisine Restaurant']\n",
      "['honshu-jersey-city-4', 'Honshu']\n",
      "['bucket-and-bay-craft-gelato-jersey-city-5', 'Bucket & Bay Craft Gelato']\n",
      "['skinners-loft-jersey-city', 'Skinner’s Loft']\n",
      "['farmer-and-the-fish-gramercy-new-york', 'Farmer & The Fish- Gramercy']\n",
      "['brgr-new-york-2', 'BRGR']\n",
      "['kang-ho-dong-baekjeong-new-york', 'Kang Ho Dong Baekjeong']\n",
      "['spot-dessert-bar-new-york-2', 'Spot Dessert Bar']\n",
      "['latham-house-jersey-city', 'Latham House']\n",
      "['delicatessen-new-york', 'Delicatessen']\n",
      "['the-musket-room-new-york', 'The Musket Room']\n",
      "['empell%C3%B3n-new-york-3', 'Empellón']\n",
      "['rowlands-bar-and-grill-new-york-3', 'Rowland’s Bar & Grill']\n",
      "['xiao-chuan-dian-palisades-park-2', 'Xiao Chuan Dian']\n",
      "['sawadee-jersey-city', 'Sawadee']\n",
      "['churrascaria-plataforma-new-york-3', 'Churrascaria Plataforma']\n",
      "['noodle-village-new-york', 'Noodle Village']\n",
      "['the-wheeltapper-pub-new-york', 'The Wheeltapper Pub']\n",
      "['dons-bogam-bbq-and-wine-bar-new-york-3', 'Dons Bogam BBQ & Wine Bar']\n",
      "['bar-bacon-new-york-2', 'Bar Bacon']\n"
     ]
    }
   ],
   "source": [
    "# Iterate\n",
    "all_data = pandas.DataFrame()\n",
    "for index, row in yelp_aliases.iterrows():\n",
    "    # Set up soup\n",
    "    yelp_alias = row['yelp_alias']\n",
    "    url = 'https://www.yelp.com/biz/{}'.format(yelp_alias)\n",
    "    r = requests.get(url, timeout=5)\n",
    "    soup = bs4.BeautifulSoup(r.text, 'lxml')\n",
    "    \n",
    "    # Get data\n",
    "    data = collections.OrderedDict()\n",
    "    data['yelp_alias'] = get_yelp_alias(soup)\n",
    "    data['yelp_biz_id'] = get_yelp_biz_id(soup)\n",
    "    data['is_closed'] = get_is_closed(soup)\n",
    "    data['business_name'] = get_business_name(soup)\n",
    "    data['rating'] = get_rating(soup)\n",
    "    data['review_count'] = get_review_count(soup)\n",
    "    data['ratings_history'] = get_ratings_history(soup)\n",
    "    data['price_range'] = get_price_range(soup)\n",
    "    data['category_list'] = get_category_list(soup)\n",
    "    data['address'] = get_address(soup)\n",
    "    data['neighborhood_list'] = get_neighborhood_list(soup)\n",
    "    \n",
    "    # Append\n",
    "    print([data['yelp_alias'], data['business_name']])\n",
    "    data = pandas.Series(data).to_frame().T\n",
    "    all_data = all_data.append(data, ignore_index=True)"
   ]
  },
  {
   "cell_type": "code",
   "execution_count": 29,
   "metadata": {},
   "outputs": [],
   "source": [
    "# TODO: check data is valid before writing to DB\n",
    "connection = sqlite3.connect('restaurants.db')\n",
    "all_data.to_sql('restaurants', connection, if_exists='replace')"
   ]
  },
  {
   "cell_type": "markdown",
   "metadata": {},
   "source": [
    "### Read DB Testing"
   ]
  },
  {
   "cell_type": "code",
   "execution_count": 30,
   "metadata": {},
   "outputs": [],
   "source": [
    "data = pandas.read_sql_query('select * from restaurants', connection)"
   ]
  },
  {
   "cell_type": "code",
   "execution_count": 31,
   "metadata": {},
   "outputs": [
    {
     "data": {
      "text/html": [
       "<div>\n",
       "<style scoped>\n",
       "    .dataframe tbody tr th:only-of-type {\n",
       "        vertical-align: middle;\n",
       "    }\n",
       "\n",
       "    .dataframe tbody tr th {\n",
       "        vertical-align: top;\n",
       "    }\n",
       "\n",
       "    .dataframe thead th {\n",
       "        text-align: right;\n",
       "    }\n",
       "</style>\n",
       "<table border=\"1\" class=\"dataframe\">\n",
       "  <thead>\n",
       "    <tr style=\"text-align: right;\">\n",
       "      <th></th>\n",
       "      <th>index</th>\n",
       "      <th>yelp_alias</th>\n",
       "      <th>yelp_biz_id</th>\n",
       "      <th>is_closed</th>\n",
       "      <th>business_name</th>\n",
       "      <th>rating</th>\n",
       "      <th>review_count</th>\n",
       "      <th>ratings_history</th>\n",
       "      <th>price_range</th>\n",
       "      <th>category_list</th>\n",
       "      <th>address</th>\n",
       "      <th>neighborhood_list</th>\n",
       "    </tr>\n",
       "  </thead>\n",
       "  <tbody>\n",
       "    <tr>\n",
       "      <th>0</th>\n",
       "      <td>0</td>\n",
       "      <td>muk-eun-ji-new-york</td>\n",
       "      <td>g_F9WJJpRFB40oPJdoD2uA</td>\n",
       "      <td>1</td>\n",
       "      <td>Muk Eun Ji</td>\n",
       "      <td>3.5</td>\n",
       "      <td>365</td>\n",
       "      <td>{\"2016\": [[0, 4.0], [1, 3.5], [2, 3.0], [3, 3....</td>\n",
       "      <td>2</td>\n",
       "      <td>[\"Korean\", \"Barbeque\"]</td>\n",
       "      <td>34 W 32nd St, Fl 1New York, NY 10001</td>\n",
       "      <td>[\"Koreatown\", \"Midtown West\"]</td>\n",
       "    </tr>\n",
       "    <tr>\n",
       "      <th>1</th>\n",
       "      <td>1</td>\n",
       "      <td>ramenco-new-york-2</td>\n",
       "      <td>XBuzf_C9ewVerOQ0pEpjTA</td>\n",
       "      <td>1</td>\n",
       "      <td>RamenCo</td>\n",
       "      <td>3.0</td>\n",
       "      <td>229</td>\n",
       "      <td>{\"2016\": [[0, 2.5], [1, 2.5], [2, 3.0], [3, 3....</td>\n",
       "      <td>2</td>\n",
       "      <td>[\"Ramen\"]</td>\n",
       "      <td>191 Pearl St, New York, NY 10038</td>\n",
       "      <td>[\"Financial District\"]</td>\n",
       "    </tr>\n",
       "    <tr>\n",
       "      <th>2</th>\n",
       "      <td>2</td>\n",
       "      <td>blt-bar-and-grill-new-york</td>\n",
       "      <td>52cxQ_pGIEvdXQcRa9GfUA</td>\n",
       "      <td>1</td>\n",
       "      <td>BLT Bar &amp; Grill</td>\n",
       "      <td>3.0</td>\n",
       "      <td>163</td>\n",
       "      <td>{\"2016\": [[0, 4.0], [1, 4.0], [2, 4.0], [3, 4....</td>\n",
       "      <td>2</td>\n",
       "      <td>[\"American (Traditional)\"]</td>\n",
       "      <td>123 Washington St, New York, NY 10006</td>\n",
       "      <td>[\"Financial District\"]</td>\n",
       "    </tr>\n",
       "    <tr>\n",
       "      <th>3</th>\n",
       "      <td>3</td>\n",
       "      <td>bills-bar-and-burger-downtown-new-york</td>\n",
       "      <td>fvYQeoC42TkIyPTSVEQWvw</td>\n",
       "      <td>0</td>\n",
       "      <td>Bill’s Bar &amp; Burger Downtown</td>\n",
       "      <td>3.5</td>\n",
       "      <td>420</td>\n",
       "      <td>{\"2016\": [[0, 3.0], [1, 3.0], [2, 3.0], [3, 3....</td>\n",
       "      <td>2</td>\n",
       "      <td>[\"Bars\", \"Burgers\"]</td>\n",
       "      <td>85 West St, New York, NY 10006</td>\n",
       "      <td>[\"Financial District\"]</td>\n",
       "    </tr>\n",
       "    <tr>\n",
       "      <th>4</th>\n",
       "      <td>4</td>\n",
       "      <td>ruchi-new-york-2</td>\n",
       "      <td>HGNqWrRYJNyhJSS8yia8HQ</td>\n",
       "      <td>0</td>\n",
       "      <td>Ruchi</td>\n",
       "      <td>3.5</td>\n",
       "      <td>310</td>\n",
       "      <td>{\"2016\": [[0, 3.0], [1, 3.0], [2, 3.0], [3, 3....</td>\n",
       "      <td>2</td>\n",
       "      <td>[\"Indian\"]</td>\n",
       "      <td>120 Cedar St, New York, NY 10006</td>\n",
       "      <td>[\"Financial District\"]</td>\n",
       "    </tr>\n",
       "  </tbody>\n",
       "</table>\n",
       "</div>"
      ],
      "text/plain": [
       "   index                              yelp_alias             yelp_biz_id  \\\n",
       "0      0                     muk-eun-ji-new-york  g_F9WJJpRFB40oPJdoD2uA   \n",
       "1      1                      ramenco-new-york-2  XBuzf_C9ewVerOQ0pEpjTA   \n",
       "2      2              blt-bar-and-grill-new-york  52cxQ_pGIEvdXQcRa9GfUA   \n",
       "3      3  bills-bar-and-burger-downtown-new-york  fvYQeoC42TkIyPTSVEQWvw   \n",
       "4      4                        ruchi-new-york-2  HGNqWrRYJNyhJSS8yia8HQ   \n",
       "\n",
       "   is_closed                 business_name  rating  review_count  \\\n",
       "0          1                    Muk Eun Ji     3.5           365   \n",
       "1          1                       RamenCo     3.0           229   \n",
       "2          1               BLT Bar & Grill     3.0           163   \n",
       "3          0  Bill’s Bar & Burger Downtown     3.5           420   \n",
       "4          0                         Ruchi     3.5           310   \n",
       "\n",
       "                                     ratings_history  price_range  \\\n",
       "0  {\"2016\": [[0, 4.0], [1, 3.5], [2, 3.0], [3, 3....            2   \n",
       "1  {\"2016\": [[0, 2.5], [1, 2.5], [2, 3.0], [3, 3....            2   \n",
       "2  {\"2016\": [[0, 4.0], [1, 4.0], [2, 4.0], [3, 4....            2   \n",
       "3  {\"2016\": [[0, 3.0], [1, 3.0], [2, 3.0], [3, 3....            2   \n",
       "4  {\"2016\": [[0, 3.0], [1, 3.0], [2, 3.0], [3, 3....            2   \n",
       "\n",
       "                category_list                                address  \\\n",
       "0      [\"Korean\", \"Barbeque\"]   34 W 32nd St, Fl 1New York, NY 10001   \n",
       "1                   [\"Ramen\"]       191 Pearl St, New York, NY 10038   \n",
       "2  [\"American (Traditional)\"]  123 Washington St, New York, NY 10006   \n",
       "3         [\"Bars\", \"Burgers\"]         85 West St, New York, NY 10006   \n",
       "4                  [\"Indian\"]       120 Cedar St, New York, NY 10006   \n",
       "\n",
       "               neighborhood_list  \n",
       "0  [\"Koreatown\", \"Midtown West\"]  \n",
       "1         [\"Financial District\"]  \n",
       "2         [\"Financial District\"]  \n",
       "3         [\"Financial District\"]  \n",
       "4         [\"Financial District\"]  "
      ]
     },
     "execution_count": 31,
     "metadata": {},
     "output_type": "execute_result"
    }
   ],
   "source": [
    "data.head()"
   ]
  },
  {
   "cell_type": "code",
   "execution_count": 32,
   "metadata": {},
   "outputs": [],
   "source": [
    "data['ratings_history'] = data['ratings_history'].apply(ast.literal_eval)"
   ]
  },
  {
   "cell_type": "code",
   "execution_count": 33,
   "metadata": {},
   "outputs": [
    {
     "data": {
      "text/plain": [
       "dict_keys(['2016', '2017', '2018', '2014', '2015'])"
      ]
     },
     "execution_count": 33,
     "metadata": {},
     "output_type": "execute_result"
    }
   ],
   "source": [
    "data['ratings_history'][0].keys()"
   ]
  },
  {
   "cell_type": "code",
   "execution_count": 34,
   "metadata": {
    "scrolled": true
   },
   "outputs": [
    {
     "data": {
      "text/html": [
       "<div>\n",
       "<style scoped>\n",
       "    .dataframe tbody tr th:only-of-type {\n",
       "        vertical-align: middle;\n",
       "    }\n",
       "\n",
       "    .dataframe tbody tr th {\n",
       "        vertical-align: top;\n",
       "    }\n",
       "\n",
       "    .dataframe thead th {\n",
       "        text-align: right;\n",
       "    }\n",
       "</style>\n",
       "<table border=\"1\" class=\"dataframe\">\n",
       "  <thead>\n",
       "    <tr style=\"text-align: right;\">\n",
       "      <th></th>\n",
       "      <th>type</th>\n",
       "      <th>name</th>\n",
       "      <th>tbl_name</th>\n",
       "      <th>rootpage</th>\n",
       "      <th>sql</th>\n",
       "    </tr>\n",
       "  </thead>\n",
       "  <tbody>\n",
       "    <tr>\n",
       "      <th>0</th>\n",
       "      <td>table</td>\n",
       "      <td>restaurants</td>\n",
       "      <td>restaurants</td>\n",
       "      <td>2</td>\n",
       "      <td>CREATE TABLE \"restaurants\" (\\n\"index\" INTEGER,...</td>\n",
       "    </tr>\n",
       "    <tr>\n",
       "      <th>1</th>\n",
       "      <td>index</td>\n",
       "      <td>ix_restaurants_index</td>\n",
       "      <td>restaurants</td>\n",
       "      <td>4</td>\n",
       "      <td>CREATE INDEX \"ix_restaurants_index\"ON \"restaur...</td>\n",
       "    </tr>\n",
       "  </tbody>\n",
       "</table>\n",
       "</div>"
      ],
      "text/plain": [
       "    type                  name     tbl_name  rootpage  \\\n",
       "0  table           restaurants  restaurants         2   \n",
       "1  index  ix_restaurants_index  restaurants         4   \n",
       "\n",
       "                                                 sql  \n",
       "0  CREATE TABLE \"restaurants\" (\\n\"index\" INTEGER,...  \n",
       "1  CREATE INDEX \"ix_restaurants_index\"ON \"restaur...  "
      ]
     },
     "execution_count": 34,
     "metadata": {},
     "output_type": "execute_result"
    }
   ],
   "source": [
    "connection = sqlite3.connect('restaurants.db')\n",
    "pandas.read_sql_query('select * from sqlite_master', connection)"
   ]
  },
  {
   "cell_type": "code",
   "execution_count": null,
   "metadata": {},
   "outputs": [],
   "source": []
  }
 ],
 "metadata": {
  "kernelspec": {
   "display_name": "Python 3",
   "language": "python",
   "name": "python3"
  },
  "language_info": {
   "codemirror_mode": {
    "name": "ipython",
    "version": 3
   },
   "file_extension": ".py",
   "mimetype": "text/x-python",
   "name": "python",
   "nbconvert_exporter": "python",
   "pygments_lexer": "ipython3",
   "version": "3.6.5"
  },
  "toc": {
   "nav_menu": {},
   "number_sections": false,
   "sideBar": true,
   "skip_h1_title": false,
   "title_cell": "Table of Contents",
   "title_sidebar": "Contents",
   "toc_cell": false,
   "toc_position": {},
   "toc_section_display": true,
   "toc_window_display": false
  }
 },
 "nbformat": 4,
 "nbformat_minor": 2
}
