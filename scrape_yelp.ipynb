{
 "cells": [
  {
   "cell_type": "code",
   "execution_count": 1,
   "metadata": {},
   "outputs": [],
   "source": [
    "# TODO:\n",
    "# test PSQL locally; store as JSON\n",
    "# date_added, date_visited\n",
    "# rating_better & rating_worse over time (are the restaurants better/worse after I went?)\n",
    "# check data before writing, if different throw error\n",
    "#   - (new categories, historical ratings_history changes, address changes)\n",
    "# gspread\n",
    "# unittest"
   ]
  },
  {
   "cell_type": "code",
   "execution_count": 2,
   "metadata": {},
   "outputs": [],
   "source": [
    "# date_visited_rating = ratings_history[date_visited.year][date_visited.month-1][1]\n",
    "# most_recent_rating = ratings_history[max(ratings_history.keys())][-1][1]"
   ]
  },
  {
   "cell_type": "code",
   "execution_count": 3,
   "metadata": {},
   "outputs": [],
   "source": [
    "# Imports\n",
    "import ast\n",
    "import bs4\n",
    "import collections\n",
    "import copy\n",
    "import datetime\n",
    "import json\n",
    "import pandas\n",
    "import random\n",
    "import re\n",
    "import requests\n",
    "import sqlalchemy\n",
    "import sqlite3\n",
    "import time\n",
    "import urllib"
   ]
  },
  {
   "cell_type": "markdown",
   "metadata": {},
   "source": [
    "### Define"
   ]
  },
  {
   "cell_type": "code",
   "execution_count": 4,
   "metadata": {},
   "outputs": [],
   "source": [
    "def get_yelp_biz_id(soup):\n",
    "    yelp_biz_id = soup.find('meta', {'name': 'yelp-biz-id'})\n",
    "    yelp_biz_id = yelp_biz_id['content']\n",
    "    return yelp_biz_id    # ybid does not need to serialized because it is not a metric_name"
   ]
  },
  {
   "cell_type": "code",
   "execution_count": 5,
   "metadata": {},
   "outputs": [],
   "source": [
    "def get_yelp_alias(soup):\n",
    "    # TODO: test that input_yelp_alias == scraped_yelp_alias; url may get re-routed\n",
    "    yelp_alias = soup.find('meta', {'property': 'og:url'})\n",
    "    yelp_alias = yelp_alias['content'].split('/')[-1]\n",
    "    return yelp_alias"
   ]
  },
  {
   "cell_type": "code",
   "execution_count": 6,
   "metadata": {},
   "outputs": [],
   "source": [
    "def get_is_closed(soup):\n",
    "    is_closed = 'CLOSED' in soup.title.text\n",
    "    return is_closed"
   ]
  },
  {
   "cell_type": "code",
   "execution_count": 7,
   "metadata": {},
   "outputs": [],
   "source": [
    "def get_business_name(soup):\n",
    "    business_name = soup.find('h1', {'class': 'biz-page-title'})\n",
    "    business_name = business_name.text.strip()\n",
    "    return business_name"
   ]
  },
  {
   "cell_type": "code",
   "execution_count": 8,
   "metadata": {},
   "outputs": [],
   "source": [
    "def get_rating(soup):\n",
    "    rating = soup.find('div', {'class': 'i-stars'})\n",
    "    rating = rating['title'].split()[0]\n",
    "    rating = float(rating)\n",
    "    return rating"
   ]
  },
  {
   "cell_type": "code",
   "execution_count": 9,
   "metadata": {},
   "outputs": [],
   "source": [
    "def get_review_count(soup):\n",
    "    review_count = soup.find('span', {'class': 'review-count rating-qualifier'})\n",
    "    review_count = review_count.text.strip().split()[0]\n",
    "    review_count = int(review_count)\n",
    "    return review_count"
   ]
  },
  {
   "cell_type": "code",
   "execution_count": 10,
   "metadata": {},
   "outputs": [],
   "source": [
    "def get_ratings_history(soup):\n",
    "    ratings_history = soup.find('div', {'id': 'rating-details-modal-content'})\n",
    "    ratings_history = ratings_history['data-monthly-ratings']\n",
    "    ratings_history = json.loads(ratings_history)\n",
    "    ratings_history = {int(k):v for k,v in ratings_history.items()}\n",
    "    return ratings_history"
   ]
  },
  {
   "cell_type": "code",
   "execution_count": 11,
   "metadata": {},
   "outputs": [],
   "source": [
    "def get_ratings_distribution(soup):\n",
    "    # Convert HTML table to len-10 string list\n",
    "    text = soup.find('table', {'class': 'histogram'})\n",
    "    text = text.text.replace('\\n', ' ')\n",
    "    text = re.sub(' {2,}', ',', text)    # Replace 2+ whitespace with 1 comma\n",
    "    text = text.strip(',').split(',')\n",
    "    \n",
    "    # Convert string list to dictionary\n",
    "    ratings = [text[i] for i in range(len(text)) if i%2 == 0]\n",
    "    ratings = [i.split()[0] for i in ratings]\n",
    "    ratings = [int(i) for i in ratings]\n",
    "    counts  = [text[i] for i in range(len(text)) if i%2 != 0]\n",
    "    counts  = [int(i) for i in counts]\n",
    "    ratings_distribution = {'rating' : ratings, 'count' : counts}\n",
    "    return ratings_distribution"
   ]
  },
  {
   "cell_type": "code",
   "execution_count": 12,
   "metadata": {},
   "outputs": [],
   "source": [
    "def get_price_range(soup):\n",
    "    price_range = soup.find('span', {'class': 'business-attribute price-range'})\n",
    "    price_range = price_range.text.count('$')\n",
    "    return price_range"
   ]
  },
  {
   "cell_type": "code",
   "execution_count": 13,
   "metadata": {},
   "outputs": [],
   "source": [
    "def get_category_list(soup):\n",
    "    category_list = soup.find('span', {'class': 'category-str-list'})\n",
    "    category_list = category_list.contents\n",
    "    category_list = [i.string for i in category_list]\n",
    "    category_list = [i for i in category_list if '\\n' not in i]\n",
    "    return category_list"
   ]
  },
  {
   "cell_type": "code",
   "execution_count": 14,
   "metadata": {},
   "outputs": [],
   "source": [
    "def get_address(soup):\n",
    "    address = soup.find('address')\n",
    "    address = copy.copy(address)    # Make a copy to prevent modifying the original document\n",
    "    for tag in address.find_all('br'):\n",
    "        tag.replace_with('\\n')\n",
    "    address = address.text.strip().split('\\n')\n",
    "    address = ', '.join(address)\n",
    "    return address"
   ]
  },
  {
   "cell_type": "code",
   "execution_count": 15,
   "metadata": {
    "scrolled": true
   },
   "outputs": [],
   "source": [
    "def get_neighborhood_list(soup):\n",
    "    neighborhood_list = soup.find('span', {'class': 'neighborhood-str-list'})\n",
    "    if neighborhood_list is not None:\n",
    "        neighborhood_list = neighborhood_list.text\n",
    "        neighborhood_list = neighborhood_list.strip().split(', ')\n",
    "    return neighborhood_list"
   ]
  },
  {
   "cell_type": "markdown",
   "metadata": {},
   "source": [
    "### Testing"
   ]
  },
  {
   "cell_type": "code",
   "execution_count": null,
   "metadata": {},
   "outputs": [],
   "source": [
    "yelp_alias = 'momofuku-má-pêche-new-york-2'"
   ]
  },
  {
   "cell_type": "code",
   "execution_count": null,
   "metadata": {},
   "outputs": [],
   "source": [
    "urllib.parse.quote_plus(yelp_alias)"
   ]
  },
  {
   "cell_type": "code",
   "execution_count": null,
   "metadata": {},
   "outputs": [],
   "source": [
    "url = 'https://www.yelp.com/biz/{}'.format(yelp_alias)\n",
    "r = requests.get(url, timeout=5)\n",
    "soup = bs4.BeautifulSoup(r.text, 'lxml')"
   ]
  },
  {
   "cell_type": "code",
   "execution_count": null,
   "metadata": {},
   "outputs": [],
   "source": [
    "yelp_alias = soup.find('meta', {'property': 'og:url'})\n",
    "yelp_alias = yelp_alias['content'].split('/')[-1]\n",
    "yelp_alias"
   ]
  },
  {
   "cell_type": "code",
   "execution_count": null,
   "metadata": {},
   "outputs": [],
   "source": [
    "is_closed = 'CLOSED' in soup.title.text\n",
    "is_closed"
   ]
  },
  {
   "cell_type": "code",
   "execution_count": null,
   "metadata": {},
   "outputs": [],
   "source": [
    "price_range = soup.find('span', {'class': 'business-attribute price-range'})\n",
    "price_range = price_range.text.count('$')\n",
    "price_range"
   ]
  },
  {
   "cell_type": "code",
   "execution_count": null,
   "metadata": {},
   "outputs": [],
   "source": [
    "rating = soup.find('div', {'class': 'i-stars'})\n",
    "rating = rating['title'].split()[0]\n",
    "rating = float(rating)\n",
    "rating"
   ]
  },
  {
   "cell_type": "code",
   "execution_count": null,
   "metadata": {},
   "outputs": [],
   "source": [
    "address = soup.find('address')\n",
    "address = copy.copy(address)    # Make a copy to prevent modifying the original document\n",
    "for tag in address.find_all('br'):\n",
    "    tag.replace_with('\\n')\n",
    "address = address.text.strip().split('\\n')\n",
    "address = ', '.join(address)\n",
    "address"
   ]
  },
  {
   "cell_type": "code",
   "execution_count": null,
   "metadata": {},
   "outputs": [],
   "source": []
  },
  {
   "cell_type": "markdown",
   "metadata": {},
   "source": [
    "### Check"
   ]
  },
  {
   "cell_type": "code",
   "execution_count": 16,
   "metadata": {},
   "outputs": [],
   "source": [
    "# engine = sqlalchemy.create_engine('postgresql://localhost/postgres')\n",
    "# tables = pandas.read_sql_query(\"\"\"\n",
    "# select * from pg_catalog.pg_tables\n",
    "# where schemaname = 'public'\n",
    "# and tablename = 'yelp_raw'\n",
    "# \"\"\", engine)\n",
    "# tables"
   ]
  },
  {
   "cell_type": "code",
   "execution_count": 17,
   "metadata": {},
   "outputs": [
    {
     "data": {
      "text/html": [
       "<div>\n",
       "<style scoped>\n",
       "    .dataframe tbody tr th:only-of-type {\n",
       "        vertical-align: middle;\n",
       "    }\n",
       "\n",
       "    .dataframe tbody tr th {\n",
       "        vertical-align: top;\n",
       "    }\n",
       "\n",
       "    .dataframe thead th {\n",
       "        text-align: right;\n",
       "    }\n",
       "</style>\n",
       "<table border=\"1\" class=\"dataframe\">\n",
       "  <thead>\n",
       "    <tr style=\"text-align: right;\">\n",
       "      <th></th>\n",
       "      <th>type</th>\n",
       "      <th>name</th>\n",
       "      <th>tbl_name</th>\n",
       "      <th>rootpage</th>\n",
       "      <th>sql</th>\n",
       "    </tr>\n",
       "  </thead>\n",
       "  <tbody>\n",
       "  </tbody>\n",
       "</table>\n",
       "</div>"
      ],
      "text/plain": [
       "Empty DataFrame\n",
       "Columns: [type, name, tbl_name, rootpage, sql]\n",
       "Index: []"
      ]
     },
     "execution_count": 17,
     "metadata": {},
     "output_type": "execute_result"
    }
   ],
   "source": [
    "connection = sqlite3.connect('restaurants.db')\n",
    "tables = pandas.read_sql_query(\"\"\"\n",
    "select * from sqlite_master\n",
    "where type = 'table'\n",
    "\"\"\", connection)\n",
    "tables"
   ]
  },
  {
   "cell_type": "code",
   "execution_count": 18,
   "metadata": {},
   "outputs": [],
   "source": [
    "if 'yelp_raw' in tables['tbl_name'].values:\n",
    "    yelp_aliases = yelp_aliases[yelp_aliases['yelp_alias'].notna()]\n",
    "    yelp_raw = pandas.read_sql_query('select * from yelp_raw', connection)\n",
    "    yelp_raw['insert_datetime'] = pandas.to_datetime(yelp_raw['insert_datetime'])\n",
    "    yelp_raw['insert_date'] = yelp_raw['insert_datetime'].dt.date\n",
    "    count_by_insert_date = yelp_raw.groupby('insert_date').count()['yelp_biz_id']\n",
    "    count_by_insert_date = count_by_insert_date.rename('count').reset_index()\n",
    "    count_by_insert_date"
   ]
  },
  {
   "cell_type": "markdown",
   "metadata": {},
   "source": [
    "### Run"
   ]
  },
  {
   "cell_type": "code",
   "execution_count": 19,
   "metadata": {},
   "outputs": [],
   "source": [
    "yelp_aliases = pandas.read_csv('yelp_aliases.csv')"
   ]
  },
  {
   "cell_type": "code",
   "execution_count": 20,
   "metadata": {},
   "outputs": [],
   "source": [
    "# I did not add aliases for some food carts & bakeries; drop them for now\n",
    "yelp_aliases = yelp_aliases[yelp_aliases['yelp_alias'].notna()]\n",
    "\n",
    "# I use '-' to represent N/A; convert to None \n",
    "yelp_aliases['date_added'] = yelp_aliases['date_added'].apply(lambda x: None if x == '-' else x)\n",
    "yelp_aliases['date_added'] = pandas.to_datetime(yelp_aliases['date_added'])\n",
    "yelp_aliases['date_visited'] = pandas.to_datetime(yelp_aliases['date_visited'])"
   ]
  },
  {
   "cell_type": "code",
   "execution_count": 21,
   "metadata": {},
   "outputs": [],
   "source": [
    "# TODO: proxies & IP pool?\n",
    "class Connector:\n",
    "    \"\"\" This class handles how to make a connection to a URL. \"\"\"\n",
    "    def __init__(self):\n",
    "        self.attempt_limit = 3    # Attempt to connect N times\n",
    "        self.sleep = 5            # Sleep N seconds after failing to connect\n",
    "    \n",
    "    def make_soup(self, url):\n",
    "        \"\"\" Given a URL, attempt N times to connect.\n",
    "            If successful, return soup object. \"\"\"\n",
    "        # Attempt to connect\n",
    "        attempt = 1\n",
    "        while attempt <= self.attempt_limit:\n",
    "            try:\n",
    "                r = requests.get(url, timeout=5)\n",
    "                rand_sleep = random.uniform(1, 3)\n",
    "                print('Connected, sleeping {} seconds...'.format(round(rand_sleep, 2)))\n",
    "                time.sleep(rand_sleep)\n",
    "                break\n",
    "            except requests.exceptions.ReadTimeout:\n",
    "                print('Could not connect, sleeping {} seconds...'.format(self.sleep))\n",
    "                attempt += 1\n",
    "                time.sleep(self.sleep)\n",
    "                self.sleep *= 2\n",
    "        \n",
    "        # If connected, make soup\n",
    "        if attempt > self.attempt_limit:\n",
    "            raise Exception('Failed to connect after {} attempts'.format(self.attempt_limit))\n",
    "        soup = bs4.BeautifulSoup(r.text, 'lxml')\n",
    "        return soup"
   ]
  },
  {
   "cell_type": "code",
   "execution_count": 22,
   "metadata": {},
   "outputs": [],
   "source": [
    "def dict_to_df(data_i):\n",
    "    \"\"\" Convert dictionary to melted DataFrame format.\n",
    "        data_i represents a single row in pivoted data. \"\"\"\n",
    "    # Serialize metric_values (TODO: remove when migrating to PSQL?)\n",
    "    for key, value in data_i.items():\n",
    "        data_i[key] = json.dumps(value)\n",
    "    \n",
    "    # Melt\n",
    "    data_i = pandas.Series(data_i).to_frame().T\n",
    "    data_i = data_i.melt()\n",
    "    data_i.columns = ['metric_name', 'metric_value']\n",
    "    data_i.insert(0, 'yelp_biz_id', get_yelp_biz_id(soup))\n",
    "    data_i.insert(0, 'insert_datetime', datetime.datetime.now())\n",
    "    return data_i"
   ]
  },
  {
   "cell_type": "code",
   "execution_count": 23,
   "metadata": {
    "scrolled": true
   },
   "outputs": [
    {
     "name": "stdout",
     "output_type": "stream",
     "text": [
      "['Muk Eun Ji', 'muk-eun-ji-new-york']\n",
      "Sleeping 1.97 seconds...\n",
      "['RamenCo', 'ramenco-new-york-2']\n",
      "Sleeping 1.75 seconds...\n",
      "['BLT Bar & Grill', 'blt-bar-and-grill-new-york']\n",
      "Sleeping 1.95 seconds...\n",
      "['Bill’s Bar & Burger Downtown', 'bills-bar-and-burger-downtown-new-york']\n",
      "Sleeping 2.45 seconds...\n",
      "['Ruchi', 'ruchi-new-york-2']\n",
      "Sleeping 2.65 seconds...\n",
      "['Komegashi Too', 'komegashi-too-jersey-city']\n",
      "Sleeping 1.24 seconds...\n",
      "['Smashburger', 'smashburger-new-york-6']\n",
      "Sleeping 1.93 seconds...\n",
      "[\"Harry's Italian\", 'harrys-italian-new-york-2']\n",
      "Sleeping 1.67 seconds...\n",
      "['goa taco', 'goa-taco-new-york']\n",
      "Sleeping 2.8 seconds...\n",
      "[\"Morgenstern's Finest Ice Cream\", 'morgensterns-finest-ice-cream-new-york-2']\n",
      "Sleeping 2.12 seconds...\n",
      "[\"Vanessa's Dumpling House\", 'vanessas-dumpling-house-new-york-2']\n",
      "Sleeping 1.88 seconds...\n",
      "['Philip Marie', 'philip-marie-new-york']\n",
      "Sleeping 2.21 seconds...\n",
      "[\"Joe's Shanghai\", 'joes-shanghai-new-york-2']\n",
      "Sleeping 2.14 seconds...\n",
      "['Oka Sushi', 'oka-sushi-new-york']\n",
      "Sleeping 2.68 seconds...\n",
      "['Pisillo Italian Panini', 'pisillo-italian-panini-new-york']\n",
      "Sleeping 1.99 seconds...\n",
      "[\"Friedman's\", 'friedmans-new-york-59']\n",
      "Sleeping 1.83 seconds...\n",
      "['Prince Street Pizza', 'prince-street-pizza-new-york-2']\n",
      "Could not connect, sleeping 5 seconds...\n",
      "Sleeping 2.37 seconds...\n",
      "['The Crooked Knife', 'the-crooked-knife-new-york-3']\n",
      "Sleeping 2.95 seconds...\n",
      "['Ramen-Ya', 'ramen-ya-new-york-5']\n",
      "Sleeping 1.93 seconds...\n",
      "['Hamilton Pork', 'hamilton-pork-jersey-city']\n",
      "Sleeping 1.07 seconds...\n",
      "['The Malt House', 'the-malt-house-new-york-3']\n",
      "Sleeping 1.62 seconds...\n",
      "['House of Que', 'house-of-que-hoboken-2']\n",
      "Sleeping 1.07 seconds...\n",
      "['Mighty Quinn’s Barbeque', 'mighty-quinns-barbeque-new-york-4']\n",
      "Sleeping 2.69 seconds...\n",
      "['Flex Mussels', 'flex-mussels-new-york-2']\n",
      "Sleeping 2.85 seconds...\n",
      "['99 Favor Taste', '99-favor-taste-new-york-12']\n",
      "Sleeping 2.21 seconds...\n",
      "['Cafe Habana', 'cafe-habana-new-york-4']\n",
      "Sleeping 2.03 seconds...\n",
      "[\"Ahri's Kitchen\", 'ahris-kitchen-jersey-city']\n",
      "Sleeping 1.35 seconds...\n",
      "['Burger Heaven', 'burger-heaven-new-york']\n",
      "Sleeping 1.22 seconds...\n",
      "['Papillon Bistro & Bar', 'papillon-bistro-and-bar-new-york']\n",
      "Sleeping 2.97 seconds...\n",
      "['Fuku+', 'fuku-new-york-11']\n",
      "Sleeping 1.86 seconds...\n",
      "['Tipsy Shanghai', 'tipsy-shanghai-new-york']\n",
      "Sleeping 2.48 seconds...\n",
      "['Da Claudio', 'da-claudio-new-york']\n",
      "Sleeping 2.27 seconds...\n",
      "['BCD Tofu House', 'bcd-tofu-house-new-york-3']\n",
      "Sleeping 2.31 seconds...\n",
      "['Burger & Lobster', 'burger-and-lobster-new-york']\n",
      "Sleeping 1.84 seconds...\n",
      "['Momofuku Má Pêche', 'momofuku-má-pêche-new-york-2']\n",
      "Sleeping 1.65 seconds...\n",
      "['La Esquina', 'la-esquina-new-york-4']\n",
      "Sleeping 1.64 seconds...\n",
      "['Zio Ristorante', 'zio-ristorante-new-york']\n",
      "Sleeping 2.37 seconds...\n",
      "['Zen Ramen & Sushi', 'zen-ramen-and-sushi-new-york']\n",
      "Sleeping 1.96 seconds...\n",
      "['Jing Fong Restaurant', 'jing-fong-restaurant-new-york']\n",
      "Sleeping 1.7 seconds...\n",
      "['Hou Yi Hot Pot', 'hou-yi-hot-pot-new-york']\n",
      "Sleeping 1.19 seconds...\n",
      "['Hunan House', 'hunan-house-new-york-6']\n",
      "Sleeping 1.62 seconds...\n",
      "['Chefs Club', 'chefs-club-new-york-4']\n",
      "Sleeping 1.77 seconds...\n",
      "['Amada', 'amada-new-york-4']\n",
      "Sleeping 2.22 seconds...\n",
      "['Hometown Hotpot & BBQ', 'hometown-hotpot-and-bbq-new-york-2']\n",
      "Sleeping 1.15 seconds...\n",
      "['My pie pizzeria romana', 'my-pie-pizzeria-romana-new-york-2']\n",
      "Sleeping 2.39 seconds...\n",
      "['Le Relais De Venise L’Entrecôte', 'le-relais-de-venise-l-entrecôte-new-york-4']\n",
      "Sleeping 2.92 seconds...\n",
      "['La Bonne Soupe', 'la-bonne-soupe-new-york']\n",
      "Sleeping 2.31 seconds...\n",
      "['Corner Bistro', 'corner-bistro-new-york']\n",
      "Sleeping 1.58 seconds...\n",
      "['Red Egg', 'red-egg-new-york-3']\n",
      "Sleeping 2.71 seconds...\n",
      "[\"Ollie's Sichuan\", 'ollies-sichuan-new-york']\n",
      "Sleeping 2.41 seconds...\n",
      "['Shimizu', 'shimizu-new-york']\n",
      "Sleeping 1.58 seconds...\n",
      "['Gyu-Kaku Japanese BBQ', 'gyu-kaku-japanese-bbq-new-york']\n",
      "Sleeping 2.16 seconds...\n",
      "['Funny BBQ 98', 'funny-bbq-98-new-york']\n",
      "Sleeping 1.59 seconds...\n",
      "['Dim Sum Palace', 'dim-sum-palace-new-york-7']\n",
      "Sleeping 2.98 seconds...\n",
      "['Zest Szechuan', 'zest-szechuan-new-york']\n",
      "Sleeping 1.71 seconds...\n",
      "['SOBA AZUMA', 'soba-azuma-new-york']\n",
      "Sleeping 1.83 seconds...\n",
      "['Ootoya Chelsea', 'ootoya-chelsea-new-york']\n",
      "Sleeping 2.28 seconds...\n",
      "['Nerai', 'nerai-new-york']\n",
      "Sleeping 1.48 seconds...\n",
      "['Parm', 'parm-new-york']\n",
      "Sleeping 2.35 seconds...\n",
      "['Sugar Factory', 'sugar-factory-new-york-7']\n",
      "Sleeping 1.01 seconds...\n",
      "['IchiUmi', 'ichiumi-new-york-4']\n",
      "Sleeping 2.96 seconds...\n",
      "[\"Wolfgang's Steakhouse\", 'wolfgangs-steakhouse-new-york-4']\n",
      "Sleeping 2.91 seconds...\n",
      "['Lady M Cake Boutique', 'lady-m-cake-boutique-new-york-3']\n",
      "Sleeping 1.65 seconds...\n",
      "['Five Senses', 'five-senses-new-york']\n",
      "Sleeping 2.9 seconds...\n",
      "['Gammeeok', 'gammeeok-new-york']\n",
      "Sleeping 2.86 seconds...\n",
      "['Hama Japanese Cuisine', 'hama-japanese-cuisine-new-york']\n",
      "Sleeping 2.47 seconds...\n",
      "['Valbella Midtown', 'valbella-midtown-manhattan']\n",
      "Sleeping 1.54 seconds...\n",
      "[\"John's of Bleecker Street\", 'johns-of-bleecker-street-new-york-2']\n",
      "Sleeping 1.94 seconds...\n",
      "['Dong Chun Hong', 'dong-chun-hong-new-york']\n",
      "Sleeping 2.91 seconds...\n",
      "['Shanghai Mong', 'shanghai-mong-new-york']\n",
      "Sleeping 1.98 seconds...\n",
      "['Spunto', 'spunto-new-york-5']\n",
      "Sleeping 1.91 seconds...\n",
      "['Blue Ribbon Sushi Bar - Rock Center', 'blue-ribbon-sushi-bar-rock-center-new-york-3']\n",
      "Sleeping 1.27 seconds...\n",
      "['Abiko Curry', 'abiko-curry-new-york-2']\n",
      "Sleeping 2.71 seconds...\n",
      "['Yupdduk', 'yupdduk-new-york-3']\n",
      "Sleeping 2.03 seconds...\n",
      "['Her Name is Han', 'her-name-is-han-new-york-3']\n",
      "Sleeping 1.43 seconds...\n",
      "[\"Katz's Delicatessen\", 'katzs-delicatessen-new-york']\n",
      "Sleeping 1.71 seconds...\n",
      "[\"Auntie Guan's Kitchen 108\", 'auntie-guans-kitchen-108-new-york']\n",
      "Sleeping 2.38 seconds...\n",
      "['Contra', 'contra-new-york']\n",
      "Sleeping 1.65 seconds...\n",
      "['Haru Sushi', 'haru-sushi-new-york-7']\n",
      "Sleeping 2.95 seconds...\n",
      "['Westville - Wall St', 'westville-wall-st-new-york-5']\n",
      "Sleeping 2.61 seconds...\n",
      "['Benares', 'benares-new-york-3']\n",
      "Sleeping 1.49 seconds...\n",
      "['Neapolitan Express', 'neapolitan-express-new-york-4']\n",
      "Sleeping 2.87 seconds...\n",
      "['Roti Modern Mediterranean', 'roti-modern-mediterranean-new-york']\n",
      "Sleeping 2.02 seconds...\n",
      "['Boucherie West Village', 'boucherie-west-village-new-york-3']\n",
      "Sleeping 1.28 seconds...\n",
      "['Take31', 'take31-new-york']\n",
      "Sleeping 2.46 seconds...\n",
      "['All American Deli', 'all-american-deli-new-york']\n",
      "Sleeping 1.59 seconds...\n",
      "['Dim Sum Palace', 'dim-sum-palace-new-york-8']\n",
      "Sleeping 2.79 seconds...\n",
      "['Harry’s', 'harrys-new-york-3']\n",
      "Sleeping 2.49 seconds...\n",
      "['East Dumpling', 'east-dumpling-new-york-2']\n",
      "Sleeping 2.05 seconds...\n",
      "['La Vie en Szechuan', 'la-vie-en-szechuan-new-york-2']\n",
      "Sleeping 2.33 seconds...\n",
      "['Tomorrow', 'tomorrow-new-york']\n",
      "Sleeping 1.75 seconds...\n",
      "['Peter Luger', 'peter-luger-brooklyn-2']\n",
      "Sleeping 2.81 seconds...\n",
      "['Congee Village', 'congee-village-new-york']\n",
      "Sleeping 1.31 seconds...\n",
      "['Takahachi Bakery', 'takahachi-bakery-new-york']\n",
      "Sleeping 1.13 seconds...\n",
      "['Little Italy Pizza', 'little-italy-pizza-new-york-25']\n",
      "Sleeping 1.48 seconds...\n",
      "['The Boil', 'the-boil-new-york-5']\n",
      "Sleeping 2.64 seconds...\n",
      "['Beaubourg', 'beaubourg-new-york']\n",
      "Sleeping 2.93 seconds...\n",
      "['Razza Pizza Artigianale', 'razza-pizza-artigianale-jersey-city-2']\n",
      "Sleeping 1.0 seconds...\n",
      "['Clinton Hall', 'clinton-hall-new-york-11']\n",
      "Sleeping 1.61 seconds...\n",
      "['Mad Dog & Beans Mexican Cantina', 'mad-dog-and-beans-mexican-cantina-new-york-2']\n",
      "Sleeping 1.41 seconds...\n",
      "['Aahar Indian Cuisine', 'aahar-indian-cuisine-new-york']\n",
      "Sleeping 2.88 seconds...\n",
      "['Bo Ky Restaurant', 'bo-ky-restaurant-new-york']\n",
      "Sleeping 2.42 seconds...\n",
      "['Porta', 'porta-jersey-city-2']\n",
      "Sleeping 2.91 seconds...\n",
      "['Szechuan Mountain House', 'szechuan-mountain-house-new-york-2']\n",
      "Sleeping 2.9 seconds...\n",
      "['Fig & Olive', 'fig-and-olive-fifth-ave-new-york-4']\n",
      "Sleeping 1.62 seconds...\n",
      "['South House Bar & Restaurant', 'south-house-bar-and-restaurant-jersey-city']\n",
      "Sleeping 2.95 seconds...\n",
      "['Shu Jiao Fu Zhou Cuisine Restaurant', 'shu-jiao-fu-zhou-cuisine-restaurant-new-york']\n",
      "Sleeping 1.49 seconds...\n",
      "['Honshu', 'honshu-jersey-city-4']\n",
      "Sleeping 1.76 seconds...\n",
      "['Bucket & Bay Craft Gelato', 'bucket-and-bay-craft-gelato-jersey-city-5']\n",
      "Sleeping 1.22 seconds...\n",
      "[\"Skinner's Loft\", 'skinners-loft-jersey-city']\n",
      "Sleeping 2.74 seconds...\n",
      "['Farmer & The Fish- Gramercy', 'farmer-and-the-fish-gramercy-new-york']\n"
     ]
    },
    {
     "name": "stdout",
     "output_type": "stream",
     "text": [
      "Sleeping 2.25 seconds...\n",
      "['BRGR', 'brgr-new-york-2']\n",
      "Sleeping 2.71 seconds...\n",
      "['Kang Ho Dong Baekjeong', 'kang-ho-dong-baekjeong-new-york']\n",
      "Sleeping 1.73 seconds...\n",
      "['Spot Dessert Bar', 'spot-dessert-bar-new-york-2']\n",
      "Sleeping 2.53 seconds...\n",
      "['Latham House', 'latham-house-jersey-city']\n",
      "Sleeping 1.55 seconds...\n",
      "['Delicatessen', 'delicatessen-new-york']\n",
      "Sleeping 2.11 seconds...\n",
      "['The Musket Room', 'the-musket-room-new-york']\n",
      "Sleeping 2.82 seconds...\n",
      "['Empellón', 'empellón-new-york-3']\n",
      "Sleeping 2.28 seconds...\n",
      "['Rowland’s Bar & Grill', 'rowlands-bar-and-grill-new-york-3']\n",
      "Sleeping 1.56 seconds...\n",
      "['Xiao Chuan Dian', 'xiao-chuan-dian-palisades-park-2']\n",
      "Sleeping 2.35 seconds...\n",
      "['Sawadee', 'sawadee-jersey-city']\n",
      "Sleeping 2.29 seconds...\n",
      "['Churrascaria Plataforma', 'churrascaria-plataforma-new-york-3']\n",
      "Sleeping 2.57 seconds...\n",
      "['Noodle Village', 'noodle-village-new-york']\n",
      "Sleeping 2.66 seconds...\n",
      "['The Wheeltapper Pub', 'the-wheeltapper-pub-new-york']\n",
      "Sleeping 2.37 seconds...\n",
      "['Dons Bogam BBQ & Wine Bar', 'dons-bogam-bbq-and-wine-bar-new-york-3']\n",
      "Sleeping 1.03 seconds...\n",
      "['Bar Bacon', 'bar-bacon-new-york-2']\n",
      "Sleeping 2.27 seconds...\n",
      "CPU times: user 39.4 s, sys: 1.3 s, total: 40.7 s\n",
      "Wall time: 12min 37s\n"
     ]
    }
   ],
   "source": [
    "%%time\n",
    "# Iterate\n",
    "seed_data = pandas.DataFrame()    # Seed data is only populated if yelp_raw does not exist\n",
    "new_data = pandas.DataFrame()\n",
    "connector = Connector()\n",
    "for index, row in yelp_aliases.iterrows():\n",
    "    # Set up\n",
    "    business_name = row['business_name']\n",
    "    yelp_alias = row['yelp_alias']\n",
    "    print([business_name, yelp_alias])\n",
    "    \n",
    "    # Attempt to make soup\n",
    "    url = 'https://www.yelp.com/biz/{}'.format(yelp_alias)\n",
    "    soup = connector.make_soup(url)\n",
    "    \n",
    "    # If yelp_raw does not exist, seed the table with input data\n",
    "    if 'yelp_raw' not in tables['tbl_name'].values:\n",
    "        # Get data\n",
    "        seed_data_i = collections.OrderedDict()\n",
    "        seed_data_i['business_name'] = business_name\n",
    "        seed_data_i['yelp_alias'] = yelp_alias\n",
    "        \n",
    "        # Format & append\n",
    "        seed_data_i = dict_to_df(seed_data_i)\n",
    "        seed_data = seed_data.append(seed_data_i, ignore_index=True)\n",
    "    \n",
    "    # Get data\n",
    "    new_data_i = collections.OrderedDict()\n",
    "    new_data_i['yelp_alias'] = get_yelp_alias(soup)\n",
    "    new_data_i['is_closed'] = get_is_closed(soup)\n",
    "    new_data_i['business_name'] = get_business_name(soup)\n",
    "    new_data_i['rating'] = get_rating(soup)\n",
    "    new_data_i['review_count'] = get_review_count(soup)\n",
    "    new_data_i['ratings_history'] = get_ratings_history(soup)\n",
    "    new_data_i['price_range'] = get_price_range(soup)\n",
    "    new_data_i['category_list'] = get_category_list(soup)\n",
    "    new_data_i['address'] = get_address(soup)\n",
    "    new_data_i['neighborhood_list'] = get_neighborhood_list(soup)\n",
    "    \n",
    "    # Format & append\n",
    "    new_data_i = dict_to_df(new_data_i)\n",
    "    new_data = new_data.append(new_data_i, ignore_index=True)"
   ]
  },
  {
   "cell_type": "code",
   "execution_count": null,
   "metadata": {},
   "outputs": [],
   "source": []
  },
  {
   "cell_type": "markdown",
   "metadata": {},
   "source": [
    "### new_data vs. latest_data"
   ]
  },
  {
   "cell_type": "code",
   "execution_count": 24,
   "metadata": {},
   "outputs": [
    {
     "data": {
      "text/html": [
       "<div>\n",
       "<style scoped>\n",
       "    .dataframe tbody tr th:only-of-type {\n",
       "        vertical-align: middle;\n",
       "    }\n",
       "\n",
       "    .dataframe tbody tr th {\n",
       "        vertical-align: top;\n",
       "    }\n",
       "\n",
       "    .dataframe thead th {\n",
       "        text-align: right;\n",
       "    }\n",
       "</style>\n",
       "<table border=\"1\" class=\"dataframe\">\n",
       "  <thead>\n",
       "    <tr style=\"text-align: right;\">\n",
       "      <th></th>\n",
       "      <th>insert_datetime</th>\n",
       "      <th>yelp_biz_id</th>\n",
       "      <th>metric_name</th>\n",
       "      <th>metric_value</th>\n",
       "    </tr>\n",
       "  </thead>\n",
       "  <tbody>\n",
       "    <tr>\n",
       "      <th>0</th>\n",
       "      <td>2018-09-02 09:11:29.028560</td>\n",
       "      <td>g_F9WJJpRFB40oPJdoD2uA</td>\n",
       "      <td>yelp_alias</td>\n",
       "      <td>\"muk-eun-ji-new-york\"</td>\n",
       "    </tr>\n",
       "    <tr>\n",
       "      <th>1</th>\n",
       "      <td>2018-09-02 09:11:29.028560</td>\n",
       "      <td>g_F9WJJpRFB40oPJdoD2uA</td>\n",
       "      <td>is_closed</td>\n",
       "      <td>true</td>\n",
       "    </tr>\n",
       "    <tr>\n",
       "      <th>2</th>\n",
       "      <td>2018-09-02 09:11:29.028560</td>\n",
       "      <td>g_F9WJJpRFB40oPJdoD2uA</td>\n",
       "      <td>business_name</td>\n",
       "      <td>\"Muk Eun Ji\"</td>\n",
       "    </tr>\n",
       "    <tr>\n",
       "      <th>3</th>\n",
       "      <td>2018-09-02 09:11:29.028560</td>\n",
       "      <td>g_F9WJJpRFB40oPJdoD2uA</td>\n",
       "      <td>rating</td>\n",
       "      <td>3.5</td>\n",
       "    </tr>\n",
       "    <tr>\n",
       "      <th>4</th>\n",
       "      <td>2018-09-02 09:11:29.028560</td>\n",
       "      <td>g_F9WJJpRFB40oPJdoD2uA</td>\n",
       "      <td>review_count</td>\n",
       "      <td>365</td>\n",
       "    </tr>\n",
       "    <tr>\n",
       "      <th>5</th>\n",
       "      <td>2018-09-02 09:11:29.028560</td>\n",
       "      <td>g_F9WJJpRFB40oPJdoD2uA</td>\n",
       "      <td>ratings_history</td>\n",
       "      <td>{\"2016\": [[0, 4.0], [1, 3.5], [2, 3.0], [3, 3....</td>\n",
       "    </tr>\n",
       "    <tr>\n",
       "      <th>6</th>\n",
       "      <td>2018-09-02 09:11:29.028560</td>\n",
       "      <td>g_F9WJJpRFB40oPJdoD2uA</td>\n",
       "      <td>price_range</td>\n",
       "      <td>2</td>\n",
       "    </tr>\n",
       "    <tr>\n",
       "      <th>7</th>\n",
       "      <td>2018-09-02 09:11:29.028560</td>\n",
       "      <td>g_F9WJJpRFB40oPJdoD2uA</td>\n",
       "      <td>category_list</td>\n",
       "      <td>[\"Korean\", \"Barbeque\"]</td>\n",
       "    </tr>\n",
       "    <tr>\n",
       "      <th>8</th>\n",
       "      <td>2018-09-02 09:11:29.028560</td>\n",
       "      <td>g_F9WJJpRFB40oPJdoD2uA</td>\n",
       "      <td>address</td>\n",
       "      <td>\"34 W 32nd St, Fl 1, New York, NY 10001\"</td>\n",
       "    </tr>\n",
       "    <tr>\n",
       "      <th>9</th>\n",
       "      <td>2018-09-02 09:11:29.028560</td>\n",
       "      <td>g_F9WJJpRFB40oPJdoD2uA</td>\n",
       "      <td>neighborhood_list</td>\n",
       "      <td>[\"Koreatown\", \"Midtown West\"]</td>\n",
       "    </tr>\n",
       "  </tbody>\n",
       "</table>\n",
       "</div>"
      ],
      "text/plain": [
       "             insert_datetime             yelp_biz_id        metric_name  \\\n",
       "0 2018-09-02 09:11:29.028560  g_F9WJJpRFB40oPJdoD2uA         yelp_alias   \n",
       "1 2018-09-02 09:11:29.028560  g_F9WJJpRFB40oPJdoD2uA          is_closed   \n",
       "2 2018-09-02 09:11:29.028560  g_F9WJJpRFB40oPJdoD2uA      business_name   \n",
       "3 2018-09-02 09:11:29.028560  g_F9WJJpRFB40oPJdoD2uA             rating   \n",
       "4 2018-09-02 09:11:29.028560  g_F9WJJpRFB40oPJdoD2uA       review_count   \n",
       "5 2018-09-02 09:11:29.028560  g_F9WJJpRFB40oPJdoD2uA    ratings_history   \n",
       "6 2018-09-02 09:11:29.028560  g_F9WJJpRFB40oPJdoD2uA        price_range   \n",
       "7 2018-09-02 09:11:29.028560  g_F9WJJpRFB40oPJdoD2uA      category_list   \n",
       "8 2018-09-02 09:11:29.028560  g_F9WJJpRFB40oPJdoD2uA            address   \n",
       "9 2018-09-02 09:11:29.028560  g_F9WJJpRFB40oPJdoD2uA  neighborhood_list   \n",
       "\n",
       "                                        metric_value  \n",
       "0                              \"muk-eun-ji-new-york\"  \n",
       "1                                               true  \n",
       "2                                       \"Muk Eun Ji\"  \n",
       "3                                                3.5  \n",
       "4                                                365  \n",
       "5  {\"2016\": [[0, 4.0], [1, 3.5], [2, 3.0], [3, 3....  \n",
       "6                                                  2  \n",
       "7                             [\"Korean\", \"Barbeque\"]  \n",
       "8           \"34 W 32nd St, Fl 1, New York, NY 10001\"  \n",
       "9                      [\"Koreatown\", \"Midtown West\"]  "
      ]
     },
     "execution_count": 24,
     "metadata": {},
     "output_type": "execute_result"
    }
   ],
   "source": [
    "new_data.head(10)"
   ]
  },
  {
   "cell_type": "code",
   "execution_count": 25,
   "metadata": {},
   "outputs": [
    {
     "data": {
      "text/plain": [
       "0                                  muk-eun-ji-new-york\n",
       "1                                                 True\n",
       "2                                           Muk Eun Ji\n",
       "3                                                  3.5\n",
       "4                                                  365\n",
       "5    {'2016': [[0, 4.0], [1, 3.5], [2, 3.0], [3, 3....\n",
       "6                                                    2\n",
       "7                                   [Korean, Barbeque]\n",
       "8               34 W 32nd St, Fl 1, New York, NY 10001\n",
       "9                            [Koreatown, Midtown West]\n",
       "Name: metric_value, dtype: object"
      ]
     },
     "execution_count": 25,
     "metadata": {},
     "output_type": "execute_result"
    }
   ],
   "source": [
    "new_data['metric_value'].apply(json.loads).head(10)"
   ]
  },
  {
   "cell_type": "code",
   "execution_count": 26,
   "metadata": {},
   "outputs": [
    {
     "name": "stdout",
     "output_type": "stream",
     "text": [
      "(continue)\n"
     ]
    }
   ],
   "source": [
    "latest_data = pandas.DataFrame()\n",
    "if 'yelp_raw' in tables['tbl_name'].values:\n",
    "    print('(yelp_raw exists, incremental update)')\n",
    "    latest_data = pandas.read_sql_query(\"\"\"\n",
    "    with last_updated as (\n",
    "        select\n",
    "        yelp_biz_id, metric_name,\n",
    "        max(insert_datetime) as last_update_datetime\n",
    "        from yelp_raw\n",
    "        group by 1,2 order by 1,2\n",
    "    )\n",
    "    select a.*\n",
    "    from yelp_raw a\n",
    "    join last_updated b\n",
    "    on a.yelp_biz_id = b.yelp_biz_id\n",
    "    and a.metric_name = b.metric_name\n",
    "    and a.insert_datetime = b.last_update_datetime\n",
    "    order by 1,2,3\n",
    "    \"\"\", connection)\n",
    "else:\n",
    "    print('(continue)')"
   ]
  },
  {
   "cell_type": "code",
   "execution_count": 27,
   "metadata": {},
   "outputs": [
    {
     "data": {
      "text/html": [
       "<div>\n",
       "<style scoped>\n",
       "    .dataframe tbody tr th:only-of-type {\n",
       "        vertical-align: middle;\n",
       "    }\n",
       "\n",
       "    .dataframe tbody tr th {\n",
       "        vertical-align: top;\n",
       "    }\n",
       "\n",
       "    .dataframe thead th {\n",
       "        text-align: right;\n",
       "    }\n",
       "</style>\n",
       "<table border=\"1\" class=\"dataframe\">\n",
       "  <thead>\n",
       "    <tr style=\"text-align: right;\">\n",
       "      <th></th>\n",
       "    </tr>\n",
       "  </thead>\n",
       "  <tbody>\n",
       "  </tbody>\n",
       "</table>\n",
       "</div>"
      ],
      "text/plain": [
       "Empty DataFrame\n",
       "Columns: []\n",
       "Index: []"
      ]
     },
     "execution_count": 27,
     "metadata": {},
     "output_type": "execute_result"
    }
   ],
   "source": [
    "latest_data.head(10)"
   ]
  },
  {
   "cell_type": "code",
   "execution_count": 28,
   "metadata": {},
   "outputs": [],
   "source": [
    "# if latest_data.shape[0] != 0:\n",
    "#     # Find which metric values changed from the latest data to the newest data\n",
    "#     # (Only metric values that changed get written to the database)\n",
    "#     testing = new_data.merge(latest_data, how='outer',\n",
    "#                              on=['yelp_biz_id', 'metric_name'], suffixes=['_new', '_latest'])\n",
    "#     testing = testing[testing['metric_value_new'] != testing['metric_value_latest']]\n",
    "#     testing['metric_value_new'] = testing['metric_value_new'].apply(json.loads)\n",
    "#     testing['metric_value_latest'] = testing['metric_value_latest'].apply(json.loads)"
   ]
  },
  {
   "cell_type": "code",
   "execution_count": null,
   "metadata": {},
   "outputs": [],
   "source": []
  },
  {
   "cell_type": "markdown",
   "metadata": {},
   "source": [
    "### Write to DB"
   ]
  },
  {
   "cell_type": "code",
   "execution_count": 36,
   "metadata": {},
   "outputs": [
    {
     "name": "stdout",
     "output_type": "stream",
     "text": [
      "(yelp_raw does not exist, writing seed data)\n"
     ]
    }
   ],
   "source": [
    "if 'yelp_raw' not in tables['tbl_name'].values:\n",
    "    print('(yelp_raw does not exist, writing seed data)')\n",
    "    seed_data.to_sql('yelp_raw', connection, if_exists='append', index=False)"
   ]
  },
  {
   "cell_type": "code",
   "execution_count": 37,
   "metadata": {},
   "outputs": [],
   "source": [
    "new_data.to_sql('yelp_raw', connection, if_exists='append', index=False)"
   ]
  },
  {
   "cell_type": "code",
   "execution_count": null,
   "metadata": {},
   "outputs": [],
   "source": []
  },
  {
   "cell_type": "markdown",
   "metadata": {},
   "source": [
    "### Read from DB"
   ]
  },
  {
   "cell_type": "code",
   "execution_count": 38,
   "metadata": {},
   "outputs": [],
   "source": [
    "data = pandas.read_sql_query(\"\"\"\n",
    "with last_updated as (\n",
    "    select\n",
    "    yelp_biz_id, metric_name,\n",
    "    max(insert_datetime) as last_update_datetime\n",
    "    from yelp_raw\n",
    "    group by 1,2 order by 1,2\n",
    ")\n",
    "select a.*\n",
    "from yelp_raw a\n",
    "join last_updated b\n",
    "on a.yelp_biz_id = b.yelp_biz_id\n",
    "and a.metric_name = b.metric_name\n",
    "and a.insert_datetime = b.last_update_datetime\n",
    "order by 1,2,3\n",
    "\"\"\", connection)"
   ]
  },
  {
   "cell_type": "code",
   "execution_count": 41,
   "metadata": {},
   "outputs": [
    {
     "data": {
      "text/html": [
       "<div>\n",
       "<style scoped>\n",
       "    .dataframe tbody tr th:only-of-type {\n",
       "        vertical-align: middle;\n",
       "    }\n",
       "\n",
       "    .dataframe tbody tr th {\n",
       "        vertical-align: top;\n",
       "    }\n",
       "\n",
       "    .dataframe thead th {\n",
       "        text-align: right;\n",
       "    }\n",
       "</style>\n",
       "<table border=\"1\" class=\"dataframe\">\n",
       "  <thead>\n",
       "    <tr style=\"text-align: right;\">\n",
       "      <th></th>\n",
       "      <th>insert_datetime</th>\n",
       "      <th>yelp_biz_id</th>\n",
       "      <th>metric_name</th>\n",
       "      <th>metric_value</th>\n",
       "    </tr>\n",
       "  </thead>\n",
       "  <tbody>\n",
       "    <tr>\n",
       "      <th>0</th>\n",
       "      <td>2018-09-02 09:11:29.028560</td>\n",
       "      <td>g_F9WJJpRFB40oPJdoD2uA</td>\n",
       "      <td>address</td>\n",
       "      <td>\"34 W 32nd St, Fl 1, New York, NY 10001\"</td>\n",
       "    </tr>\n",
       "    <tr>\n",
       "      <th>1</th>\n",
       "      <td>2018-09-02 09:11:29.028560</td>\n",
       "      <td>g_F9WJJpRFB40oPJdoD2uA</td>\n",
       "      <td>business_name</td>\n",
       "      <td>\"Muk Eun Ji\"</td>\n",
       "    </tr>\n",
       "    <tr>\n",
       "      <th>2</th>\n",
       "      <td>2018-09-02 09:11:29.028560</td>\n",
       "      <td>g_F9WJJpRFB40oPJdoD2uA</td>\n",
       "      <td>category_list</td>\n",
       "      <td>[\"Korean\", \"Barbeque\"]</td>\n",
       "    </tr>\n",
       "    <tr>\n",
       "      <th>3</th>\n",
       "      <td>2018-09-02 09:11:29.028560</td>\n",
       "      <td>g_F9WJJpRFB40oPJdoD2uA</td>\n",
       "      <td>is_closed</td>\n",
       "      <td>true</td>\n",
       "    </tr>\n",
       "    <tr>\n",
       "      <th>4</th>\n",
       "      <td>2018-09-02 09:11:29.028560</td>\n",
       "      <td>g_F9WJJpRFB40oPJdoD2uA</td>\n",
       "      <td>neighborhood_list</td>\n",
       "      <td>[\"Koreatown\", \"Midtown West\"]</td>\n",
       "    </tr>\n",
       "    <tr>\n",
       "      <th>5</th>\n",
       "      <td>2018-09-02 09:11:29.028560</td>\n",
       "      <td>g_F9WJJpRFB40oPJdoD2uA</td>\n",
       "      <td>price_range</td>\n",
       "      <td>2</td>\n",
       "    </tr>\n",
       "    <tr>\n",
       "      <th>6</th>\n",
       "      <td>2018-09-02 09:11:29.028560</td>\n",
       "      <td>g_F9WJJpRFB40oPJdoD2uA</td>\n",
       "      <td>rating</td>\n",
       "      <td>3.5</td>\n",
       "    </tr>\n",
       "    <tr>\n",
       "      <th>7</th>\n",
       "      <td>2018-09-02 09:11:29.028560</td>\n",
       "      <td>g_F9WJJpRFB40oPJdoD2uA</td>\n",
       "      <td>ratings_history</td>\n",
       "      <td>{\"2016\": [[0, 4.0], [1, 3.5], [2, 3.0], [3, 3....</td>\n",
       "    </tr>\n",
       "    <tr>\n",
       "      <th>8</th>\n",
       "      <td>2018-09-02 09:11:29.028560</td>\n",
       "      <td>g_F9WJJpRFB40oPJdoD2uA</td>\n",
       "      <td>review_count</td>\n",
       "      <td>365</td>\n",
       "    </tr>\n",
       "    <tr>\n",
       "      <th>9</th>\n",
       "      <td>2018-09-02 09:11:29.028560</td>\n",
       "      <td>g_F9WJJpRFB40oPJdoD2uA</td>\n",
       "      <td>yelp_alias</td>\n",
       "      <td>\"muk-eun-ji-new-york\"</td>\n",
       "    </tr>\n",
       "  </tbody>\n",
       "</table>\n",
       "</div>"
      ],
      "text/plain": [
       "              insert_datetime             yelp_biz_id        metric_name  \\\n",
       "0  2018-09-02 09:11:29.028560  g_F9WJJpRFB40oPJdoD2uA            address   \n",
       "1  2018-09-02 09:11:29.028560  g_F9WJJpRFB40oPJdoD2uA      business_name   \n",
       "2  2018-09-02 09:11:29.028560  g_F9WJJpRFB40oPJdoD2uA      category_list   \n",
       "3  2018-09-02 09:11:29.028560  g_F9WJJpRFB40oPJdoD2uA          is_closed   \n",
       "4  2018-09-02 09:11:29.028560  g_F9WJJpRFB40oPJdoD2uA  neighborhood_list   \n",
       "5  2018-09-02 09:11:29.028560  g_F9WJJpRFB40oPJdoD2uA        price_range   \n",
       "6  2018-09-02 09:11:29.028560  g_F9WJJpRFB40oPJdoD2uA             rating   \n",
       "7  2018-09-02 09:11:29.028560  g_F9WJJpRFB40oPJdoD2uA    ratings_history   \n",
       "8  2018-09-02 09:11:29.028560  g_F9WJJpRFB40oPJdoD2uA       review_count   \n",
       "9  2018-09-02 09:11:29.028560  g_F9WJJpRFB40oPJdoD2uA         yelp_alias   \n",
       "\n",
       "                                        metric_value  \n",
       "0           \"34 W 32nd St, Fl 1, New York, NY 10001\"  \n",
       "1                                       \"Muk Eun Ji\"  \n",
       "2                             [\"Korean\", \"Barbeque\"]  \n",
       "3                                               true  \n",
       "4                      [\"Koreatown\", \"Midtown West\"]  \n",
       "5                                                  2  \n",
       "6                                                3.5  \n",
       "7  {\"2016\": [[0, 4.0], [1, 3.5], [2, 3.0], [3, 3....  \n",
       "8                                                365  \n",
       "9                              \"muk-eun-ji-new-york\"  "
      ]
     },
     "execution_count": 41,
     "metadata": {},
     "output_type": "execute_result"
    }
   ],
   "source": [
    "data.head(10)"
   ]
  },
  {
   "cell_type": "code",
   "execution_count": 42,
   "metadata": {},
   "outputs": [],
   "source": [
    "data['metric_value'] = data['metric_value'].apply(json.loads)"
   ]
  },
  {
   "cell_type": "code",
   "execution_count": 44,
   "metadata": {},
   "outputs": [
    {
     "data": {
      "text/html": [
       "<div>\n",
       "<style scoped>\n",
       "    .dataframe tbody tr th:only-of-type {\n",
       "        vertical-align: middle;\n",
       "    }\n",
       "\n",
       "    .dataframe tbody tr th {\n",
       "        vertical-align: top;\n",
       "    }\n",
       "\n",
       "    .dataframe thead th {\n",
       "        text-align: right;\n",
       "    }\n",
       "</style>\n",
       "<table border=\"1\" class=\"dataframe\">\n",
       "  <thead>\n",
       "    <tr style=\"text-align: right;\">\n",
       "      <th></th>\n",
       "      <th>insert_datetime</th>\n",
       "      <th>yelp_biz_id</th>\n",
       "      <th>metric_name</th>\n",
       "      <th>metric_value</th>\n",
       "    </tr>\n",
       "  </thead>\n",
       "  <tbody>\n",
       "    <tr>\n",
       "      <th>0</th>\n",
       "      <td>2018-09-02 09:11:29.028560</td>\n",
       "      <td>g_F9WJJpRFB40oPJdoD2uA</td>\n",
       "      <td>address</td>\n",
       "      <td>34 W 32nd St, Fl 1, New York, NY 10001</td>\n",
       "    </tr>\n",
       "    <tr>\n",
       "      <th>1</th>\n",
       "      <td>2018-09-02 09:11:29.028560</td>\n",
       "      <td>g_F9WJJpRFB40oPJdoD2uA</td>\n",
       "      <td>business_name</td>\n",
       "      <td>Muk Eun Ji</td>\n",
       "    </tr>\n",
       "    <tr>\n",
       "      <th>2</th>\n",
       "      <td>2018-09-02 09:11:29.028560</td>\n",
       "      <td>g_F9WJJpRFB40oPJdoD2uA</td>\n",
       "      <td>category_list</td>\n",
       "      <td>[Korean, Barbeque]</td>\n",
       "    </tr>\n",
       "    <tr>\n",
       "      <th>3</th>\n",
       "      <td>2018-09-02 09:11:29.028560</td>\n",
       "      <td>g_F9WJJpRFB40oPJdoD2uA</td>\n",
       "      <td>is_closed</td>\n",
       "      <td>True</td>\n",
       "    </tr>\n",
       "    <tr>\n",
       "      <th>4</th>\n",
       "      <td>2018-09-02 09:11:29.028560</td>\n",
       "      <td>g_F9WJJpRFB40oPJdoD2uA</td>\n",
       "      <td>neighborhood_list</td>\n",
       "      <td>[Koreatown, Midtown West]</td>\n",
       "    </tr>\n",
       "    <tr>\n",
       "      <th>5</th>\n",
       "      <td>2018-09-02 09:11:29.028560</td>\n",
       "      <td>g_F9WJJpRFB40oPJdoD2uA</td>\n",
       "      <td>price_range</td>\n",
       "      <td>2</td>\n",
       "    </tr>\n",
       "    <tr>\n",
       "      <th>6</th>\n",
       "      <td>2018-09-02 09:11:29.028560</td>\n",
       "      <td>g_F9WJJpRFB40oPJdoD2uA</td>\n",
       "      <td>rating</td>\n",
       "      <td>3.5</td>\n",
       "    </tr>\n",
       "    <tr>\n",
       "      <th>7</th>\n",
       "      <td>2018-09-02 09:11:29.028560</td>\n",
       "      <td>g_F9WJJpRFB40oPJdoD2uA</td>\n",
       "      <td>ratings_history</td>\n",
       "      <td>{'2016': [[0, 4.0], [1, 3.5], [2, 3.0], [3, 3....</td>\n",
       "    </tr>\n",
       "    <tr>\n",
       "      <th>8</th>\n",
       "      <td>2018-09-02 09:11:29.028560</td>\n",
       "      <td>g_F9WJJpRFB40oPJdoD2uA</td>\n",
       "      <td>review_count</td>\n",
       "      <td>365</td>\n",
       "    </tr>\n",
       "    <tr>\n",
       "      <th>9</th>\n",
       "      <td>2018-09-02 09:11:29.028560</td>\n",
       "      <td>g_F9WJJpRFB40oPJdoD2uA</td>\n",
       "      <td>yelp_alias</td>\n",
       "      <td>muk-eun-ji-new-york</td>\n",
       "    </tr>\n",
       "  </tbody>\n",
       "</table>\n",
       "</div>"
      ],
      "text/plain": [
       "              insert_datetime             yelp_biz_id        metric_name  \\\n",
       "0  2018-09-02 09:11:29.028560  g_F9WJJpRFB40oPJdoD2uA            address   \n",
       "1  2018-09-02 09:11:29.028560  g_F9WJJpRFB40oPJdoD2uA      business_name   \n",
       "2  2018-09-02 09:11:29.028560  g_F9WJJpRFB40oPJdoD2uA      category_list   \n",
       "3  2018-09-02 09:11:29.028560  g_F9WJJpRFB40oPJdoD2uA          is_closed   \n",
       "4  2018-09-02 09:11:29.028560  g_F9WJJpRFB40oPJdoD2uA  neighborhood_list   \n",
       "5  2018-09-02 09:11:29.028560  g_F9WJJpRFB40oPJdoD2uA        price_range   \n",
       "6  2018-09-02 09:11:29.028560  g_F9WJJpRFB40oPJdoD2uA             rating   \n",
       "7  2018-09-02 09:11:29.028560  g_F9WJJpRFB40oPJdoD2uA    ratings_history   \n",
       "8  2018-09-02 09:11:29.028560  g_F9WJJpRFB40oPJdoD2uA       review_count   \n",
       "9  2018-09-02 09:11:29.028560  g_F9WJJpRFB40oPJdoD2uA         yelp_alias   \n",
       "\n",
       "                                        metric_value  \n",
       "0             34 W 32nd St, Fl 1, New York, NY 10001  \n",
       "1                                         Muk Eun Ji  \n",
       "2                                 [Korean, Barbeque]  \n",
       "3                                               True  \n",
       "4                          [Koreatown, Midtown West]  \n",
       "5                                                  2  \n",
       "6                                                3.5  \n",
       "7  {'2016': [[0, 4.0], [1, 3.5], [2, 3.0], [3, 3....  \n",
       "8                                                365  \n",
       "9                                muk-eun-ji-new-york  "
      ]
     },
     "execution_count": 44,
     "metadata": {},
     "output_type": "execute_result"
    }
   ],
   "source": [
    "data.head(10)"
   ]
  },
  {
   "cell_type": "code",
   "execution_count": 45,
   "metadata": {},
   "outputs": [],
   "source": [
    "data = data.pivot(index='yelp_biz_id', columns='metric_name', values='metric_value')"
   ]
  },
  {
   "cell_type": "code",
   "execution_count": 46,
   "metadata": {},
   "outputs": [
    {
     "data": {
      "text/html": [
       "<div>\n",
       "<style scoped>\n",
       "    .dataframe tbody tr th:only-of-type {\n",
       "        vertical-align: middle;\n",
       "    }\n",
       "\n",
       "    .dataframe tbody tr th {\n",
       "        vertical-align: top;\n",
       "    }\n",
       "\n",
       "    .dataframe thead th {\n",
       "        text-align: right;\n",
       "    }\n",
       "</style>\n",
       "<table border=\"1\" class=\"dataframe\">\n",
       "  <thead>\n",
       "    <tr style=\"text-align: right;\">\n",
       "      <th>metric_name</th>\n",
       "      <th>address</th>\n",
       "      <th>business_name</th>\n",
       "      <th>category_list</th>\n",
       "      <th>is_closed</th>\n",
       "      <th>neighborhood_list</th>\n",
       "      <th>price_range</th>\n",
       "      <th>rating</th>\n",
       "      <th>ratings_history</th>\n",
       "      <th>review_count</th>\n",
       "      <th>yelp_alias</th>\n",
       "    </tr>\n",
       "    <tr>\n",
       "      <th>yelp_biz_id</th>\n",
       "      <th></th>\n",
       "      <th></th>\n",
       "      <th></th>\n",
       "      <th></th>\n",
       "      <th></th>\n",
       "      <th></th>\n",
       "      <th></th>\n",
       "      <th></th>\n",
       "      <th></th>\n",
       "      <th></th>\n",
       "    </tr>\n",
       "  </thead>\n",
       "  <tbody>\n",
       "    <tr>\n",
       "      <th>-7b17IgC8MNVWDM-JV0-Tw</th>\n",
       "      <td>9 E 53rd St, New York, NY 10022</td>\n",
       "      <td>Burger Heaven</td>\n",
       "      <td>[Burgers, Salad, Sandwiches]</td>\n",
       "      <td>False</td>\n",
       "      <td>[Midtown East]</td>\n",
       "      <td>2</td>\n",
       "      <td>3</td>\n",
       "      <td>{'2016': [[0, 2.0], [1, 2.0], [2, 2.0], [3, 2....</td>\n",
       "      <td>205</td>\n",
       "      <td>burger-heaven-new-york</td>\n",
       "    </tr>\n",
       "    <tr>\n",
       "      <th>-lgNzAEyFr8LCTuBTWnAMg</th>\n",
       "      <td>47 W 55th St, New York, NY 10019</td>\n",
       "      <td>Dim Sum Palace</td>\n",
       "      <td>[Dim Sum, Seafood, Noodles]</td>\n",
       "      <td>False</td>\n",
       "      <td>[Midtown West]</td>\n",
       "      <td>2</td>\n",
       "      <td>4</td>\n",
       "      <td>{'2017': [[6, 4.5], [7, 3.5], [8, 4.0], [9, 3....</td>\n",
       "      <td>157</td>\n",
       "      <td>dim-sum-palace-new-york-7</td>\n",
       "    </tr>\n",
       "    <tr>\n",
       "      <th>0087AC_NnFRtC0c9FsB9pw</th>\n",
       "      <td>17 Waverly Pl, New York, NY 10003</td>\n",
       "      <td>The Boil</td>\n",
       "      <td>[Cajun/Creole, Seafood]</td>\n",
       "      <td>False</td>\n",
       "      <td>[Greenwich Village]</td>\n",
       "      <td>2</td>\n",
       "      <td>4</td>\n",
       "      <td>{'2016': [[4, 4.5], [5, 4.5], [6, 4.5], [7, 4....</td>\n",
       "      <td>561</td>\n",
       "      <td>the-boil-new-york-5</td>\n",
       "    </tr>\n",
       "    <tr>\n",
       "      <th>0CjK3esfpFcxIopebzjFxA</th>\n",
       "      <td>9 Pell St, New York, NY 10013</td>\n",
       "      <td>Joe’s Shanghai</td>\n",
       "      <td>[Shanghainese, Seafood, Venues &amp; Event Spaces]</td>\n",
       "      <td>False</td>\n",
       "      <td>[Chinatown, Civic Center]</td>\n",
       "      <td>2</td>\n",
       "      <td>4</td>\n",
       "      <td>{'2016': [[0, 4.0], [1, 3.5], [2, 4.0], [3, 3....</td>\n",
       "      <td>5326</td>\n",
       "      <td>joes-shanghai-new-york-2</td>\n",
       "    </tr>\n",
       "    <tr>\n",
       "      <th>0LpWRWQx8Agm-mZtsOQ5gg</th>\n",
       "      <td>40 Wall St, New York, NY 10005</td>\n",
       "      <td>Neapolitan Express</td>\n",
       "      <td>[Pizza, Italian]</td>\n",
       "      <td>False</td>\n",
       "      <td>[Financial District]</td>\n",
       "      <td>2</td>\n",
       "      <td>3.5</td>\n",
       "      <td>{'2016': [[0, 3.0], [1, 3.0], [2, 3.0], [3, 4....</td>\n",
       "      <td>159</td>\n",
       "      <td>neapolitan-express-new-york-4</td>\n",
       "    </tr>\n",
       "  </tbody>\n",
       "</table>\n",
       "</div>"
      ],
      "text/plain": [
       "metric_name                                       address       business_name  \\\n",
       "yelp_biz_id                                                                     \n",
       "-7b17IgC8MNVWDM-JV0-Tw    9 E 53rd St, New York, NY 10022       Burger Heaven   \n",
       "-lgNzAEyFr8LCTuBTWnAMg   47 W 55th St, New York, NY 10019      Dim Sum Palace   \n",
       "0087AC_NnFRtC0c9FsB9pw  17 Waverly Pl, New York, NY 10003            The Boil   \n",
       "0CjK3esfpFcxIopebzjFxA      9 Pell St, New York, NY 10013      Joe’s Shanghai   \n",
       "0LpWRWQx8Agm-mZtsOQ5gg     40 Wall St, New York, NY 10005  Neapolitan Express   \n",
       "\n",
       "metric_name                                              category_list  \\\n",
       "yelp_biz_id                                                              \n",
       "-7b17IgC8MNVWDM-JV0-Tw                    [Burgers, Salad, Sandwiches]   \n",
       "-lgNzAEyFr8LCTuBTWnAMg                     [Dim Sum, Seafood, Noodles]   \n",
       "0087AC_NnFRtC0c9FsB9pw                         [Cajun/Creole, Seafood]   \n",
       "0CjK3esfpFcxIopebzjFxA  [Shanghainese, Seafood, Venues & Event Spaces]   \n",
       "0LpWRWQx8Agm-mZtsOQ5gg                                [Pizza, Italian]   \n",
       "\n",
       "metric_name            is_closed          neighborhood_list price_range  \\\n",
       "yelp_biz_id                                                               \n",
       "-7b17IgC8MNVWDM-JV0-Tw     False             [Midtown East]           2   \n",
       "-lgNzAEyFr8LCTuBTWnAMg     False             [Midtown West]           2   \n",
       "0087AC_NnFRtC0c9FsB9pw     False        [Greenwich Village]           2   \n",
       "0CjK3esfpFcxIopebzjFxA     False  [Chinatown, Civic Center]           2   \n",
       "0LpWRWQx8Agm-mZtsOQ5gg     False       [Financial District]           2   \n",
       "\n",
       "metric_name            rating  \\\n",
       "yelp_biz_id                     \n",
       "-7b17IgC8MNVWDM-JV0-Tw      3   \n",
       "-lgNzAEyFr8LCTuBTWnAMg      4   \n",
       "0087AC_NnFRtC0c9FsB9pw      4   \n",
       "0CjK3esfpFcxIopebzjFxA      4   \n",
       "0LpWRWQx8Agm-mZtsOQ5gg    3.5   \n",
       "\n",
       "metric_name                                               ratings_history  \\\n",
       "yelp_biz_id                                                                 \n",
       "-7b17IgC8MNVWDM-JV0-Tw  {'2016': [[0, 2.0], [1, 2.0], [2, 2.0], [3, 2....   \n",
       "-lgNzAEyFr8LCTuBTWnAMg  {'2017': [[6, 4.5], [7, 3.5], [8, 4.0], [9, 3....   \n",
       "0087AC_NnFRtC0c9FsB9pw  {'2016': [[4, 4.5], [5, 4.5], [6, 4.5], [7, 4....   \n",
       "0CjK3esfpFcxIopebzjFxA  {'2016': [[0, 4.0], [1, 3.5], [2, 4.0], [3, 3....   \n",
       "0LpWRWQx8Agm-mZtsOQ5gg  {'2016': [[0, 3.0], [1, 3.0], [2, 3.0], [3, 4....   \n",
       "\n",
       "metric_name            review_count                     yelp_alias  \n",
       "yelp_biz_id                                                         \n",
       "-7b17IgC8MNVWDM-JV0-Tw          205         burger-heaven-new-york  \n",
       "-lgNzAEyFr8LCTuBTWnAMg          157      dim-sum-palace-new-york-7  \n",
       "0087AC_NnFRtC0c9FsB9pw          561            the-boil-new-york-5  \n",
       "0CjK3esfpFcxIopebzjFxA         5326       joes-shanghai-new-york-2  \n",
       "0LpWRWQx8Agm-mZtsOQ5gg          159  neapolitan-express-new-york-4  "
      ]
     },
     "execution_count": 46,
     "metadata": {},
     "output_type": "execute_result"
    }
   ],
   "source": [
    "data.head()"
   ]
  },
  {
   "cell_type": "code",
   "execution_count": 47,
   "metadata": {},
   "outputs": [
    {
     "data": {
      "text/plain": [
       "dict_keys(['2016', '2017', '2018', '2014', '2015'])"
      ]
     },
     "execution_count": 47,
     "metadata": {},
     "output_type": "execute_result"
    }
   ],
   "source": [
    "data['ratings_history'][0].keys()"
   ]
  },
  {
   "cell_type": "code",
   "execution_count": 48,
   "metadata": {},
   "outputs": [
    {
     "data": {
      "text/plain": [
       "array([False, True], dtype=object)"
      ]
     },
     "execution_count": 48,
     "metadata": {},
     "output_type": "execute_result"
    }
   ],
   "source": [
    "data['is_closed'].unique()"
   ]
  },
  {
   "cell_type": "code",
   "execution_count": 49,
   "metadata": {},
   "outputs": [
    {
     "data": {
      "text/plain": [
       "bool"
      ]
     },
     "execution_count": 49,
     "metadata": {},
     "output_type": "execute_result"
    }
   ],
   "source": [
    "type(data['is_closed'][0])"
   ]
  },
  {
   "cell_type": "code",
   "execution_count": null,
   "metadata": {},
   "outputs": [],
   "source": []
  },
  {
   "cell_type": "markdown",
   "metadata": {},
   "source": [
    "### Data Tests"
   ]
  },
  {
   "cell_type": "code",
   "execution_count": null,
   "metadata": {},
   "outputs": [],
   "source": [
    "# TESTS:\n",
    "# test that ratings_distribution_text is a list of length 10\n",
    "# test that ratings_distribution data averages to rating"
   ]
  },
  {
   "cell_type": "code",
   "execution_count": null,
   "metadata": {},
   "outputs": [],
   "source": [
    "# ratings_distribution = pandas.DataFrame(ratings_distribution)\n",
    "# ratings_distribution['contrib'] = ratings_distribution['rating'] * ratings_distribution['count']\n",
    "# ratings_distribution['contrib'].sum()/ratings_distribution['count'].sum()"
   ]
  },
  {
   "cell_type": "code",
   "execution_count": null,
   "metadata": {},
   "outputs": [],
   "source": [
    "# # TODO: unique_values handling for collections-based columns (i.e. ratings_history)\n",
    "# unique_values = pandas.read_sql_query(\"\"\"\n",
    "#     select * from yelp_raw\n",
    "#     where metric_name in ('yelp_alias', 'business_name')\n",
    "#     \"\"\", connection) \\\n",
    "#       .groupby(['yelp_biz_id', 'metric_name']) \\\n",
    "#       .agg({'metric_value': ['unique']})\n",
    "# unique_values.columns = ['metric_value']"
   ]
  },
  {
   "cell_type": "code",
   "execution_count": null,
   "metadata": {},
   "outputs": [],
   "source": []
  }
 ],
 "metadata": {
  "kernelspec": {
   "display_name": "Python 3",
   "language": "python",
   "name": "python3"
  },
  "language_info": {
   "codemirror_mode": {
    "name": "ipython",
    "version": 3
   },
   "file_extension": ".py",
   "mimetype": "text/x-python",
   "name": "python",
   "nbconvert_exporter": "python",
   "pygments_lexer": "ipython3",
   "version": "3.6.5"
  },
  "toc": {
   "nav_menu": {},
   "number_sections": false,
   "sideBar": true,
   "skip_h1_title": false,
   "title_cell": "Table of Contents",
   "title_sidebar": "Contents",
   "toc_cell": false,
   "toc_position": {},
   "toc_section_display": true,
   "toc_window_display": false
  }
 },
 "nbformat": 4,
 "nbformat_minor": 2
}
