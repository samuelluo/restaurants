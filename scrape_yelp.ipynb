{
 "cells": [
  {
   "cell_type": "code",
   "execution_count": 1,
   "metadata": {},
   "outputs": [],
   "source": [
    "# PROBLEMS:\n",
    "# chefs club alias changed\n",
    "#  - store yelp_alias_list; have a way to find original"
   ]
  },
  {
   "cell_type": "code",
   "execution_count": 2,
   "metadata": {},
   "outputs": [],
   "source": [
    "#  - input data; load soup; get latest ratings history; get latest rating... (store history)\n",
    "#  - need to store point-in-time history for: rating, review count, price_range\n",
    "#  - only store changes (i.e. no new entry if business_name/rating/price_range does not change)\n",
    "#  - to access data: max(insert_date) as last_updated, [data]\n",
    "#  - for yelp_alias: [insert_date, yelp_biz_id (hopefully this is unique & doesn't change),\n",
    "#                     metric_name (yelp_alias), metric_value (new_alias)]\n",
    "#  - to retrieve all aliases: groupby(yelp_biz_id).make_list(yelp_alias)?\n",
    "#  - first: build latest version of data, in order to determine if a data point has changed"
   ]
  },
  {
   "cell_type": "code",
   "execution_count": 3,
   "metadata": {},
   "outputs": [],
   "source": [
    "# TODO:\n",
    "# date_added, date_visited\n",
    "# unittest\n",
    "# rating_better & rating_worse over time (are the restaurants better/worse after I went?)\n",
    "# test PSQL locally; store as JSON\n",
    "# check data before writing, if different throw error\n",
    "# - (i.e. new categories, historical ratings_history changes, address changes)"
   ]
  },
  {
   "cell_type": "code",
   "execution_count": 4,
   "metadata": {},
   "outputs": [],
   "source": [
    "# TESTS:\n",
    "# test that ratings_distribution_text is a list of length 10\n",
    "# test that ratings_distribution data averages to rating"
   ]
  },
  {
   "cell_type": "code",
   "execution_count": 5,
   "metadata": {},
   "outputs": [],
   "source": [
    "# date_visited_rating = ratings_history[date_visited.year][date_visited.month-1][1]\n",
    "# most_recent_rating = ratings_history[max(ratings_history.keys())][-1][1]"
   ]
  },
  {
   "cell_type": "code",
   "execution_count": 6,
   "metadata": {},
   "outputs": [],
   "source": [
    "# Imports\n",
    "import ast\n",
    "import bs4\n",
    "import collections\n",
    "import copy\n",
    "import datetime\n",
    "import json\n",
    "import pandas\n",
    "import re\n",
    "import requests\n",
    "import sqlite3\n",
    "import urllib"
   ]
  },
  {
   "cell_type": "markdown",
   "metadata": {},
   "source": [
    "### Define"
   ]
  },
  {
   "cell_type": "code",
   "execution_count": 7,
   "metadata": {},
   "outputs": [],
   "source": [
    "def get_yelp_alias(soup):\n",
    "    # TODO: test that input_yelp_alias == scraped_yelp_alias; url may get re-routed\n",
    "    yelp_alias = soup.find('meta', {'property': 'og:url'})\n",
    "    yelp_alias = yelp_alias['content'].split('/')[-1]\n",
    "    return yelp_alias"
   ]
  },
  {
   "cell_type": "code",
   "execution_count": 8,
   "metadata": {},
   "outputs": [],
   "source": [
    "def get_yelp_biz_id(soup):\n",
    "    yelp_biz_id = soup.find('meta', {'name': 'yelp-biz-id'})\n",
    "    yelp_biz_id = yelp_biz_id['content']\n",
    "    return yelp_biz_id"
   ]
  },
  {
   "cell_type": "code",
   "execution_count": 9,
   "metadata": {},
   "outputs": [],
   "source": [
    "def get_is_closed(soup):\n",
    "    is_closed = 'CLOSED' in soup.title.text\n",
    "    return is_closed"
   ]
  },
  {
   "cell_type": "code",
   "execution_count": 10,
   "metadata": {},
   "outputs": [],
   "source": [
    "def get_business_name(soup):\n",
    "    business_name = soup.find('h1', {'class': 'biz-page-title'})\n",
    "    business_name = business_name.text.strip()\n",
    "    return business_name"
   ]
  },
  {
   "cell_type": "code",
   "execution_count": 11,
   "metadata": {},
   "outputs": [],
   "source": [
    "def get_rating(soup):\n",
    "    rating = soup.find('div', {'class': 'i-stars'})\n",
    "    rating = rating['title'].split()[0]\n",
    "    rating = float(rating)\n",
    "    return rating"
   ]
  },
  {
   "cell_type": "code",
   "execution_count": 12,
   "metadata": {},
   "outputs": [],
   "source": [
    "def get_review_count(soup):\n",
    "    review_count = soup.find('span', {'class': 'review-count rating-qualifier'})\n",
    "    review_count = review_count.text.strip().split()[0]\n",
    "    review_count = int(review_count)\n",
    "    return review_count"
   ]
  },
  {
   "cell_type": "code",
   "execution_count": 13,
   "metadata": {},
   "outputs": [],
   "source": [
    "def get_ratings_history(soup):\n",
    "    ratings_history = soup.find('div', {'id': 'rating-details-modal-content'})\n",
    "    ratings_history = ratings_history['data-monthly-ratings']\n",
    "    ratings_history = ast.literal_eval(ratings_history)\n",
    "    ratings_history = {int(k):v for k,v in ratings_history.items()}\n",
    "    ratings_history = json.dumps(ratings_history)    # stringify for sqlite; note that JSON keys are strings \n",
    "    return ratings_history"
   ]
  },
  {
   "cell_type": "code",
   "execution_count": 14,
   "metadata": {},
   "outputs": [],
   "source": [
    "def get_ratings_distribution(soup):\n",
    "    # Convert HTML table to len-10 string list\n",
    "    text = soup.find('table', {'class': 'histogram'})\n",
    "    text = text.text.replace('\\n', ' ')\n",
    "    text = re.sub(' {2,}', ',', text)    # Replace 2+ whitespace with 1 comma\n",
    "    text = text.strip(',').split(',')\n",
    "    \n",
    "    # Convert string list to dictionary\n",
    "    ratings = [text[i] for i in range(len(text)) if i%2 == 0]\n",
    "    ratings = [i.split()[0] for i in ratings]\n",
    "    ratings = [int(i) for i in ratings]\n",
    "    counts  = [text[i] for i in range(len(text)) if i%2 != 0]\n",
    "    counts  = [int(i) for i in counts]\n",
    "    ratings_distribution = {'rating' : ratings, 'count' : counts}\n",
    "    ratings_distribution = json.dumps(ratings_distribution)    # stringify for sqlite\n",
    "    return ratings_distribution"
   ]
  },
  {
   "cell_type": "code",
   "execution_count": 15,
   "metadata": {},
   "outputs": [],
   "source": [
    "# ratings_distribution = pandas.DataFrame(ratings_distribution)\n",
    "# ratings_distribution['contrib'] = ratings_distribution['rating'] * ratings_distribution['count']\n",
    "# ratings_distribution['contrib'].sum()/ratings_distribution['count'].sum()"
   ]
  },
  {
   "cell_type": "code",
   "execution_count": 16,
   "metadata": {},
   "outputs": [],
   "source": [
    "def get_price_range(soup):\n",
    "    price_range = soup.find('span', {'class': 'business-attribute price-range'})\n",
    "    price_range = price_range.text.count('$')\n",
    "    return price_range"
   ]
  },
  {
   "cell_type": "code",
   "execution_count": 17,
   "metadata": {},
   "outputs": [],
   "source": [
    "def get_category_list(soup):\n",
    "    category_list = soup.find('span', {'class': 'category-str-list'})\n",
    "    category_list = category_list.contents\n",
    "    category_list = [i.string for i in category_list]\n",
    "    category_list = [i for i in category_list if '\\n' not in i]\n",
    "    category_list = json.dumps(category_list)    # stringify for sqlite\n",
    "    return category_list"
   ]
  },
  {
   "cell_type": "code",
   "execution_count": 18,
   "metadata": {},
   "outputs": [],
   "source": [
    "def get_address(soup):\n",
    "    address = soup.find('address')\n",
    "    address = copy.copy(address)    # Make a copy to prevent modifying the original document\n",
    "    for tag in address.find_all('br'):\n",
    "        tag.replace_with('\\n')\n",
    "    address = address.text.strip().split('\\n')\n",
    "    address = ', '.join(address)\n",
    "    return address"
   ]
  },
  {
   "cell_type": "code",
   "execution_count": 19,
   "metadata": {
    "scrolled": true
   },
   "outputs": [],
   "source": [
    "def get_neighborhood_list(soup):\n",
    "    neighborhood_list = soup.find('span', {'class': 'neighborhood-str-list'})\n",
    "    if neighborhood_list is not None:\n",
    "        neighborhood_list = neighborhood_list.text\n",
    "        neighborhood_list = neighborhood_list.strip().split(', ')\n",
    "        neighborhood_list = json.dumps(neighborhood_list)    # stringify for sqlite\n",
    "    return neighborhood_list"
   ]
  },
  {
   "cell_type": "markdown",
   "metadata": {},
   "source": [
    "### Testing"
   ]
  },
  {
   "cell_type": "code",
   "execution_count": 20,
   "metadata": {},
   "outputs": [],
   "source": [
    "yelp_alias = 'momofuku-má-pêche-new-york-2'"
   ]
  },
  {
   "cell_type": "code",
   "execution_count": 21,
   "metadata": {},
   "outputs": [
    {
     "data": {
      "text/plain": [
       "'momofuku-m%C3%A1-p%C3%AAche-new-york-2'"
      ]
     },
     "execution_count": 21,
     "metadata": {},
     "output_type": "execute_result"
    }
   ],
   "source": [
    "urllib.parse.quote_plus(yelp_alias)"
   ]
  },
  {
   "cell_type": "code",
   "execution_count": 22,
   "metadata": {},
   "outputs": [],
   "source": [
    "url = 'https://www.yelp.com/biz/{}'.format(yelp_alias)\n",
    "r = requests.get(url, timeout=5)\n",
    "soup = bs4.BeautifulSoup(r.text, 'lxml')"
   ]
  },
  {
   "cell_type": "code",
   "execution_count": 23,
   "metadata": {},
   "outputs": [
    {
     "data": {
      "text/plain": [
       "'momofuku-m%C3%A1-p%C3%AAche-new-york-2'"
      ]
     },
     "execution_count": 23,
     "metadata": {},
     "output_type": "execute_result"
    }
   ],
   "source": [
    "yelp_alias = soup.find('meta', {'property': 'og:url'})\n",
    "yelp_alias = yelp_alias['content'].split('/')[-1]\n",
    "yelp_alias"
   ]
  },
  {
   "cell_type": "code",
   "execution_count": 24,
   "metadata": {},
   "outputs": [
    {
     "data": {
      "text/plain": [
       "3"
      ]
     },
     "execution_count": 24,
     "metadata": {},
     "output_type": "execute_result"
    }
   ],
   "source": [
    "price_range = soup.find('span', {'class': 'business-attribute price-range'})\n",
    "price_range = price_range.text.count('$')\n",
    "price_range"
   ]
  },
  {
   "cell_type": "code",
   "execution_count": 25,
   "metadata": {},
   "outputs": [
    {
     "data": {
      "text/plain": [
       "3.5"
      ]
     },
     "execution_count": 25,
     "metadata": {},
     "output_type": "execute_result"
    }
   ],
   "source": [
    "rating = soup.find('div', {'class': 'i-stars'})\n",
    "rating = rating['title'].split()[0]\n",
    "rating = float(rating)\n",
    "rating"
   ]
  },
  {
   "cell_type": "code",
   "execution_count": 26,
   "metadata": {},
   "outputs": [
    {
     "data": {
      "text/plain": [
       "'Chambers Hotel, 15 W 56th St, New York, NY 10019'"
      ]
     },
     "execution_count": 26,
     "metadata": {},
     "output_type": "execute_result"
    }
   ],
   "source": [
    "address = soup.find('address')\n",
    "address = copy.copy(address)    # Make a copy to prevent modifying the original document\n",
    "for tag in address.find_all('br'):\n",
    "    tag.replace_with('\\n')\n",
    "address = address.text.strip().split('\\n')\n",
    "address = ', '.join(address)\n",
    "address"
   ]
  },
  {
   "cell_type": "code",
   "execution_count": null,
   "metadata": {},
   "outputs": [],
   "source": []
  },
  {
   "cell_type": "markdown",
   "metadata": {},
   "source": [
    "### Run"
   ]
  },
  {
   "cell_type": "code",
   "execution_count": 34,
   "metadata": {},
   "outputs": [],
   "source": [
    "yelp_aliases = pandas.read_csv('yelp_aliases.csv')"
   ]
  },
  {
   "cell_type": "code",
   "execution_count": 35,
   "metadata": {},
   "outputs": [],
   "source": [
    "yelp_aliases['date_added'] = yelp_aliases['date_added'].apply(lambda x: None if x == '-' else x)\n",
    "yelp_aliases['date_added'] = pandas.to_datetime(yelp_aliases['date_added'])\n",
    "yelp_aliases['date_visited'] = pandas.to_datetime(yelp_aliases['date_visited'])"
   ]
  },
  {
   "cell_type": "code",
   "execution_count": 36,
   "metadata": {},
   "outputs": [],
   "source": [
    "# I did not add aliases for some food carts & bakeries; drop them for now\n",
    "yelp_aliases = yelp_aliases[yelp_aliases['yelp_alias'].notna()]"
   ]
  },
  {
   "cell_type": "code",
   "execution_count": 37,
   "metadata": {},
   "outputs": [],
   "source": [
    "# # PROBLEM: chefs club alias changed\n",
    "# connection = sqlite3.connect('restaurants.db')\n",
    "# already_done = pandas.read_sql_query('select * from restaurants', connection)\n",
    "# already_done = already_done['yelp_alias'].tolist()\n",
    "# not_done = yelp_aliases['yelp_alias'].apply(\n",
    "#     lambda x: urllib.parse.quote_plus(x) not in already_done)\n",
    "# yelp_aliases = yelp_aliases[not_done]"
   ]
  },
  {
   "cell_type": "code",
   "execution_count": 38,
   "metadata": {},
   "outputs": [],
   "source": [
    "connection = sqlite3.connect('restaurants.db')\n",
    "tables = pandas.read_sql_query(\"\"\"\n",
    "select * from sqlite_master\n",
    "where type = 'table'\"\"\", connection)\n",
    "if 'yelp_raw' not in tables['tbl_name'].values:\n",
    "    pass"
   ]
  },
  {
   "cell_type": "code",
   "execution_count": 39,
   "metadata": {},
   "outputs": [],
   "source": [
    "yelp_aliases = yelp_aliases.head()"
   ]
  },
  {
   "cell_type": "code",
   "execution_count": 40,
   "metadata": {},
   "outputs": [
    {
     "name": "stdout",
     "output_type": "stream",
     "text": [
      "['muk-eun-ji-new-york', 'Muk Eun Ji']\n",
      "['ramenco-new-york-2', 'RamenCo']\n",
      "['blt-bar-and-grill-new-york', 'BLT Bar & Grill']\n",
      "['bills-bar-and-burger-downtown-new-york', 'Bill’s Bar & Burger Downtown']\n",
      "['ruchi-new-york-2', 'Ruchi']\n"
     ]
    }
   ],
   "source": [
    "# Iterate\n",
    "all_data = pandas.DataFrame()\n",
    "for index, row in yelp_aliases.iterrows():\n",
    "    # Set up soup\n",
    "    yelp_alias = row['yelp_alias']\n",
    "    url = 'https://www.yelp.com/biz/{}'.format(yelp_alias)\n",
    "    r = requests.get(url, timeout=5)\n",
    "    soup = bs4.BeautifulSoup(r.text, 'lxml')\n",
    "    \n",
    "    # Get data\n",
    "    data = collections.OrderedDict()\n",
    "    data['yelp_alias'] = get_yelp_alias(soup)\n",
    "    data['is_closed'] = get_is_closed(soup)\n",
    "    data['business_name'] = get_business_name(soup)\n",
    "    data['rating'] = get_rating(soup)\n",
    "    data['review_count'] = get_review_count(soup)\n",
    "    data['ratings_history'] = get_ratings_history(soup)\n",
    "    data['price_range'] = get_price_range(soup)\n",
    "    data['category_list'] = get_category_list(soup)\n",
    "    data['address'] = get_address(soup)\n",
    "    data['neighborhood_list'] = get_neighborhood_list(soup)\n",
    "    print([data['yelp_alias'], data['business_name']])\n",
    "\n",
    "    # Melt\n",
    "    data = pandas.Series(data).to_frame().T\n",
    "    data = data.melt()\n",
    "    data.columns = ['metric_name', 'metric_value']\n",
    "    data.insert(0, 'yelp_biz_id', get_yelp_biz_id(soup))\n",
    "    data.insert(0, 'insert_datetime', datetime.datetime.now())\n",
    "    \n",
    "    # Append\n",
    "    all_data = all_data.append(data, ignore_index=True)"
   ]
  },
  {
   "cell_type": "code",
   "execution_count": 43,
   "metadata": {},
   "outputs": [
    {
     "data": {
      "text/html": [
       "<div>\n",
       "<style scoped>\n",
       "    .dataframe tbody tr th:only-of-type {\n",
       "        vertical-align: middle;\n",
       "    }\n",
       "\n",
       "    .dataframe tbody tr th {\n",
       "        vertical-align: top;\n",
       "    }\n",
       "\n",
       "    .dataframe thead th {\n",
       "        text-align: right;\n",
       "    }\n",
       "</style>\n",
       "<table border=\"1\" class=\"dataframe\">\n",
       "  <thead>\n",
       "    <tr style=\"text-align: right;\">\n",
       "      <th></th>\n",
       "      <th>insert_datetime</th>\n",
       "      <th>yelp_biz_id</th>\n",
       "      <th>metric_name</th>\n",
       "      <th>metric_value</th>\n",
       "    </tr>\n",
       "  </thead>\n",
       "  <tbody>\n",
       "    <tr>\n",
       "      <th>0</th>\n",
       "      <td>2018-08-27 23:56:54.623531</td>\n",
       "      <td>g_F9WJJpRFB40oPJdoD2uA</td>\n",
       "      <td>yelp_alias</td>\n",
       "      <td>muk-eun-ji-new-york</td>\n",
       "    </tr>\n",
       "    <tr>\n",
       "      <th>1</th>\n",
       "      <td>2018-08-27 23:56:54.623531</td>\n",
       "      <td>g_F9WJJpRFB40oPJdoD2uA</td>\n",
       "      <td>is_closed</td>\n",
       "      <td>True</td>\n",
       "    </tr>\n",
       "    <tr>\n",
       "      <th>2</th>\n",
       "      <td>2018-08-27 23:56:54.623531</td>\n",
       "      <td>g_F9WJJpRFB40oPJdoD2uA</td>\n",
       "      <td>business_name</td>\n",
       "      <td>Muk Eun Ji</td>\n",
       "    </tr>\n",
       "    <tr>\n",
       "      <th>3</th>\n",
       "      <td>2018-08-27 23:56:54.623531</td>\n",
       "      <td>g_F9WJJpRFB40oPJdoD2uA</td>\n",
       "      <td>rating</td>\n",
       "      <td>3.5</td>\n",
       "    </tr>\n",
       "    <tr>\n",
       "      <th>4</th>\n",
       "      <td>2018-08-27 23:56:54.623531</td>\n",
       "      <td>g_F9WJJpRFB40oPJdoD2uA</td>\n",
       "      <td>review_count</td>\n",
       "      <td>365</td>\n",
       "    </tr>\n",
       "    <tr>\n",
       "      <th>5</th>\n",
       "      <td>2018-08-27 23:56:54.623531</td>\n",
       "      <td>g_F9WJJpRFB40oPJdoD2uA</td>\n",
       "      <td>ratings_history</td>\n",
       "      <td>{\"2016\": [[0, 4.0], [1, 3.5], [2, 3.0], [3, 3....</td>\n",
       "    </tr>\n",
       "    <tr>\n",
       "      <th>6</th>\n",
       "      <td>2018-08-27 23:56:54.623531</td>\n",
       "      <td>g_F9WJJpRFB40oPJdoD2uA</td>\n",
       "      <td>price_range</td>\n",
       "      <td>2</td>\n",
       "    </tr>\n",
       "    <tr>\n",
       "      <th>7</th>\n",
       "      <td>2018-08-27 23:56:54.623531</td>\n",
       "      <td>g_F9WJJpRFB40oPJdoD2uA</td>\n",
       "      <td>category_list</td>\n",
       "      <td>[\"Korean\", \"Barbeque\"]</td>\n",
       "    </tr>\n",
       "    <tr>\n",
       "      <th>8</th>\n",
       "      <td>2018-08-27 23:56:54.623531</td>\n",
       "      <td>g_F9WJJpRFB40oPJdoD2uA</td>\n",
       "      <td>address</td>\n",
       "      <td>34 W 32nd St, Fl 1, New York, NY 10001</td>\n",
       "    </tr>\n",
       "    <tr>\n",
       "      <th>9</th>\n",
       "      <td>2018-08-27 23:56:54.623531</td>\n",
       "      <td>g_F9WJJpRFB40oPJdoD2uA</td>\n",
       "      <td>neighborhood_list</td>\n",
       "      <td>[\"Koreatown\", \"Midtown West\"]</td>\n",
       "    </tr>\n",
       "    <tr>\n",
       "      <th>10</th>\n",
       "      <td>2018-08-27 23:56:58.060550</td>\n",
       "      <td>XBuzf_C9ewVerOQ0pEpjTA</td>\n",
       "      <td>yelp_alias</td>\n",
       "      <td>ramenco-new-york-2</td>\n",
       "    </tr>\n",
       "    <tr>\n",
       "      <th>11</th>\n",
       "      <td>2018-08-27 23:56:58.060550</td>\n",
       "      <td>XBuzf_C9ewVerOQ0pEpjTA</td>\n",
       "      <td>is_closed</td>\n",
       "      <td>True</td>\n",
       "    </tr>\n",
       "    <tr>\n",
       "      <th>12</th>\n",
       "      <td>2018-08-27 23:56:58.060550</td>\n",
       "      <td>XBuzf_C9ewVerOQ0pEpjTA</td>\n",
       "      <td>business_name</td>\n",
       "      <td>RamenCo</td>\n",
       "    </tr>\n",
       "    <tr>\n",
       "      <th>13</th>\n",
       "      <td>2018-08-27 23:56:58.060550</td>\n",
       "      <td>XBuzf_C9ewVerOQ0pEpjTA</td>\n",
       "      <td>rating</td>\n",
       "      <td>3</td>\n",
       "    </tr>\n",
       "    <tr>\n",
       "      <th>14</th>\n",
       "      <td>2018-08-27 23:56:58.060550</td>\n",
       "      <td>XBuzf_C9ewVerOQ0pEpjTA</td>\n",
       "      <td>review_count</td>\n",
       "      <td>229</td>\n",
       "    </tr>\n",
       "  </tbody>\n",
       "</table>\n",
       "</div>"
      ],
      "text/plain": [
       "              insert_datetime             yelp_biz_id        metric_name  \\\n",
       "0  2018-08-27 23:56:54.623531  g_F9WJJpRFB40oPJdoD2uA         yelp_alias   \n",
       "1  2018-08-27 23:56:54.623531  g_F9WJJpRFB40oPJdoD2uA          is_closed   \n",
       "2  2018-08-27 23:56:54.623531  g_F9WJJpRFB40oPJdoD2uA      business_name   \n",
       "3  2018-08-27 23:56:54.623531  g_F9WJJpRFB40oPJdoD2uA             rating   \n",
       "4  2018-08-27 23:56:54.623531  g_F9WJJpRFB40oPJdoD2uA       review_count   \n",
       "5  2018-08-27 23:56:54.623531  g_F9WJJpRFB40oPJdoD2uA    ratings_history   \n",
       "6  2018-08-27 23:56:54.623531  g_F9WJJpRFB40oPJdoD2uA        price_range   \n",
       "7  2018-08-27 23:56:54.623531  g_F9WJJpRFB40oPJdoD2uA      category_list   \n",
       "8  2018-08-27 23:56:54.623531  g_F9WJJpRFB40oPJdoD2uA            address   \n",
       "9  2018-08-27 23:56:54.623531  g_F9WJJpRFB40oPJdoD2uA  neighborhood_list   \n",
       "10 2018-08-27 23:56:58.060550  XBuzf_C9ewVerOQ0pEpjTA         yelp_alias   \n",
       "11 2018-08-27 23:56:58.060550  XBuzf_C9ewVerOQ0pEpjTA          is_closed   \n",
       "12 2018-08-27 23:56:58.060550  XBuzf_C9ewVerOQ0pEpjTA      business_name   \n",
       "13 2018-08-27 23:56:58.060550  XBuzf_C9ewVerOQ0pEpjTA             rating   \n",
       "14 2018-08-27 23:56:58.060550  XBuzf_C9ewVerOQ0pEpjTA       review_count   \n",
       "\n",
       "                                         metric_value  \n",
       "0                                 muk-eun-ji-new-york  \n",
       "1                                                True  \n",
       "2                                          Muk Eun Ji  \n",
       "3                                                 3.5  \n",
       "4                                                 365  \n",
       "5   {\"2016\": [[0, 4.0], [1, 3.5], [2, 3.0], [3, 3....  \n",
       "6                                                   2  \n",
       "7                              [\"Korean\", \"Barbeque\"]  \n",
       "8              34 W 32nd St, Fl 1, New York, NY 10001  \n",
       "9                       [\"Koreatown\", \"Midtown West\"]  \n",
       "10                                 ramenco-new-york-2  \n",
       "11                                               True  \n",
       "12                                            RamenCo  \n",
       "13                                                  3  \n",
       "14                                                229  "
      ]
     },
     "execution_count": 43,
     "metadata": {},
     "output_type": "execute_result"
    }
   ],
   "source": [
    "all_data.head(15)"
   ]
  },
  {
   "cell_type": "code",
   "execution_count": null,
   "metadata": {},
   "outputs": [],
   "source": []
  },
  {
   "cell_type": "markdown",
   "metadata": {},
   "source": [
    "### Write to DB"
   ]
  },
  {
   "cell_type": "code",
   "execution_count": null,
   "metadata": {},
   "outputs": [],
   "source": [
    "connection = sqlite3.connect('restaurants.db')\n",
    "all_data.to_sql('yelp_raw', connection, if_exists='append', index=False)"
   ]
  },
  {
   "cell_type": "code",
   "execution_count": null,
   "metadata": {},
   "outputs": [],
   "source": [
    "# data.pivot(index='yelp_biz_id', columns='metric_name', values='metric_value')"
   ]
  },
  {
   "cell_type": "code",
   "execution_count": null,
   "metadata": {},
   "outputs": [],
   "source": [
    "# # TODO: check data is valid before writing to DB\n",
    "# connection = sqlite3.connect('restaurants.db')\n",
    "# all_data.to_sql('restaurants', connection, if_exists='replace', index=False)"
   ]
  },
  {
   "cell_type": "code",
   "execution_count": null,
   "metadata": {},
   "outputs": [],
   "source": []
  },
  {
   "cell_type": "markdown",
   "metadata": {},
   "source": [
    "### Read from DB"
   ]
  },
  {
   "cell_type": "code",
   "execution_count": null,
   "metadata": {},
   "outputs": [],
   "source": [
    "data = pandas.read_sql_query('select * from restaurants', connection)"
   ]
  },
  {
   "cell_type": "code",
   "execution_count": null,
   "metadata": {},
   "outputs": [],
   "source": [
    "data.head()"
   ]
  },
  {
   "cell_type": "code",
   "execution_count": null,
   "metadata": {},
   "outputs": [],
   "source": [
    "data['ratings_history'] = data['ratings_history'].apply(ast.literal_eval)"
   ]
  },
  {
   "cell_type": "code",
   "execution_count": null,
   "metadata": {},
   "outputs": [],
   "source": [
    "data['ratings_history'][0].keys()"
   ]
  },
  {
   "cell_type": "code",
   "execution_count": null,
   "metadata": {
    "scrolled": true
   },
   "outputs": [],
   "source": [
    "connection = sqlite3.connect('restaurants.db')\n",
    "pandas.read_sql_query('select * from sqlite_master', connection)"
   ]
  },
  {
   "cell_type": "code",
   "execution_count": null,
   "metadata": {},
   "outputs": [],
   "source": []
  }
 ],
 "metadata": {
  "kernelspec": {
   "display_name": "Python 3",
   "language": "python",
   "name": "python3"
  },
  "language_info": {
   "codemirror_mode": {
    "name": "ipython",
    "version": 3
   },
   "file_extension": ".py",
   "mimetype": "text/x-python",
   "name": "python",
   "nbconvert_exporter": "python",
   "pygments_lexer": "ipython3",
   "version": "3.6.5"
  },
  "toc": {
   "nav_menu": {},
   "number_sections": false,
   "sideBar": true,
   "skip_h1_title": false,
   "title_cell": "Table of Contents",
   "title_sidebar": "Contents",
   "toc_cell": false,
   "toc_position": {},
   "toc_section_display": true,
   "toc_window_display": false
  }
 },
 "nbformat": 4,
 "nbformat_minor": 2
}
